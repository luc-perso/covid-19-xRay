{
 "cells": [
  {
   "attachments": {},
   "cell_type": "markdown",
   "metadata": {},
   "source": [
    "# <center>New base with global hist equalization</center>"
   ]
  },
  {
   "cell_type": "markdown",
   "id": "aomJUY_gvXed",
   "metadata": {
    "id": "aomJUY_gvXed"
   },
   "source": [
    "Initialise code for google colab\n",
    "\n",
    "Mount google drive"
   ]
  },
  {
   "cell_type": "code",
   "execution_count": null,
   "id": "GAjcLhjCgpxv",
   "metadata": {
    "colab": {
     "base_uri": "https://localhost:8080/"
    },
    "executionInfo": {
     "elapsed": 4450,
     "status": "ok",
     "timestamp": 1671446275823,
     "user": {
      "displayName": "Luc Thomas",
      "userId": "17860019511086541433"
     },
     "user_tz": -60
    },
    "id": "GAjcLhjCgpxv",
    "outputId": "e34c2966-478f-439f-c4bb-ea2036820438"
   },
   "outputs": [],
   "source": [
    "from google.colab import drive\n",
    "drive.mount('/content/drive', force_remount=True)\n"
   ]
  },
  {
   "cell_type": "markdown",
   "id": "J3iW3Uff2Jyh",
   "metadata": {
    "id": "J3iW3Uff2Jyh"
   },
   "source": [
    "Create data base files under google colab environment"
   ]
  },
  {
   "cell_type": "code",
   "execution_count": null,
   "id": "D1ubGnuD2CXZ",
   "metadata": {
    "colab": {
     "base_uri": "https://localhost:8080/"
    },
    "executionInfo": {
     "elapsed": 88494,
     "status": "ok",
     "timestamp": 1671446369482,
     "user": {
      "displayName": "Luc Thomas",
      "userId": "17860019511086541433"
     },
     "user_tz": -60
    },
    "id": "D1ubGnuD2CXZ",
    "outputId": "79fec16a-f91c-413d-f571-dd30d3435e5f"
   },
   "outputs": [],
   "source": [
    "!unzip '/content/drive/MyDrive/data.zip' -d '/content/'"
   ]
  },
  {
   "cell_type": "markdown",
   "id": "sMjhaRhC-HQM",
   "metadata": {
    "id": "sMjhaRhC-HQM"
   },
   "source": [
    "For Luc because my archive made on mac create a __MACOSX folder"
   ]
  },
  {
   "cell_type": "code",
   "execution_count": null,
   "id": "iAyxXHqB935f",
   "metadata": {
    "executionInfo": {
     "elapsed": 2940,
     "status": "ok",
     "timestamp": 1671446392319,
     "user": {
      "displayName": "Luc Thomas",
      "userId": "17860019511086541433"
     },
     "user_tz": -60
    },
    "id": "iAyxXHqB935f"
   },
   "outputs": [],
   "source": [
    "%rm -rf /content/__MACOSX"
   ]
  },
  {
   "attachments": {},
   "cell_type": "markdown",
   "id": "nnQuhv17x7hK",
   "metadata": {
    "id": "nnQuhv17x7hK"
   },
   "source": [
    "Define working directory to our jupyter repertory:\n",
    "* because path to the different repertories (./data, ./output...) are define relatevly to jupyter one\n",
    "* let import _mypath which add ./lib to python path in order to import our own define libraries\n"
   ]
  },
  {
   "cell_type": "code",
   "execution_count": null,
   "id": "9WqQG1rjjHGq",
   "metadata": {
    "colab": {
     "base_uri": "https://localhost:8080/"
    },
    "executionInfo": {
     "elapsed": 268,
     "status": "ok",
     "timestamp": 1671446474973,
     "user": {
      "displayName": "Luc Thomas",
      "userId": "17860019511086541433"
     },
     "user_tz": -60
    },
    "id": "9WqQG1rjjHGq",
    "outputId": "89a23162-4e46-4cd1-f96d-5c67bb7996aa"
   },
   "outputs": [],
   "source": [
    "%cd /content/gdrive/MyDrive/covid-19-xRay/jupyter"
   ]
  },
  {
   "cell_type": "code",
   "execution_count": null,
   "id": "billion-income",
   "metadata": {
    "id": "billion-income"
   },
   "outputs": [],
   "source": [
    "import _mypath\n",
    "import os\n",
    "import pandas as pd\n",
    "import numpy as np\n",
    "import cv2 # import OpenCV\n"
   ]
  },
  {
   "cell_type": "markdown",
   "id": "76855cab",
   "metadata": {
    "id": "76855cab"
   },
   "source": [
    "Build paths and variables for reading data base hierarchy"
   ]
  },
  {
   "cell_type": "code",
   "execution_count": null,
   "id": "X9Ngq0q01zxH",
   "metadata": {
    "id": "X9Ngq0q01zxH"
   },
   "outputs": [],
   "source": [
    "# for local use\n",
    "db_work_dir = '..'\n"
   ]
  },
  {
   "cell_type": "code",
   "execution_count": null,
   "id": "KsCYZqOl137k",
   "metadata": {
    "executionInfo": {
     "elapsed": 204,
     "status": "ok",
     "timestamp": 1671446525765,
     "user": {
      "displayName": "Luc Thomas",
      "userId": "17860019511086541433"
     },
     "user_tz": -60
    },
    "id": "KsCYZqOl137k"
   },
   "outputs": [],
   "source": [
    "# for google colab use\n",
    "db_work_dir = '/content'"
   ]
  },
  {
   "cell_type": "code",
   "execution_count": null,
   "metadata": {},
   "outputs": [],
   "source": [
    "db_name = 'data'\n",
    "db_new_name = 'data_equalize'\n",
    "db_path = os.path.join(db_work_dir, db_name)\n",
    "db_new_path = os.path.join(db_work_dir, db_new_name)\n"
   ]
  },
  {
   "cell_type": "markdown",
   "id": "fec096c7",
   "metadata": {
    "id": "fec096c7"
   },
   "source": [
    "Structure to manage paths in data base"
   ]
  },
  {
   "cell_type": "code",
   "execution_count": null,
   "id": "a1271f47",
   "metadata": {
    "executionInfo": {
     "elapsed": 207,
     "status": "ok",
     "timestamp": 1671446527378,
     "user": {
      "displayName": "Luc Thomas",
      "userId": "17860019511086541433"
     },
     "user_tz": -60
    },
    "id": "a1271f47"
   },
   "outputs": [],
   "source": [
    "from database.path_origin_data import build_data_paths \n",
    "from database.path_origin_data import lung_name, infection_name\n",
    "from database.path_origin_data import train_name, test_name, valid_name\n",
    "from database.path_origin_data import normal_name, covid_name, no_covid_name\n",
    "from database.path_origin_data import images_name, lung_mask_name, infection_mask_name\n",
    "\n",
    "data_paths = build_data_paths(db_path=db_path)\n",
    "idx = pd.IndexSlice\n"
   ]
  },
  {
   "attachments": {},
   "cell_type": "markdown",
   "id": "f649bc1b",
   "metadata": {
    "id": "f649bc1b"
   },
   "source": [
    "Equalize data base images"
   ]
  },
  {
   "cell_type": "code",
   "execution_count": null,
   "id": "fe728221",
   "metadata": {
    "executionInfo": {
     "elapsed": 284779,
     "status": "ok",
     "timestamp": 1671446823323,
     "user": {
      "displayName": "Luc Thomas",
      "userId": "17860019511086541433"
     },
     "user_tz": -60
    },
    "id": "fe728221"
   },
   "outputs": [],
   "source": [
    "for path in data_paths.loc[idx[:,:,:,images_name]]['path']:\n",
    "    full_file_path = os.path.join(db_path, path)\n",
    "    full_output_path = os.path.join(db_new_path, path)\n",
    "    #print(full_output_path)\n",
    "    if not os.path.exists(full_output_path):\n",
    "        os.makedirs(full_output_path, exist_ok=True)\n",
    "    \n",
    "    #print(full_file_path)\n",
    "    file_names = os.listdir(full_file_path)\n",
    "    \n",
    "    stats_list = []\n",
    "    for i, file_name in enumerate(file_names[:]):\n",
    "        full_file_name = os.path.join(full_file_path, file_name)\n",
    "        full_output_file_name = os.path.join(full_output_path, file_name)\n",
    "\n",
    "        # print(full_file_name)\n",
    "        # print(full_output_file_name)\n",
    "        image = cv2.imread(full_file_name, 0)    \n",
    "        image = cv2.equalizeHist(image)\n",
    "        \n",
    "        cv2.imwrite(full_output_file_name, image)        \n"
   ]
  },
  {
   "attachments": {},
   "cell_type": "markdown",
   "metadata": {},
   "source": [
    "Commande line to zip and move the results data"
   ]
  },
  {
   "cell_type": "code",
   "execution_count": null,
   "metadata": {},
   "outputs": [],
   "source": [
    "zip_full_file_name = os.path.join(db_new_path, '..', db_new_name+'.zip')"
   ]
  },
  {
   "cell_type": "code",
   "execution_count": null,
   "metadata": {},
   "outputs": [],
   "source": [
    "!zip -r {zip_full_file_name} {db_new_path}"
   ]
  },
  {
   "cell_type": "code",
   "execution_count": null,
   "metadata": {},
   "outputs": [],
   "source": [
    "!mv {zip_full_file_name} {os.path.join('..')}"
   ]
  }
 ],
 "metadata": {
  "kernelspec": {
   "display_name": "covid-19-xRay-gI8RPtYc",
   "language": "python",
   "name": "python3"
  },
  "language_info": {
   "codemirror_mode": {
    "name": "ipython",
    "version": 3
   },
   "file_extension": ".py",
   "mimetype": "text/x-python",
   "name": "python",
   "nbconvert_exporter": "python",
   "pygments_lexer": "ipython3",
   "version": "3.10.8 (main, Nov 15 2022, 05:25:54) [Clang 14.0.0 (clang-1400.0.29.202)]"
  },
  "orig_nbformat": 4,
  "vscode": {
   "interpreter": {
    "hash": "ec449b28ee1275c8ed3472cdab9bc054b62d41bc2731e9c066fdcbfc125fb022"
   }
  }
 },
 "nbformat": 4,
 "nbformat_minor": 2
}
