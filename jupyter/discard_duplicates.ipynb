{
 "cells": [
  {
   "cell_type": "markdown",
   "id": "5e7ee053",
   "metadata": {
    "id": "5e7ee053"
   },
   "source": [
    "Discard duplicates / outliers from data base"
   ]
  },
  {
   "cell_type": "code",
   "execution_count": null,
   "metadata": {},
   "outputs": [],
   "source": [
    "import os\n",
    "import shutil\n"
   ]
  },
  {
   "cell_type": "code",
   "execution_count": null,
   "id": "bea93da6",
   "metadata": {
    "executionInfo": {
     "elapsed": 32,
     "status": "ok",
     "timestamp": 1671447360109,
     "user": {
      "displayName": "Luc Thomas",
      "userId": "17860019511086541433"
     },
     "user_tz": -60
    },
    "id": "bea93da6"
   },
   "outputs": [],
   "source": [
    "def move(file_names, db_path):\n",
    "\n",
    "  db_path = db_path + '/'\n",
    "  print(db_path)\n",
    "  for file_name in file_names:\n",
    "    output_file_name = file_name.replace(db_path, '')\n",
    "    output_file_name = os.path.join(db_path, 'discard', output_file_name)\n",
    "\n",
    "    full_output_path = os.path.dirname(output_file_name)\n",
    "    if not os.path.exists(full_output_path):\n",
    "        os.makedirs(full_output_path, exist_ok=True)\n",
    "\n",
    "    shutil.move(file_name, output_file_name)\n",
    "  \n",
    "  return\n",
    "\n"
   ]
  },
  {
   "cell_type": "code",
   "execution_count": null,
   "metadata": {},
   "outputs": [],
   "source": [
    "db_name = 'data'\n",
    "# db_name = 'data_equalize'"
   ]
  },
  {
   "cell_type": "code",
   "execution_count": null,
   "id": "X9Ngq0q01zxH",
   "metadata": {
    "id": "X9Ngq0q01zxH"
   },
   "outputs": [],
   "source": [
    "# for local use\n",
    "db_work_dir = '..'\n"
   ]
  },
  {
   "cell_type": "code",
   "execution_count": null,
   "id": "KsCYZqOl137k",
   "metadata": {
    "executionInfo": {
     "elapsed": 204,
     "status": "ok",
     "timestamp": 1671446525765,
     "user": {
      "displayName": "Luc Thomas",
      "userId": "17860019511086541433"
     },
     "user_tz": -60
    },
    "id": "KsCYZqOl137k"
   },
   "outputs": [],
   "source": [
    "# for google colab use\n",
    "db_work_dir = '/content'"
   ]
  },
  {
   "cell_type": "code",
   "execution_count": null,
   "metadata": {},
   "outputs": [],
   "source": [
    "db_path = os.path.join(db_work_dir, db_name)\n"
   ]
  },
  {
   "cell_type": "code",
   "execution_count": null,
   "id": "e7870a15",
   "metadata": {
    "colab": {
     "base_uri": "https://localhost:8080/",
     "height": 496
    },
    "executionInfo": {
     "elapsed": 32,
     "status": "error",
     "timestamp": 1671447360110,
     "user": {
      "displayName": "Luc Thomas",
      "userId": "17860019511086541433"
     },
     "user_tz": -60
    },
    "id": "e7870a15",
    "outputId": "9762cf6c-dcad-4210-a02f-3df999782f17"
   },
   "outputs": [],
   "source": [
    "discard_list = [\n",
    "  os.path.join(db_path, 'Lung Segmentation Data/Val/COVID-19/images/covid_2473.png'),\n",
    "  os.path.join(db_path, 'Lung Segmentation Data/Test/COVID-19/images/covid_3155.png'),\n",
    "  os.path.join(db_path, 'Infection Segmentation Data/Test/COVID-19/images/covid_3155.png')\n",
    "]\n",
    "\n",
    "print(db_path)\n",
    "move(discard_list, db_path)\n"
   ]
  },
  {
   "attachments": {},
   "cell_type": "markdown",
   "metadata": {},
   "source": [
    "Commande line to zip and move the results data"
   ]
  },
  {
   "cell_type": "code",
   "execution_count": null,
   "metadata": {},
   "outputs": [],
   "source": [
    "zip_full_file_name = os.path.join(db_path, '..', db_name+'.zip')"
   ]
  },
  {
   "cell_type": "code",
   "execution_count": null,
   "metadata": {},
   "outputs": [],
   "source": [
    "!zip -r {zip_full_file_name} {db_path}"
   ]
  },
  {
   "cell_type": "code",
   "execution_count": null,
   "metadata": {},
   "outputs": [],
   "source": [
    "!mv {zip_full_file_name} {os.path.join('..')}"
   ]
  }
 ],
 "metadata": {
  "kernelspec": {
   "display_name": "covid-19-xRay-gI8RPtYc",
   "language": "python",
   "name": "python3"
  },
  "language_info": {
   "codemirror_mode": {
    "name": "ipython",
    "version": 3
   },
   "file_extension": ".py",
   "mimetype": "text/x-python",
   "name": "python",
   "nbconvert_exporter": "python",
   "pygments_lexer": "ipython3",
   "version": "3.10.8 (main, Nov 15 2022, 05:25:54) [Clang 14.0.0 (clang-1400.0.29.202)]"
  },
  "orig_nbformat": 4,
  "vscode": {
   "interpreter": {
    "hash": "ec449b28ee1275c8ed3472cdab9bc054b62d41bc2731e9c066fdcbfc125fb022"
   }
  }
 },
 "nbformat": 4,
 "nbformat_minor": 2
}
