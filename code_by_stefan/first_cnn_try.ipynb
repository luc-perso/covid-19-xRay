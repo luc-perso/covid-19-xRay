{
  "nbformat": 4,
  "nbformat_minor": 0,
  "metadata": {
    "colab": {
      "provenance": [],
      "authorship_tag": "ABX9TyMLYCYo79HbgxVb9ovT3xQ7",
      "include_colab_link": true
    },
    "kernelspec": {
      "name": "python3",
      "display_name": "Python 3"
    },
    "language_info": {
      "name": "python"
    }
  },
  "cells": [
    {
      "cell_type": "markdown",
      "metadata": {
        "id": "view-in-github",
        "colab_type": "text"
      },
      "source": [
        "<a href=\"https://colab.research.google.com/github/luc-perso/covid-19-xRay/blob/main/code_by_stefan/first_cnn_try.ipynb\" target=\"_parent\"><img src=\"https://colab.research.google.com/assets/colab-badge.svg\" alt=\"Open In Colab\"/></a>"
      ]
    },
    {
      "cell_type": "markdown",
      "metadata": {
        "id": "pZig2_Xv91oP"
      },
      "source": [
        "#drive unzip Modules"
      ]
    },
    {
      "cell_type": "code",
      "execution_count": null,
      "metadata": {
        "colab": {
          "base_uri": "https://localhost:8080/"
        },
        "id": "xxtog4bczmSw",
        "outputId": "e3264213-db63-4bc5-ad34-f004d767bc56"
      },
      "outputs": [
        {
          "name": "stdout",
          "output_type": "stream",
          "text": [
            "Mounted at /content/drive\n"
          ]
        }
      ],
      "source": [
        "from google.colab import drive\n",
        "drive.mount('/content/drive', force_remount=True)"
      ]
    },
    {
      "cell_type": "code",
      "execution_count": null,
      "metadata": {
        "id": "DHhuq--_-wPR"
      },
      "outputs": [],
      "source": [
        "#new_data\n",
        "!unzip -q '/content/drive/MyDrive/datas/datanew.zip' -d '/content/'"
      ]
    },
    {
      "cell_type": "code",
      "execution_count": null,
      "metadata": {
        "id": "WgGcafrX-v1F"
      },
      "outputs": [],
      "source": [
        "#equalized data\n",
        "!unzip -q '/content/drive/MyDrive/datas/data_equalize.zip' -d '/content/'"
      ]
    },
    {
      "cell_type": "code",
      "execution_count": null,
      "metadata": {
        "id": "0lqZYMC9d9R1"
      },
      "outputs": [],
      "source": [
        "# COVID-19_Radiography_Dataset\n",
        "!unzip -q '/content/drive/MyDrive/datas/archive.zip' -d '/content/'"
      ]
    },
    {
      "cell_type": "code",
      "execution_count": null,
      "metadata": {
        "id": "myeCWdfXx0B3"
      },
      "outputs": [],
      "source": [
        "import numpy as np\n",
        "import pandas as pd\n",
        "import cv2\n",
        "import os\n",
        "import matplotlib.pyplot as plt\n",
        "from scipy import ndimage\n",
        "import scipy\n",
        "import tensorflow as tf\n",
        "from tensorflow.keras.preprocessing.image import ImageDataGenerator\n",
        "from sklearn.model_selection import train_test_split\n",
        "import json\n",
        "import random\n",
        "import itertools \n",
        "from sklearn import metrics\n",
        "from tensorflow.keras.optimizers import Adam"
      ]
    },
    {
      "cell_type": "markdown",
      "metadata": {
        "id": "5vShyFSF-Auk"
      },
      "source": [
        "#Directorys "
      ]
    },
    {
      "cell_type": "code",
      "execution_count": null,
      "metadata": {
        "id": "mS0Xn-bB9BaP"
      },
      "outputs": [],
      "source": [
        "###COVID-19_Radiography_Dataset\n",
        "cov_dir = r\"/content/COVID-19_Radiography_Dataset/COVID\"\n",
        "norm_dir = r\"/content/COVID-19_Radiography_Dataset/Normal\"\n",
        "opa_dir = r\"/content/COVID-19_Radiography_Dataset/Lung_Opacity\"\n",
        "vir_dir = r\"/content/COVID-19_Radiography_Dataset/Viral Pneumonia\"\n",
        "img = [\"images\"]\n",
        "mas = [\"masks\"]"
      ]
    },
    {
      "cell_type": "code",
      "execution_count": null,
      "metadata": {
        "id": "DpH9fgmReXR2"
      },
      "outputs": [],
      "source": [
        "#Datasets\n",
        "\n",
        "db_path1 = '/content/data'\n",
        "db_path2 = r'/content/COVID-19_Radiography_Dataset'\n",
        "db_path3 = r'/content/data_equalize'\n",
        "db_path4 = '/content/data prepro'\n",
        "output_path = '../output'\n",
        "if not os.path.exists(output_path):\n",
        "  os.makedirs(output_path, exist_ok=True)\n",
        "\n",
        "#############data names \n",
        "\n",
        "lung_name = 'lung'\n",
        "infection_name = 'infection'\n",
        "\n",
        "train_name = 'train'\n",
        "test_name = 'test'\n",
        "valid_name = 'valid'\n",
        "\n",
        "no_covid_name = 'no_covid'\n",
        "covid_name = 'covid19'\n",
        "normal_name = 'normal'\n",
        "\n",
        "images_name = 'images'\n",
        "masks_name = 'masks'\n",
        "\n",
        "lung_mask_name = lung_name + '_' + masks_name\n",
        "infection_mask_name = infection_name + '_' + masks_name\n",
        "\n",
        "#############data directory names \n",
        "\n",
        "lung_dirname = 'Lung Segmentation Data'\n",
        "infection_dirname = 'Infection Segmentation Data'\n",
        "\n",
        "train_dirname = 'Train'\n",
        "test_dirname = 'Test'\n",
        "valid_dirname = 'Val'\n",
        "\n",
        "no_covid_dirname = 'Non-COVID'\n",
        "covid_dirname = 'COVID-19'\n",
        "normal_dirname = 'Normal'\n",
        "\n",
        "images_dirname = 'images'\n",
        "lung_masks_dirname = 'lung masks'\n",
        "infection_masks_dirname = 'infection masks'\n"
      ]
    },
    {
      "cell_type": "code",
      "execution_count": null,
      "metadata": {
        "colab": {
          "base_uri": "https://localhost:8080/"
        },
        "id": "SlnighQ1jVLg",
        "outputId": "42c4f0bd-03e8-406d-9da1-d2b59631504a"
      },
      "outputs": [
        {
          "name": "stdout",
          "output_type": "stream",
          "text": [
            "     db_name                   db_dirname\n",
            "0       lung       Lung Segmentation Data\n",
            "1  infection  Infection Segmentation Data\n",
            "  ds_name ds_dirname\n",
            "0   train      Train\n",
            "1    test       Test\n",
            "2   valid        Val\n",
            "  desease_name desease_dirname\n",
            "0     no_covid       Non-COVID\n",
            "1      covid19        COVID-19\n",
            "2       normal          Normal\n",
            "    data_type_name data_type_dirname\n",
            "0           images            images\n",
            "1       lung_masks        lung masks\n",
            "2  infection_masks   infection masks\n",
            "MultiIndex([('lung', 'train', 'no_covid', 'infection_masks'),\n",
            "            ('lung', 'train',  'covid19', 'infection_masks'),\n",
            "            ('lung', 'train',   'normal', 'infection_masks'),\n",
            "            ('lung',  'test', 'no_covid', 'infection_masks'),\n",
            "            ('lung',  'test',  'covid19', 'infection_masks'),\n",
            "            ('lung',  'test',   'normal', 'infection_masks'),\n",
            "            ('lung', 'valid', 'no_covid', 'infection_masks'),\n",
            "            ('lung', 'valid',  'covid19', 'infection_masks'),\n",
            "            ('lung', 'valid',   'normal', 'infection_masks')],\n",
            "           names=['db_name', 'ds_name', 'desease_name', 'data_type_name'])\n"
          ]
        }
      ],
      "source": [
        "############ path\n",
        "db_names = pd.DataFrame(data={\n",
        "  'db_name': [lung_name, infection_name],\n",
        "  'db_dirname': [lung_dirname, infection_dirname]\n",
        "  })\n",
        "ds_names = pd.DataFrame(data={\n",
        "  'ds_name': [train_name, test_name, valid_name],\n",
        "  'ds_dirname': [train_dirname, test_dirname, valid_dirname]\n",
        "  })\n",
        "desease_names = pd.DataFrame(data={\n",
        "  'desease_name': [no_covid_name, covid_name, normal_name],\n",
        "  'desease_dirname': [no_covid_dirname, covid_dirname, normal_dirname]\n",
        "  })\n",
        "data_type_names = pd.DataFrame(data={\n",
        "  'data_type_name': [images_name, lung_mask_name, infection_mask_name],\n",
        "  'data_type_dirname': [images_dirname, lung_masks_dirname, infection_masks_dirname]\n",
        "  })\n",
        "print(db_names)\n",
        "print(ds_names)\n",
        "print(desease_names)\n",
        "print(data_type_names)\n",
        "\n",
        "db_names['keys'] = 1\n",
        "ds_names['keys'] = 1\n",
        "desease_names['keys'] = 1\n",
        "data_type_names['keys'] = 1\n",
        "\n",
        "#db_names\n",
        "data_paths = pd.merge(db_names, ds_names, on='keys')\n",
        "data_paths = pd.merge(data_paths, desease_names, on='keys')\n",
        "data_paths = pd.merge(data_paths, data_type_names, on='keys')\n",
        "data_paths = data_paths.drop(columns=['keys'])\n",
        "#data_paths\n",
        "data_paths = data_paths.set_index(['db_name', 'ds_name', 'desease_name', 'data_type_name'])\n",
        "data_paths['path'] = data_paths.apply(lambda x: os.path.join(*(x.to_list())), axis=1)\n",
        "data_paths = data_paths.iloc[:, -1:]\n",
        "\n",
        "#data_paths\n",
        "idx = pd.IndexSlice\n",
        "index = data_paths.loc[idx[[lung_name],:,:,infection_mask_name]].index\n",
        "print(index)\n",
        "data_paths = data_paths.drop(index)"
      ]
    },
    {
      "cell_type": "code",
      "execution_count": null,
      "metadata": {
        "colab": {
          "base_uri": "https://localhost:8080/"
        },
        "id": "4XGCYY9sozSo",
        "outputId": "1a9d0420-647d-45d6-feb0-3f9c2db6555a"
      },
      "outputs": [
        {
          "name": "stdout",
          "output_type": "stream",
          "text": [
            "Lung Segmentation Data/Val/COVID-19/images\n",
            "sub-S11885_ses-E22941_run-1_bp-chest_vp-pa_dx.png\n"
          ]
        },
        {
          "data": {
            "application/vnd.google.colaboratory.intrinsic+json": {
              "type": "string"
            },
            "text/plain": [
              "\"\\nn = np.random.randint(0, len(file_names))\\nprint(n)\\nfile_name = file_names[n]\\n#file_name = 'covid_1256.png'\\n#file_name = 'sub-S09683_ses-E25533_run-1_bp-chest_vp-ap_cr.png'\\n\""
            ]
          },
          "execution_count": 10,
          "metadata": {},
          "output_type": "execute_result"
        }
      ],
      "source": [
        "#####example \n",
        "path = data_paths['path'].loc[idx[[lung_name], valid_name, covid_name, images_name]][0]\n",
        "print(path)\n",
        "full_file_path = os.path.join(db_path1, path)\n",
        "file_names = os.listdir(full_file_path)\n",
        "file_names\n",
        "print(file_names[0])\n",
        "'''\n",
        "n = np.random.randint(0, len(file_names))\n",
        "print(n)\n",
        "file_name = file_names[n]\n",
        "#file_name = 'covid_1256.png'\n",
        "#file_name = 'sub-S09683_ses-E25533_run-1_bp-chest_vp-ap_cr.png'\n",
        "'''"
      ]
    },
    {
      "cell_type": "markdown",
      "source": [
        "# functions"
      ],
      "metadata": {
        "id": "VFDVSqhp0-CQ"
      }
    },
    {
      "cell_type": "code",
      "source": [
        "def path_creator(db_path1, lu_inf,tr_te_val, desease, img):\n",
        "  path = data_paths['path'].loc[idx[[lu_inf], tr_te_val, desease, img]][0]\n",
        "  full_file_path = os.path.join(db_path1, path)\n",
        "  return full_file_path"
      ],
      "metadata": {
        "id": "IAzr9FFp1BEk"
      },
      "execution_count": null,
      "outputs": []
    },
    {
      "cell_type": "code",
      "source": [
        "def img_path_n_list(path,class_num):\n",
        "  img_path_list =[]\n",
        "  img_list=[]  \n",
        "  \n",
        "  for img in os.listdir(path):\n",
        "    try:\n",
        "      file_path = os.path.join(path, img)\n",
        "      img_path_list.append(file_path)\n",
        "  \n",
        "      # I import the images in gray scale\n",
        "      img_array = cv2.imread(os.path.join(path, img), cv2.IMREAD_GRAYSCALE)\n",
        "      #img_array = img_array/255\n",
        "      img_array = cv2.resize(img_array, dsize=(256, 256), interpolation=cv2.INTER_CUBIC)\n",
        "    except:\n",
        "      continue\n",
        "    img_list.append([img_array,class_num])\n",
        "  return img_path_list, img_list"
      ],
      "metadata": {
        "id": "iZUZDYR21BYW"
      },
      "execution_count": null,
      "outputs": []
    },
    {
      "cell_type": "code",
      "execution_count": null,
      "metadata": {
        "id": "5vrAcuLMz2ze"
      },
      "outputs": [],
      "source": [
        "###### data import#########\n",
        "# method for data import to a list and df\n",
        "#import in grayscale and dsize 256*256 \n",
        "def data_n_frame(catdir,sub, column_name):\n",
        "    data_name =[]\n",
        "    for x in sub:\n",
        "        path = os.path.join(catdir, x)\n",
        "\n",
        "        for img in os.listdir(path):\n",
        "            # I import the images in gray scale\n",
        "            img_array = cv2.imread(os.path.join(path, img), cv2.IMREAD_GRAYSCALE)\n",
        "            img_array = cv2.resize(img_array, dsize=(256, 256), interpolation=cv2.INTER_CUBIC)\n",
        "            data_name.append([img_array])\n",
        "    dataframe = pd.DataFrame(data_name)\n",
        "    dataframe = dataframe.rename(columns={0: column_name})\n",
        "\n",
        "    return data_name, dataframe"
      ]
    },
    {
      "cell_type": "code",
      "execution_count": null,
      "metadata": {
        "id": "Up7Y8L3sz2rN"
      },
      "outputs": [],
      "source": [
        "###### Classes Assignment #####\n",
        "##for example, df_class = \"covid\"\n",
        "def df_class( df_name,df_class):\n",
        "    df_name[\"class\"]= f\"{df_class}\"\n",
        "    return df_name"
      ]
    },
    {
      "cell_type": "markdown",
      "metadata": {
        "id": "fXy88f4e-V7s"
      },
      "source": [
        "# Data Creation"
      ]
    },
    {
      "cell_type": "markdown",
      "source": [
        "## equalized Lung infection data "
      ],
      "metadata": {
        "id": "yw9igynCxxYT"
      }
    },
    {
      "cell_type": "code",
      "execution_count": null,
      "metadata": {
        "id": "EdxHGV25DscB"
      },
      "outputs": [],
      "source": [
        "p1=path_creator(db_path3, lung_name,train_name, covid_name, images_name)\n",
        "p2=path_creator(db_path3, lung_name,train_name, no_covid_name, images_name)\n",
        "p3=path_creator(db_path3, lung_name,train_name, normal_name, images_name)\n",
        "\n",
        "pathlist1, list1 = img_path_n_list(p1,0)\n",
        "pathlist2, list2 = img_path_n_list(p2,1)\n",
        "pathlist3, list3 = img_path_n_list(p3,2)\n",
        "\n",
        "lista=list1+list2+list3\n",
        "random.shuffle(lista)"
      ]
    },
    {
      "cell_type": "code",
      "execution_count": null,
      "metadata": {
        "colab": {
          "base_uri": "https://localhost:8080/"
        },
        "id": "vsBNETBIEG6U",
        "outputId": "a6407ea8-6021-4700-e7d9-4f304783b8a7"
      },
      "outputs": [
        {
          "name": "stdout",
          "output_type": "stream",
          "text": [
            "<class 'numpy.ndarray'>\n",
            "<class 'numpy.ndarray'>\n",
            "(21715, 64, 64, 1) (21715, 3)\n"
          ]
        }
      ],
      "source": [
        "X4 = []\n",
        "y4 = []\n",
        "imsize= 64\n",
        "for features, label in lista :\n",
        "    features = cv2.resize(features, (imsize,imsize))\n",
        "    X4.append(features)\n",
        "    y4.append(label)\n",
        "\n",
        "X4=np.array(X4).reshape(-1, imsize, imsize, 1)\n",
        "print(type(X4))\n",
        "X4=X4/255\n",
        "\n",
        "\n",
        "from keras.utils import to_categorical\n",
        "y4= to_categorical(y4)\n",
        "print(type(y4))\n",
        "print(X4.shape, y4.shape)\n",
        "X_train4 = X4\n",
        "y_train4 = y4"
      ]
    },
    {
      "cell_type": "code",
      "execution_count": null,
      "metadata": {
        "id": "IWbz3KJIoZsX"
      },
      "outputs": [],
      "source": [
        "p1=path_creator(db_path3, lung_name,test_name, covid_name, images_name)\n",
        "p2=path_creator(db_path3, lung_name,test_name, no_covid_name, images_name)\n",
        "p3=path_creator(db_path3, lung_name,test_name, normal_name, images_name)\n",
        "\n",
        "pathlist1, list1 = img_path_n_list(p1,0)\n",
        "pathlist2, list2 = img_path_n_list(p2,1)\n",
        "pathlist3, list3 = img_path_n_list(p3,2)\n",
        "\n",
        "listb=list1+list2+list3\n",
        "random.shuffle(listb)"
      ]
    },
    {
      "cell_type": "code",
      "execution_count": null,
      "metadata": {
        "colab": {
          "base_uri": "https://localhost:8080/"
        },
        "id": "Jf0-NP2MoZsc",
        "outputId": "170bac70-821f-4c3a-f660-9ac872ef0ace"
      },
      "outputs": [
        {
          "name": "stdout",
          "output_type": "stream",
          "text": [
            "<class 'numpy.ndarray'>\n",
            "<class 'numpy.ndarray'>\n",
            "(6787, 64, 64, 1) (6787, 3)\n"
          ]
        }
      ],
      "source": [
        "Xte4 = []\n",
        "yte4 = []\n",
        "imsize= 64\n",
        "for features, label in listb :\n",
        "    features = cv2.resize(features, (imsize,imsize))\n",
        "    Xte4.append(features)\n",
        "    yte4.append(label)\n",
        "\n",
        "Xte4=np.array(Xte4).reshape(-1, imsize, imsize, 1)\n",
        "print(type(Xte4))\n",
        "Xte4=Xte4/255\n",
        "\n",
        "\n",
        "from keras.utils import to_categorical\n",
        "yte4= to_categorical(yte4)\n",
        "print(type(yte4))\n",
        "print(Xte4.shape, yte4.shape)\n",
        "X_test4 = Xte4\n",
        "y_test4 = yte4"
      ]
    },
    {
      "cell_type": "code",
      "execution_count": null,
      "metadata": {
        "id": "NPFmGRxnowc9"
      },
      "outputs": [],
      "source": [
        "p1=path_creator(db_path3, lung_name,valid_name, covid_name, images_name)\n",
        "p2=path_creator(db_path3, lung_name,valid_name, no_covid_name, images_name)\n",
        "p3=path_creator(db_path3, lung_name,valid_name, normal_name, images_name)\n",
        "\n",
        "pathlist1, list1 = img_path_n_list(p1,0)\n",
        "pathlist2, list2 = img_path_n_list(p2,1)\n",
        "pathlist3, list3 = img_path_n_list(p3,2)\n",
        "\n",
        "listc=list1+list2+list3\n",
        "random.shuffle(listc)"
      ]
    },
    {
      "cell_type": "code",
      "execution_count": null,
      "metadata": {
        "colab": {
          "base_uri": "https://localhost:8080/"
        },
        "id": "F4XrZruuowc9",
        "outputId": "ae7752c5-ba2d-405c-adb6-04adc57d6cf6"
      },
      "outputs": [
        {
          "name": "stdout",
          "output_type": "stream",
          "text": [
            "<class 'numpy.ndarray'>\n",
            "<class 'numpy.ndarray'>\n",
            "(5416, 64, 64, 1) (5416, 3)\n"
          ]
        }
      ],
      "source": [
        "Xva4 = []\n",
        "yva4 = []\n",
        "imsize= 64\n",
        "for features, label in listc :\n",
        "    features = cv2.resize(features, (imsize,imsize))\n",
        "    Xva4.append(features)\n",
        "    yva4.append(label)\n",
        "\n",
        "Xva4=np.array(Xva4).reshape(-1, imsize, imsize, 1)\n",
        "print(type(Xva4))\n",
        "Xva4=Xva4/255\n",
        "\n",
        "\n",
        "from keras.utils import to_categorical\n",
        "yva4= to_categorical(yva4)\n",
        "print(type(yva4))\n",
        "print(Xva4.shape, yva4.shape)\n",
        "X_val4 = Xva4\n",
        "y_val4 = yva4"
      ]
    },
    {
      "cell_type": "code",
      "execution_count": null,
      "metadata": {
        "id": "jaDdFhtw_4GW"
      },
      "outputs": [],
      "source": [
        "x_train4 = tf.convert_to_tensor(X_train4)\n",
        "y_train4 = tf.convert_to_tensor(y_train4)\n",
        "\n",
        "x_test4 = tf.convert_to_tensor(X_test4)\n",
        "y_test4 = tf.convert_to_tensor(y_test4)\n",
        "\n",
        "x_val4 = tf.convert_to_tensor(X_val4)\n",
        "y_val4 = tf.convert_to_tensor(y_val4)"
      ]
    },
    {
      "cell_type": "markdown",
      "source": [
        "## COVID-19_Radiography_Dataset unequalized"
      ],
      "metadata": {
        "id": "Lz0bgu7Bx90o"
      }
    },
    {
      "cell_type": "code",
      "execution_count": null,
      "metadata": {
        "id": "Rvj-VJ--9BU0"
      },
      "outputs": [],
      "source": []
    },
    {
      "cell_type": "code",
      "execution_count": null,
      "metadata": {
        "id": "6GLrbkZ_q0t9"
      },
      "outputs": [],
      "source": [
        "#COVID-19_Radiography_Dataset\n",
        "#xray\n",
        "cov_xray_data, df_xray_cov =data_n_frame(cov_dir, img, \"xray\")\n",
        "norm_xray_data, df_xray_norm =data_n_frame(norm_dir, img, \"xray\")\n",
        "opa_xray_data, df_xray_opa =data_n_frame(opa_dir, img, \"xray\")\n",
        "vir_xray_data, df_xray_vir =data_n_frame(vir_dir, img, \"xray\")"
      ]
    },
    {
      "cell_type": "code",
      "execution_count": null,
      "metadata": {
        "id": "9jb08r64q0fc"
      },
      "outputs": [],
      "source": [
        "df_non=pd.concat([df_xray_opa, df_xray_vir],ignore_index=True)\n",
        "df_cov=df_xray_cov\n",
        "df_norm = df_xray_norm\n",
        "# assigning class\n",
        "df_non =df_class(df_non, \"non-covid\")\n",
        "df_cov =df_class(df_cov, \"covid\")\n",
        "df_norm =df_class(df_norm, \"normal\")"
      ]
    },
    {
      "cell_type": "code",
      "execution_count": null,
      "metadata": {
        "id": "Hmx-ak4Tq3pp"
      },
      "outputs": [],
      "source": [
        "a_=df_cov\n",
        "b_=df_non\n",
        "c_=df_norm\n"
      ]
    },
    {
      "cell_type": "code",
      "execution_count": null,
      "metadata": {
        "colab": {
          "base_uri": "https://localhost:8080/"
        },
        "id": "_Wqc9CubtDoA",
        "outputId": "7288e543-72b2-4d38-c2e1-ca000122c650"
      },
      "outputs": [
        {
          "name": "stdout",
          "output_type": "stream",
          "text": [
            "(3616, 2) (7357, 2) (10192, 2)\n"
          ]
        }
      ],
      "source": [
        "print(a_.shape, b_.shape,c_.shape)"
      ]
    },
    {
      "cell_type": "code",
      "execution_count": null,
      "metadata": {
        "id": "P0aQTIro_ej5"
      },
      "outputs": [],
      "source": [
        "d=\"class\""
      ]
    },
    {
      "cell_type": "code",
      "execution_count": null,
      "metadata": {
        "id": "VPdXgHYuq5g_"
      },
      "outputs": [],
      "source": [
        "a1 = a_.iloc[int(len(a_) // 2):].copy()\n",
        "b1 = b_.iloc[int(len(b_) // 2):].copy()\n",
        "c1 = c_.iloc[int(len(c_) // 2):].copy()"
      ]
    },
    {
      "cell_type": "code",
      "execution_count": null,
      "metadata": {
        "colab": {
          "base_uri": "https://localhost:8080/"
        },
        "id": "-yXBkAOntkH9",
        "outputId": "58ab7aad-b455-44fe-d5be-25acbaa8c353"
      },
      "outputs": [
        {
          "name": "stdout",
          "output_type": "stream",
          "text": [
            "(1808, 2) (3679, 2) (5096, 2)\n"
          ]
        }
      ],
      "source": [
        "print(a1.shape, b1.shape,c1.shape)"
      ]
    },
    {
      "cell_type": "code",
      "execution_count": null,
      "metadata": {
        "id": "XVGkxwSP-2eE"
      },
      "outputs": [],
      "source": [
        "a2 = a_.iloc[:int(len(a_) // 2)].copy()\n",
        "b2 = b_.iloc[:int(len(b_) // 2)].copy()\n",
        "c2 = c_.iloc[:int(len(c_) // 2)].copy()"
      ]
    },
    {
      "cell_type": "code",
      "execution_count": null,
      "metadata": {
        "colab": {
          "base_uri": "https://localhost:8080/"
        },
        "id": "Z6DZcv__tsL1",
        "outputId": "ab717694-ad6b-4434-812e-9304b48f5b65"
      },
      "outputs": [
        {
          "name": "stdout",
          "output_type": "stream",
          "text": [
            "(1808, 2) (3679, 2) (5096, 2)\n"
          ]
        }
      ],
      "source": [
        "print(a1.shape, b1.shape,c1.shape)"
      ]
    },
    {
      "cell_type": "code",
      "execution_count": null,
      "metadata": {
        "id": "9ZthIXcorCnw"
      },
      "outputs": [],
      "source": [
        "df1=pd.concat([a1,b1,c1],ignore_index=True)\n",
        "df2=pd.concat([a2,b2,c2],ignore_index=True)"
      ]
    },
    {
      "cell_type": "code",
      "execution_count": null,
      "metadata": {
        "id": "5KZEERTn_CuD"
      },
      "outputs": [],
      "source": [
        "df1[\"class\"]=df1[\"class\"].replace({\"covid\":0, \"non-covid\":1,\"normal\":2})\n",
        "df2[\"class\"]=df2[\"class\"].replace({\"covid\":0, \"non-covid\":1,\"normal\":2})"
      ]
    },
    {
      "cell_type": "code",
      "execution_count": null,
      "metadata": {
        "id": "Y3pSYS_urCb9"
      },
      "outputs": [],
      "source": []
    },
    {
      "cell_type": "code",
      "execution_count": null,
      "metadata": {
        "id": "patO5XJ2_NKM"
      },
      "outputs": [],
      "source": [
        "imsize= 64\n",
        "X1=[]\n",
        "for i in df1[d]:\n",
        "  i = cv2.resize(i, (imsize,imsize))\n",
        "  X1.append(i)\n",
        "\n",
        "\n",
        "X1 = np.array(X1).reshape(-1, imsize, imsize, 1)\n",
        "X1=X1/255"
      ]
    },
    {
      "cell_type": "code",
      "execution_count": null,
      "metadata": {
        "id": "_ZbBE3XY_te7"
      },
      "outputs": [],
      "source": [
        "imsize= 64\n",
        "X2=[]\n",
        "for i in df2[d]:\n",
        "  i = cv2.resize(i, (imsize,imsize))\n",
        "  X2.append(i)\n",
        "\n",
        "\n",
        "X2 = np.array(X2).reshape(-1, imsize, imsize, 1)\n",
        "X2=X2/255"
      ]
    },
    {
      "cell_type": "code",
      "execution_count": null,
      "metadata": {
        "id": "TnFu8scOriP_"
      },
      "outputs": [],
      "source": [
        "y1=df1[d].values\n",
        "from keras.utils import to_categorical\n",
        "y1= to_categorical(y1)\n",
        "y2=df2[d].values\n",
        "from keras.utils import to_categorical\n",
        "y2= to_categorical(y2)"
      ]
    },
    {
      "cell_type": "code",
      "execution_count": null,
      "metadata": {
        "colab": {
          "base_uri": "https://localhost:8080/"
        },
        "id": "7Szwbp2WsF6m",
        "outputId": "bd0676af-4cdc-42f9-af8a-a7794592345d"
      },
      "outputs": [
        {
          "name": "stdout",
          "output_type": "stream",
          "text": [
            "(10583, 64, 64, 1) (10583, 3)\n",
            "(10582, 64, 64, 1) (10582, 3)\n"
          ]
        }
      ],
      "source": [
        "print(X1.shape,y1.shape)\n",
        "print(X2.shape,y2.shape)"
      ]
    },
    {
      "cell_type": "code",
      "execution_count": null,
      "metadata": {
        "id": "UiB3VXm89BSJ"
      },
      "outputs": [],
      "source": [
        "X_train1, X_val1, y_train11, y_val11 = train_test_split(X1, y1, test_size=0.1, shuffle=True)\n",
        "X_train1, X_test1, y_train11, y_test11 = train_test_split(X_train1, y_train11, test_size=0.2, shuffle=True)"
      ]
    },
    {
      "cell_type": "code",
      "execution_count": null,
      "metadata": {
        "id": "s4WGHbOZ9BPt"
      },
      "outputs": [],
      "source": [
        "X_train2, X_val2, y_train22, y_val22 = train_test_split(X2, y2, test_size=0.1, shuffle=True)\n",
        "X_train2, X_test2, y_train22, y_test22 = train_test_split(X_train2, y_train22, test_size=0.2, shuffle=True)"
      ]
    },
    {
      "cell_type": "code",
      "execution_count": null,
      "metadata": {
        "id": "z6yzhfAg9BMz"
      },
      "outputs": [],
      "source": [
        "x_train1 = tf.convert_to_tensor(X_train1)\n",
        "y_train1 = tf.convert_to_tensor(y_train11)\n",
        "\n",
        "x_test1 = tf.convert_to_tensor(X_test1)\n",
        "y_test1 = tf.convert_to_tensor(y_test11)\n",
        "\n",
        "x_val1 = tf.convert_to_tensor(X_val1)\n",
        "y_val1 = tf.convert_to_tensor(y_val11)"
      ]
    },
    {
      "cell_type": "code",
      "execution_count": null,
      "metadata": {
        "id": "HQolvrbQ9BKB"
      },
      "outputs": [],
      "source": [
        "x_train2 = tf.convert_to_tensor(X_train2)\n",
        "y_train2 = tf.convert_to_tensor(y_train22)\n",
        "\n",
        "x_test2 = tf.convert_to_tensor(X_test2)\n",
        "y_test2 = tf.convert_to_tensor(y_test22)\n",
        "\n",
        "x_val2 = tf.convert_to_tensor(X_val2)\n",
        "y_val2 = tf.convert_to_tensor(y_val22)"
      ]
    },
    {
      "cell_type": "markdown",
      "source": [
        "##infection segmentation data unequalized"
      ],
      "metadata": {
        "id": "qQRaNtyKybff"
      }
    },
    {
      "cell_type": "code",
      "execution_count": null,
      "metadata": {
        "id": "if9pPUBYw23m"
      },
      "outputs": [],
      "source": [
        "#these are just concat (train, test, val) of infection data images unequalized\n",
        "#df_cov\n",
        "apath=\"/content/drive/MyDrive/saves/All data in classes/df_cov_small.h5\"\n",
        "a = pd.read_hdf(apath, key='df')\n",
        "\n",
        "\n",
        "#df_non\n",
        "bpath=\"/content/drive/MyDrive/saves/All data in classes/df_non_small.h5\"\n",
        "b = pd.read_hdf(bpath, key='df')\n",
        "\n",
        "\n",
        "#df_norm\n",
        "cpath=\"/content/drive/MyDrive/saves/All data in classes/df_norm_small.h5\"\n",
        "c = pd.read_hdf(cpath, key='df')\n",
        "\n",
        "\n",
        "#column of interest\n",
        "d=\"xray\""
      ]
    },
    {
      "cell_type": "code",
      "execution_count": null,
      "metadata": {
        "colab": {
          "base_uri": "https://localhost:8080/"
        },
        "id": "21VBpOsIxdNg",
        "outputId": "d27de8c4-ad55-4714-8493-257d40426aa3"
      },
      "outputs": [
        {
          "name": "stdout",
          "output_type": "stream",
          "text": [
            "<class 'pandas.core.frame.DataFrame'>\n",
            "RangeIndex: 5825 entries, 0 to 5824\n",
            "Data columns (total 2 columns):\n",
            " #   Column  Non-Null Count  Dtype \n",
            "---  ------  --------------  ----- \n",
            " 0   xray    5825 non-null   object\n",
            " 1   class   5825 non-null   object\n",
            "dtypes: object(2)\n",
            "memory usage: 91.1+ KB\n",
            "None (5825, 2)\n"
          ]
        }
      ],
      "source": [
        "df=pd.concat([a,b,c],ignore_index=True)\n",
        "print(df.info(),df.shape)\n",
        "df[\"class\"]=df[\"class\"].replace({\"covid\":0, \"non-covid\":1,\"normal\":2})"
      ]
    },
    {
      "cell_type": "code",
      "execution_count": null,
      "metadata": {
        "colab": {
          "base_uri": "https://localhost:8080/"
        },
        "id": "GkIEqI-Px_W2",
        "outputId": "c3e89c9d-4f5f-4995-c452-469450c981ee"
      },
      "outputs": [
        {
          "name": "stdout",
          "output_type": "stream",
          "text": [
            "<class 'numpy.ndarray'>\n"
          ]
        },
        {
          "data": {
            "text/plain": [
              "(5825, 64, 64, 1)"
            ]
          },
          "execution_count": 96,
          "metadata": {},
          "output_type": "execute_result"
        }
      ],
      "source": [
        "imsize= 64\n",
        "X=[]\n",
        "for i in df[d]:\n",
        "  i = cv2.resize(i, (imsize,imsize))\n",
        "  X.append(i)\n",
        "\n",
        "X = np.array(X).reshape(-1, imsize, imsize, 1)\n",
        "X=X/255\n",
        "\n",
        "print(type(X))\n",
        "X.shape"
      ]
    },
    {
      "cell_type": "code",
      "execution_count": null,
      "metadata": {
        "colab": {
          "base_uri": "https://localhost:8080/"
        },
        "id": "VuEjgxQ_yLJI",
        "outputId": "fa3ed94d-7ab8-4a8c-a227-1a9bf0537c6c"
      },
      "outputs": [
        {
          "name": "stdout",
          "output_type": "stream",
          "text": [
            "<class 'numpy.ndarray'>\n"
          ]
        },
        {
          "data": {
            "text/plain": [
              "(5825, 3)"
            ]
          },
          "execution_count": 97,
          "metadata": {},
          "output_type": "execute_result"
        }
      ],
      "source": [
        "y=df[\"class\"].values\n",
        "from keras.utils import to_categorical\n",
        "y= to_categorical(y)\n",
        "print(type(y))\n",
        "y.shape"
      ]
    },
    {
      "cell_type": "code",
      "execution_count": null,
      "metadata": {
        "id": "CvMwEFlmFjN4"
      },
      "outputs": [],
      "source": [
        "X_train, X_val, y_train, y_val = train_test_split(X, y, test_size=0.1, shuffle=True)\n",
        "X_train, X_test, y_train, y_test = train_test_split(X_train, y_train, test_size=0.2, shuffle=True)"
      ]
    },
    {
      "cell_type": "code",
      "execution_count": null,
      "metadata": {
        "id": "OX8YshuUMMyV"
      },
      "outputs": [],
      "source": [
        "x_train = tf.convert_to_tensor(X_train)\n",
        "y_train = tf.convert_to_tensor(y_train)\n",
        "\n",
        "x_test = tf.convert_to_tensor(X_test)\n",
        "y_test = tf.convert_to_tensor(y_test)\n",
        "\n",
        "x_val = tf.convert_to_tensor(X_val)\n",
        "y_val = tf.convert_to_tensor(y_val)"
      ]
    },
    {
      "cell_type": "markdown",
      "source": [
        "# first try with CNN-Model"
      ],
      "metadata": {
        "id": "lffblV0EzlUc"
      }
    },
    {
      "cell_type": "markdown",
      "metadata": {
        "id": "DdyQuR32s7Ba"
      },
      "source": [
        "##model"
      ]
    },
    {
      "cell_type": "code",
      "execution_count": null,
      "metadata": {
        "colab": {
          "base_uri": "https://localhost:8080/"
        },
        "id": "MiHXal2Zzwwx",
        "outputId": "f2b017c2-3e1e-4ed7-8389-58f2c1559da4"
      },
      "outputs": [
        {
          "name": "stdout",
          "output_type": "stream",
          "text": [
            "Model: \"sequential_7\"\n",
            "_________________________________________________________________\n",
            " Layer (type)                Output Shape              Param #   \n",
            "=================================================================\n",
            " conv2d_2 (Conv2D)           (None, 62, 62, 32)        320       \n",
            "                                                                 \n",
            " batch_normalization (BatchN  (None, 62, 62, 32)       128       \n",
            " ormalization)                                                   \n",
            "                                                                 \n",
            " max_pooling2d (MaxPooling2D  (None, 31, 31, 32)       0         \n",
            " )                                                               \n",
            "                                                                 \n",
            " conv2d_3 (Conv2D)           (None, 29, 29, 64)        18496     \n",
            "                                                                 \n",
            " batch_normalization_1 (Batc  (None, 29, 29, 64)       256       \n",
            " hNormalization)                                                 \n",
            "                                                                 \n",
            " max_pooling2d_1 (MaxPooling  (None, 14, 14, 64)       0         \n",
            " 2D)                                                             \n",
            "                                                                 \n",
            " conv2d_4 (Conv2D)           (None, 12, 12, 128)       73856     \n",
            "                                                                 \n",
            " batch_normalization_2 (Batc  (None, 12, 12, 128)      512       \n",
            " hNormalization)                                                 \n",
            "                                                                 \n",
            " max_pooling2d_2 (MaxPooling  (None, 6, 6, 128)        0         \n",
            " 2D)                                                             \n",
            "                                                                 \n",
            " conv2d_5 (Conv2D)           (None, 4, 4, 256)         295168    \n",
            "                                                                 \n",
            " batch_normalization_3 (Batc  (None, 4, 4, 256)        1024      \n",
            " hNormalization)                                                 \n",
            "                                                                 \n",
            " max_pooling2d_3 (MaxPooling  (None, 2, 2, 256)        0         \n",
            " 2D)                                                             \n",
            "                                                                 \n",
            " flatten (Flatten)           (None, 1024)              0         \n",
            "                                                                 \n",
            " dense (Dense)               (None, 512)               524800    \n",
            "                                                                 \n",
            " dropout (Dropout)           (None, 512)               0         \n",
            "                                                                 \n",
            " dense_1 (Dense)             (None, 3)                 1539      \n",
            "                                                                 \n",
            "=================================================================\n",
            "Total params: 916,099\n",
            "Trainable params: 915,139\n",
            "Non-trainable params: 960\n",
            "_________________________________________________________________\n"
          ]
        }
      ],
      "source": [
        "\n",
        "# CNN-Model\n",
        "model = tf.keras.Sequential()\n",
        "\n",
        "# convolutional layers\n",
        "model.add(tf.keras.layers.Conv2D(32, (3, 3), activation='relu', input_shape=(imsize, imsize, 1)))\n",
        "model.add(tf.keras.layers.BatchNormalization())\n",
        "model.add(tf.keras.layers.MaxPooling2D((2, 2)))\n",
        "model.add(tf.keras.layers.Conv2D(64, (3, 3), activation='relu'))\n",
        "model.add(tf.keras.layers.BatchNormalization())\n",
        "model.add(tf.keras.layers.MaxPooling2D((2, 2)))\n",
        "model.add(tf.keras.layers.Conv2D(128, (3, 3), activation='relu'))\n",
        "model.add(tf.keras.layers.BatchNormalization())\n",
        "model.add(tf.keras.layers.MaxPooling2D((2, 2)))\n",
        "model.add(tf.keras.layers.Conv2D(256, (3, 3), activation='relu'))\n",
        "model.add(tf.keras.layers.BatchNormalization())\n",
        "model.add(tf.keras.layers.MaxPooling2D((2, 2)))\n",
        "\n",
        "# fully connected layers\n",
        "model.add(tf.keras.layers.Flatten())\n",
        "model.add(tf.keras.layers.Dense(512, activation='relu'))\n",
        "model.add(tf.keras.layers.Dropout(0.5))\n",
        "model.add(tf.keras.layers.Dense(3, activation='softmax'))\n",
        "    \n",
        "model.compile(loss='categorical_crossentropy', optimizer=Adam(learning_rate=lr), metrics=['accuracy'])\n",
        "\n",
        "\n",
        "model.summary()"
      ]
    },
    {
      "cell_type": "markdown",
      "metadata": {
        "id": "3jPd_V73rREt"
      },
      "source": [
        "##Learning on infection data"
      ]
    },
    {
      "cell_type": "code",
      "execution_count": null,
      "metadata": {
        "colab": {
          "base_uri": "https://localhost:8080/"
        },
        "id": "ipKaOfZm7Y0m",
        "outputId": "c3f80c41-4483-4458-85d3-135c0c0c23a7"
      },
      "outputs": [
        {
          "name": "stdout",
          "output_type": "stream",
          "text": [
            "Epoch 1/40\n",
            "66/66 [==============================] - 26s 382ms/step - loss: 1.2268 - accuracy: 0.6370 - val_loss: 3.6809 - val_accuracy: 0.4597 - lr: 0.0020\n",
            "Epoch 2/40\n",
            "66/66 [==============================] - 27s 414ms/step - loss: 0.5971 - accuracy: 0.7603 - val_loss: 3.3634 - val_accuracy: 0.4597 - lr: 0.0020\n",
            "Epoch 3/40\n",
            "66/66 [==============================] - 25s 376ms/step - loss: 0.5236 - accuracy: 0.7908 - val_loss: 4.5868 - val_accuracy: 0.4597 - lr: 0.0020\n",
            "Epoch 4/40\n",
            "66/66 [==============================] - 25s 377ms/step - loss: 0.4784 - accuracy: 0.8078 - val_loss: 2.0525 - val_accuracy: 0.4597 - lr: 0.0020\n",
            "Epoch 5/40\n",
            "66/66 [==============================] - 25s 379ms/step - loss: 0.4140 - accuracy: 0.8307 - val_loss: 3.2222 - val_accuracy: 0.4580 - lr: 0.0020\n",
            "Epoch 6/40\n",
            "66/66 [==============================] - 26s 399ms/step - loss: 0.3576 - accuracy: 0.8545 - val_loss: 1.5494 - val_accuracy: 0.5472 - lr: 0.0016\n",
            "Epoch 7/40\n",
            "66/66 [==============================] - 25s 378ms/step - loss: 0.3195 - accuracy: 0.8726 - val_loss: 2.8058 - val_accuracy: 0.4683 - lr: 0.0016\n",
            "Epoch 8/40\n",
            "66/66 [==============================] - 25s 381ms/step - loss: 0.2822 - accuracy: 0.8812 - val_loss: 1.6216 - val_accuracy: 0.6346 - lr: 0.0016\n",
            "Epoch 9/40\n",
            "66/66 [==============================] - 25s 379ms/step - loss: 0.2662 - accuracy: 0.8934 - val_loss: 0.6577 - val_accuracy: 0.8010 - lr: 0.0016\n",
            "Epoch 10/40\n",
            "66/66 [==============================] - 25s 378ms/step - loss: 0.2511 - accuracy: 0.8917 - val_loss: 1.4592 - val_accuracy: 0.7084 - lr: 0.0016\n",
            "Epoch 11/40\n",
            "66/66 [==============================] - 25s 379ms/step - loss: 0.2112 - accuracy: 0.9110 - val_loss: 1.4356 - val_accuracy: 0.7256 - lr: 0.0013\n",
            "Epoch 12/40\n",
            "66/66 [==============================] - 25s 379ms/step - loss: 0.1779 - accuracy: 0.9249 - val_loss: 3.1254 - val_accuracy: 0.6638 - lr: 0.0013\n",
            "Epoch 13/40\n",
            "66/66 [==============================] - 26s 400ms/step - loss: 0.1451 - accuracy: 0.9397 - val_loss: 1.3590 - val_accuracy: 0.7770 - lr: 0.0013\n",
            "Epoch 14/40\n",
            "66/66 [==============================] - 25s 380ms/step - loss: 0.1405 - accuracy: 0.9459 - val_loss: 2.2431 - val_accuracy: 0.6792 - lr: 0.0013\n",
            "Epoch 15/40\n",
            "66/66 [==============================] - 25s 379ms/step - loss: 0.1719 - accuracy: 0.9332 - val_loss: 7.7592 - val_accuracy: 0.4700 - lr: 0.0013\n",
            "Epoch 16/40\n",
            "66/66 [==============================] - 25s 379ms/step - loss: 0.1106 - accuracy: 0.9552 - val_loss: 0.5732 - val_accuracy: 0.8576 - lr: 0.0010\n",
            "Epoch 17/40\n",
            "66/66 [==============================] - 25s 378ms/step - loss: 0.0798 - accuracy: 0.9709 - val_loss: 0.7575 - val_accuracy: 0.8336 - lr: 0.0010\n",
            "Epoch 18/40\n",
            "66/66 [==============================] - 25s 378ms/step - loss: 0.0544 - accuracy: 0.9790 - val_loss: 0.4158 - val_accuracy: 0.8902 - lr: 0.0010\n",
            "Epoch 19/40\n",
            "66/66 [==============================] - 26s 400ms/step - loss: 0.0580 - accuracy: 0.9773 - val_loss: 1.5704 - val_accuracy: 0.7547 - lr: 0.0010\n",
            "Epoch 20/40\n",
            "66/66 [==============================] - 25s 378ms/step - loss: 0.0747 - accuracy: 0.9707 - val_loss: 0.6690 - val_accuracy: 0.8439 - lr: 0.0010\n",
            "Epoch 21/40\n",
            "66/66 [==============================] - 25s 378ms/step - loss: 0.0529 - accuracy: 0.9819 - val_loss: 0.9557 - val_accuracy: 0.8405 - lr: 8.1920e-04\n",
            "Epoch 22/40\n",
            "66/66 [==============================] - 25s 378ms/step - loss: 0.0406 - accuracy: 0.9850 - val_loss: 0.7722 - val_accuracy: 0.8593 - lr: 8.1920e-04\n",
            "Epoch 23/40\n",
            "66/66 [==============================] - 25s 379ms/step - loss: 0.0288 - accuracy: 0.9888 - val_loss: 1.5017 - val_accuracy: 0.7547 - lr: 8.1920e-04\n",
            "Epoch 24/40\n",
            "66/66 [==============================] - 25s 378ms/step - loss: 0.0256 - accuracy: 0.9919 - val_loss: 1.7355 - val_accuracy: 0.7736 - lr: 8.1920e-04\n",
            "Epoch 25/40\n",
            "66/66 [==============================] - 25s 379ms/step - loss: 0.0185 - accuracy: 0.9938 - val_loss: 0.6664 - val_accuracy: 0.8782 - lr: 8.1920e-04\n",
            "Epoch 26/40\n",
            "66/66 [==============================] - 26s 399ms/step - loss: 0.0115 - accuracy: 0.9974 - val_loss: 2.3810 - val_accuracy: 0.7702 - lr: 6.5536e-04\n",
            "Epoch 27/40\n",
            "66/66 [==============================] - 26s 389ms/step - loss: 0.0075 - accuracy: 0.9971 - val_loss: 1.1168 - val_accuracy: 0.8473 - lr: 6.5536e-04\n",
            "Epoch 28/40\n",
            "66/66 [==============================] - 29s 442ms/step - loss: 0.0120 - accuracy: 0.9959 - val_loss: 0.9867 - val_accuracy: 0.8405 - lr: 6.5536e-04\n"
          ]
        }
      ],
      "source": [
        "initial_learning_rate = 0.002\n",
        "steps= 5\n",
        "decay=0.8\n",
        "\n",
        "lr_schedule = tf.keras.optimizers.schedules.ExponentialDecay( initial_learning_rate= initial_learning_rate,decay_steps=steps,decay_rate=decay,staircase=True)\n",
        "lr = tf.Variable(initial_value=initial_learning_rate, trainable=False, dtype=tf.float32, name=\"learning_rate\")\n",
        "@tf.function\n",
        "def train_step(inputs, labels):\n",
        "    with tf.GradientTape() as tape:\n",
        "        logits = model(inputs)\n",
        "        loss_value = loss_fn(labels, logits)\n",
        "    grads = tape.gradient(loss_value, model.trainable_variables)\n",
        "    optimizer.apply_gradients(zip(grads, model.trainable_variables))\n",
        "    lr.assign(lr_schedule(optimizer.iterations))\n",
        "lr_callback = tf.keras.callbacks.LearningRateScheduler(lr_schedule)\n",
        "\n",
        "es_callback = tf.keras.callbacks.EarlyStopping(\n",
        "    monitor=\"val_loss\",\n",
        "    min_delta=0,\n",
        "    patience=10,\n",
        "    verbose=0,mode=\"auto\",baseline=None,restore_best_weights=True,)\n",
        "\n",
        "class EpochStopper(tf.keras.callbacks.Callback):\n",
        "    def __init__(self):\n",
        "        self.epoch = 0\n",
        "\n",
        "    def on_epoch_end(self, epoch, logs={}):\n",
        "        self.epoch = epoch\n",
        "\n",
        "stopper = EpochStopper()\n",
        "\n",
        "model.compile(loss='categorical_crossentropy', optimizer=Adam(learning_rate=lr), metrics=['accuracy'])\n",
        "\n",
        "\n",
        "epochs=40\n",
        "training_history = model.fit(x_train, y_train,         \n",
        "                             epochs = epochs,               \n",
        "                             batch_size = 64,          \n",
        "                             validation_data=(x_val, y_val),callbacks=[lr_callback, es_callback,stopper])    "
      ]
    },
    {
      "cell_type": "code",
      "execution_count": null,
      "metadata": {
        "colab": {
          "base_uri": "https://localhost:8080/"
        },
        "id": "KOEUBFJSBpth",
        "outputId": "74e89653-c1da-4558-bb67-0aec400639a0"
      },
      "outputs": [
        {
          "data": {
            "image/png": "[encoded data removed]",
            "text/plain": [
              "<Figure size 864x288 with 2 Axes>"
            ]
          },
          "metadata": {},
          "output_type": "display_data"
        },
        {
          "data": {
            "application/vnd.google.colaboratory.intrinsic+json": {
              "type": "string"
            },
            "text/plain": [
              "\"\\nplt.xlabel('epochs')\\nplt.ylabel('accuracy')\\n\\nplt.plot(np.arange(1 , epochs+1, 1),\\n         train_acc,\\n         label = 'Training Accuracy',\\n         color = 'blue')\\nplt.plot(np.arange(1 , epochs+1, 1),\\n         train_loss,\\n         label = 'Training loss',\\n         color = 'green')\\nplt.plot(np.arange(1 , epochs+1, 1),\\n         val_acc, \\n         label = 'Validation Accuracy',\\n         color = 'red')\\nplt.plot(np.arange(1 , epochs+1, 1),\\n         val_loss, \\n         label = 'Validation loss',\\n         color = 'black')\\nplt.legend()\\nplt.show()\""
            ]
          },
          "execution_count": 108,
          "metadata": {},
          "output_type": "execute_result"
        }
      ],
      "source": [
        "if stopper.epoch == epochs:\n",
        "  x= epochs +1\n",
        "else:\n",
        "  x=stopper.epoch+2\n",
        "\n",
        "train_acc = training_history.history['accuracy']\n",
        "val_acc = training_history.history['val_accuracy']\n",
        "train_loss=training_history.history['loss']\n",
        "val_loss=training_history.history['val_loss']\n",
        "\n",
        "fig, (ax1, ax2) = plt.subplots(1, 2, figsize=(12, 4))\n",
        "ax1.set_title('Accuracy')\n",
        "ax1.set_xlabel('epochs')\n",
        "ax1.set_ylabel('accuracy')\n",
        "ax1.plot(np.arange(1 , x, 1), train_acc, label = 'Training Accuracy', color = 'blue')\n",
        "ax1.plot(np.arange(1 , x, 1), val_acc, label = 'Validation Accuracy', color = 'red')\n",
        "ax1.legend()\n",
        "\n",
        "ax2.set_title('Loss')\n",
        "ax2.set_xlabel('epochs')\n",
        "ax2.set_ylabel('loss')\n",
        "ax2.plot(np.arange(1 , x, 1), train_loss, label = 'Training loss', color = 'green')\n",
        "ax2.plot(np.arange(1 , x, 1), val_loss, label = 'Validation loss', color = 'black')\n",
        "ax2.legend()\n",
        "\n",
        "plt.show()"
      ]
    },
    {
      "cell_type": "code",
      "source": [],
      "metadata": {
        "id": "J-Mxa25gmv3u"
      },
      "execution_count": null,
      "outputs": []
    },
    {
      "cell_type": "markdown",
      "metadata": {
        "id": "_M0MuOMrsfLB"
      },
      "source": [
        "## learning on infection and COVID-19_Radiography_Dataset combined"
      ]
    },
    {
      "cell_type": "code",
      "execution_count": null,
      "metadata": {
        "id": "XM5OwtXhjE1X"
      },
      "outputs": [],
      "source": [
        "x_train_g =tf.concat( [x_train,x_train1,x_train2], axis = 0)\n",
        "y_train_g =tf.concat( [y_train,y_train1,y_train2], axis = 0)\n",
        "\n",
        "x_test_g = tf.concat( [x_test,x_test1,x_test2], axis = 0)\n",
        "y_test_g = tf.concat( [y_test,y_test1,y_test2], axis = 0)\n",
        "\n",
        "x_val_g = tf.concat( [x_val,x_val1,x_val2], axis = 0)\n",
        "y_val_g = tf.concat( [y_val,y_val1,y_val2], axis = 0)"
      ]
    },
    {
      "cell_type": "code",
      "execution_count": null,
      "metadata": {
        "colab": {
          "base_uri": "https://localhost:8080/"
        },
        "id": "aoyctNZ1kReU",
        "outputId": "1cbde017-345a-4ec8-e5d0-525a11cb2e05"
      },
      "outputs": [
        {
          "name": "stdout",
          "output_type": "stream",
          "text": [
            "Epoch 1/40\n",
            "304/304 [==============================] - 117s 384ms/step - loss: 0.1964 - accuracy: 0.9535 - val_loss: 0.1253 - val_accuracy: 0.9578 - lr: 0.0010\n",
            "Epoch 2/40\n",
            "304/304 [==============================] - 115s 378ms/step - loss: 0.0852 - accuracy: 0.9666 - val_loss: 0.1630 - val_accuracy: 0.9526 - lr: 0.0010\n",
            "Epoch 3/40\n",
            "304/304 [==============================] - 114s 374ms/step - loss: 0.0698 - accuracy: 0.9736 - val_loss: 0.6680 - val_accuracy: 0.6605 - lr: 0.0010\n",
            "Epoch 4/40\n",
            "304/304 [==============================] - 115s 377ms/step - loss: 0.0691 - accuracy: 0.9739 - val_loss: 0.3044 - val_accuracy: 0.9630 - lr: 0.0010\n",
            "Epoch 5/40\n",
            "304/304 [==============================] - 114s 374ms/step - loss: 0.0577 - accuracy: 0.9773 - val_loss: 6.5156 - val_accuracy: 0.4117 - lr: 0.0010\n",
            "Epoch 6/40\n",
            "304/304 [==============================] - 115s 378ms/step - loss: 0.0616 - accuracy: 0.9761 - val_loss: 4.7052 - val_accuracy: 0.4587 - lr: 8.0000e-04\n",
            "Epoch 7/40\n",
            "304/304 [==============================] - 133s 438ms/step - loss: 0.0414 - accuracy: 0.9836 - val_loss: 0.4068 - val_accuracy: 0.9371 - lr: 8.0000e-04\n",
            "Epoch 8/40\n",
            "304/304 [==============================] - 133s 438ms/step - loss: 0.0454 - accuracy: 0.9838 - val_loss: 0.1448 - val_accuracy: 0.9578 - lr: 8.0000e-04\n",
            "Epoch 9/40\n",
            "304/304 [==============================] - 122s 402ms/step - loss: 0.0402 - accuracy: 0.9847 - val_loss: 0.2562 - val_accuracy: 0.9400 - lr: 8.0000e-04\n",
            "Epoch 10/40\n",
            "304/304 [==============================] - 123s 405ms/step - loss: 0.0437 - accuracy: 0.9837 - val_loss: 0.1447 - val_accuracy: 0.9615 - lr: 8.0000e-04\n",
            "Epoch 11/40\n",
            "304/304 [==============================] - 123s 403ms/step - loss: 0.0304 - accuracy: 0.9885 - val_loss: 0.0916 - val_accuracy: 0.9730 - lr: 6.4000e-04\n",
            "Epoch 12/40\n",
            "304/304 [==============================] - 116s 382ms/step - loss: 0.0236 - accuracy: 0.9907 - val_loss: 1.6947 - val_accuracy: 0.8190 - lr: 6.4000e-04\n",
            "Epoch 13/40\n",
            "304/304 [==============================] - 114s 376ms/step - loss: 0.0801 - accuracy: 0.9740 - val_loss: 3.6606 - val_accuracy: 0.5572 - lr: 6.4000e-04\n",
            "Epoch 14/40\n",
            "304/304 [==============================] - 115s 377ms/step - loss: 0.0778 - accuracy: 0.9703 - val_loss: 0.1082 - val_accuracy: 0.9700 - lr: 6.4000e-04\n",
            "Epoch 15/40\n",
            "304/304 [==============================] - 114s 376ms/step - loss: 0.0431 - accuracy: 0.9845 - val_loss: 0.1434 - val_accuracy: 0.9693 - lr: 6.4000e-04\n",
            "Epoch 16/40\n",
            "304/304 [==============================] - 115s 379ms/step - loss: 0.0288 - accuracy: 0.9892 - val_loss: 0.2585 - val_accuracy: 0.9752 - lr: 5.1200e-04\n",
            "Epoch 17/40\n",
            "304/304 [==============================] - 115s 377ms/step - loss: 0.0219 - accuracy: 0.9922 - val_loss: 0.0941 - val_accuracy: 0.9756 - lr: 5.1200e-04\n",
            "Epoch 18/40\n",
            "304/304 [==============================] - 116s 381ms/step - loss: 0.0185 - accuracy: 0.9933 - val_loss: 0.1125 - val_accuracy: 0.9726 - lr: 5.1200e-04\n",
            "Epoch 19/40\n",
            "304/304 [==============================] - 118s 389ms/step - loss: 0.0184 - accuracy: 0.9932 - val_loss: 0.1324 - val_accuracy: 0.9689 - lr: 5.1200e-04\n",
            "Epoch 20/40\n",
            "304/304 [==============================] - 116s 383ms/step - loss: 0.0196 - accuracy: 0.9933 - val_loss: 0.1197 - val_accuracy: 0.9726 - lr: 5.1200e-04\n",
            "Epoch 21/40\n",
            "304/304 [==============================] - 117s 386ms/step - loss: 0.0115 - accuracy: 0.9960 - val_loss: 0.1261 - val_accuracy: 0.9748 - lr: 4.0960e-04\n"
          ]
        }
      ],
      "source": [
        "initial_learning_rate = 0.001\n",
        "steps= 5\n",
        "decay=0.8\n",
        "\n",
        "lr_schedule = tf.keras.optimizers.schedules.ExponentialDecay( initial_learning_rate= initial_learning_rate,decay_steps=steps,decay_rate=decay,staircase=True)\n",
        "lr = tf.Variable(initial_value=initial_learning_rate, trainable=False, dtype=tf.float32, name=\"learning_rate\")\n",
        "@tf.function\n",
        "def train_step(inputs, labels):\n",
        "    with tf.GradientTape() as tape:\n",
        "        logits = model(inputs)\n",
        "        loss_value = loss_fn(labels, logits)\n",
        "    grads = tape.gradient(loss_value, model.trainable_variables)\n",
        "    optimizer.apply_gradients(zip(grads, model.trainable_variables))\n",
        "    lr.assign(lr_schedule(optimizer.iterations))\n",
        "lr_callback = tf.keras.callbacks.LearningRateScheduler(lr_schedule)\n",
        "\n",
        "es_callback = tf.keras.callbacks.EarlyStopping(\n",
        "    monitor=\"val_loss\",\n",
        "    min_delta=0,\n",
        "    patience=10,\n",
        "    verbose=0,mode=\"auto\",baseline=None,restore_best_weights=True,)\n",
        "\n",
        "class EpochStopper(tf.keras.callbacks.Callback):\n",
        "    def __init__(self):\n",
        "        self.epoch = 0\n",
        "\n",
        "    def on_epoch_end(self, epoch, logs={}):\n",
        "        self.epoch = epoch\n",
        "\n",
        "stopper = EpochStopper()\n",
        "\n",
        "model.compile(loss='categorical_crossentropy', optimizer=Adam(learning_rate=lr), metrics=['accuracy'])\n",
        "\n",
        "\n",
        "epochs=40\n",
        "training_history = model.fit(x_train_g, y_train_g,         \n",
        "                             epochs = epochs,               \n",
        "                             batch_size = 64,          \n",
        "                             validation_data=(x_val_g, y_val_g),callbacks=[lr_callback, es_callback,stopper])    "
      ]
    },
    {
      "cell_type": "code",
      "execution_count": null,
      "metadata": {
        "colab": {
          "base_uri": "https://localhost:8080/",
          "height": 295
        },
        "id": "BJYcxbist_Aj",
        "outputId": "e54c924e-6718-478c-fd4d-4c8ebc440be9"
      },
      "outputs": [
        {
          "data": {
            "image/png": "[encoded data removed]",
            "text/plain": [
              "<Figure size 864x288 with 2 Axes>"
            ]
          },
          "metadata": {},
          "output_type": "display_data"
        }
      ],
      "source": [
        "if stopper.epoch == epochs:\n",
        "  x= epochs +1\n",
        "else:\n",
        "  x=stopper.epoch+2\n",
        "\n",
        "train_acc = training_history.history['accuracy']\n",
        "val_acc = training_history.history['val_accuracy']\n",
        "train_loss=training_history.history['loss']\n",
        "val_loss=training_history.history['val_loss']\n",
        "\n",
        "fig, (ax1, ax2) = plt.subplots(1, 2, figsize=(12, 4))\n",
        "ax1.set_title('Accuracy')\n",
        "ax1.set_xlabel('epochs')\n",
        "ax1.set_ylabel('accuracy')\n",
        "ax1.plot(np.arange(1 , x, 1), train_acc, label = 'Training Accuracy', color = 'blue')\n",
        "ax1.plot(np.arange(1 , x, 1), val_acc, label = 'Validation Accuracy', color = 'red')\n",
        "ax1.legend()\n",
        "\n",
        "ax2.set_title('Loss')\n",
        "ax2.set_xlabel('epochs')\n",
        "ax2.set_ylabel('loss')\n",
        "ax2.plot(np.arange(1 , x, 1), train_loss, label = 'Training loss', color = 'green')\n",
        "ax2.plot(np.arange(1 , x, 1), val_loss, label = 'Validation loss', color = 'black')\n",
        "ax2.legend()\n",
        "\n",
        "plt.show()"
      ]
    },
    {
      "cell_type": "code",
      "execution_count": null,
      "metadata": {
        "id": "IhJ83K-7t_Ak"
      },
      "outputs": [],
      "source": [
        "model.save('/content/drive/MyDrive/saves/CNN-Model/CNN_v4_g.h5')"
      ]
    },
    {
      "cell_type": "code",
      "execution_count": null,
      "metadata": {
        "colab": {
          "base_uri": "https://localhost:8080/"
        },
        "id": "evv5KVYQt_Ak",
        "outputId": "5710a7bc-11e9-4249-b909-d28235f9538d"
      },
      "outputs": [
        {
          "name": "stdout",
          "output_type": "stream",
          "text": [
            "152/152 [==============================] - 7s 49ms/step\n",
            "152/152 [==============================] - 7s 49ms/step - loss: 0.1184 - accuracy: 0.9642\n"
          ]
        },
        {
          "data": {
            "text/plain": [
              "[0.11838845908641815, 0.9641901850700378]"
            ]
          },
          "execution_count": 216,
          "metadata": {},
          "output_type": "execute_result"
        }
      ],
      "source": [
        "# Prediction de l'échantillon de test\n",
        "test_pred = model.predict(x_test_g)\n",
        "\n",
        "# Evaluation du modèle\n",
        "score = model.evaluate(x_test_g, y_test_g)\n",
        "score"
      ]
    },
    {
      "cell_type": "code",
      "execution_count": null,
      "metadata": {
        "colab": {
          "base_uri": "https://localhost:8080/"
        },
        "id": "9Xl0hHOnt_Ak",
        "outputId": "441bc9ed-8aef-4301-ce19-09c25b9c4ee8"
      },
      "outputs": [
        {
          "name": "stdout",
          "output_type": "stream",
          "text": [
            "              precision    recall  f1-score   support\n",
            "\n",
            "           0       0.99      0.94      0.96      1156\n",
            "           1       0.94      0.97      0.95      1577\n",
            "           2       0.98      0.97      0.97      2126\n",
            "\n",
            "    accuracy                           0.96      4859\n",
            "   macro avg       0.97      0.96      0.96      4859\n",
            "weighted avg       0.96      0.96      0.96      4859\n",
            "\n"
          ]
        }
      ],
      "source": [
        "test_pred_class = np.argmax(test_pred, axis=1)\n",
        "y_test_class = np.argmax(y_test_g, axis=1)\n",
        "\n",
        "print(metrics.classification_report(y_test_class, test_pred_class))"
      ]
    },
    {
      "cell_type": "code",
      "execution_count": null,
      "metadata": {
        "colab": {
          "base_uri": "https://localhost:8080/",
          "height": 351
        },
        "id": "zL0xLQuGt_Ak",
        "outputId": "39ca9b8b-a7ee-42d4-cc94-e6fb7d112436"
      },
      "outputs": [
        {
          "name": "stdout",
          "output_type": "stream",
          "text": [
            "[[1082   54   20]\n",
            " [  11 1533   33]\n",
            " [   4   52 2070]]\n"
          ]
        },
        {
          "data": {
            "image/png": "[encoded data removed]",
            "text/plain": [
              "<Figure size 432x288 with 2 Axes>"
            ]
          },
          "metadata": {},
          "output_type": "display_data"
        }
      ],
      "source": [
        "\n",
        "\n",
        "cnf_matrix = metrics.confusion_matrix(y_test_class, test_pred_class)\n",
        "print(cnf_matrix)\n",
        "\n",
        "classes = range(0,3)\n",
        "\n",
        "plt.figure()\n",
        "\n",
        "plt.imshow(cnf_matrix, interpolation='nearest',cmap='Blues')\n",
        "plt.title(\"confusionmatrix\")\n",
        "plt.colorbar()\n",
        "tick_marks = np.arange(len(classes))\n",
        "plt.xticks(tick_marks, classes)\n",
        "plt.yticks(tick_marks, classes)\n",
        "\n",
        "for i, j in itertools.product(range(cnf_matrix.shape[0]), range(cnf_matrix.shape[1])):\n",
        "    plt.text(j, i, cnf_matrix[i, j],\n",
        "             horizontalalignment=\"center\",\n",
        "             color=\"white\" if cnf_matrix[i, j] > ( cnf_matrix.max() / 2) else \"black\")\n",
        "\n",
        "plt.ylabel('labels')\n",
        "plt.xlabel('predictet')\n",
        "plt.show()\n"
      ]
    },
    {
      "cell_type": "code",
      "execution_count": null,
      "metadata": {
        "id": "4gVO9ecIt1As"
      },
      "outputs": [],
      "source": []
    },
    {
      "cell_type": "markdown",
      "metadata": {
        "id": "fp9cZ2JcsqCl"
      },
      "source": [
        "##learning on equalized Lung infection data"
      ]
    },
    {
      "cell_type": "code",
      "execution_count": null,
      "metadata": {
        "colab": {
          "base_uri": "https://localhost:8080/"
        },
        "id": "HB-2Hk7aspqY",
        "outputId": "263ddb4e-bd09-4cd6-892b-5847502f4f75"
      },
      "outputs": [
        {
          "name": "stdout",
          "output_type": "stream",
          "text": [
            "Epoch 1/40\n",
            "106/106 [==============================] - 49s 459ms/step - loss: 0.0977 - accuracy: 0.9662 - val_loss: 1.5994 - val_accuracy: 0.7199 - lr: 0.0010\n",
            "Epoch 2/40\n",
            "106/106 [==============================] - 48s 451ms/step - loss: 0.0753 - accuracy: 0.9738 - val_loss: 0.8099 - val_accuracy: 0.8233 - lr: 0.0010\n",
            "Epoch 3/40\n",
            "106/106 [==============================] - 48s 452ms/step - loss: 0.0655 - accuracy: 0.9757 - val_loss: 1.8913 - val_accuracy: 0.7345 - lr: 0.0010\n",
            "Epoch 4/40\n",
            "106/106 [==============================] - 56s 534ms/step - loss: 0.0742 - accuracy: 0.9741 - val_loss: 0.9436 - val_accuracy: 0.8167 - lr: 0.0010\n",
            "Epoch 5/40\n",
            "106/106 [==============================] - 47s 449ms/step - loss: 0.0554 - accuracy: 0.9805 - val_loss: 1.0181 - val_accuracy: 0.8257 - lr: 0.0010\n",
            "Epoch 6/40\n",
            "106/106 [==============================] - 48s 453ms/step - loss: 0.0341 - accuracy: 0.9897 - val_loss: 1.0145 - val_accuracy: 0.8379 - lr: 8.0000e-04\n",
            "Epoch 7/40\n",
            "106/106 [==============================] - 56s 530ms/step - loss: 0.0291 - accuracy: 0.9914 - val_loss: 1.0016 - val_accuracy: 0.8290 - lr: 8.0000e-04\n",
            "Epoch 8/40\n",
            "106/106 [==============================] - 49s 463ms/step - loss: 0.0231 - accuracy: 0.9935 - val_loss: 1.1478 - val_accuracy: 0.8318 - lr: 8.0000e-04\n",
            "Epoch 9/40\n",
            "106/106 [==============================] - 49s 460ms/step - loss: 0.0172 - accuracy: 0.9950 - val_loss: 0.8106 - val_accuracy: 0.8728 - lr: 8.0000e-04\n",
            "Epoch 10/40\n",
            "106/106 [==============================] - 55s 519ms/step - loss: 0.0256 - accuracy: 0.9913 - val_loss: 0.9670 - val_accuracy: 0.8552 - lr: 8.0000e-04\n",
            "Epoch 11/40\n",
            "106/106 [==============================] - 49s 464ms/step - loss: 0.0203 - accuracy: 0.9922 - val_loss: 1.4862 - val_accuracy: 0.8052 - lr: 6.4000e-04\n",
            "Epoch 12/40\n",
            "106/106 [==============================] - 49s 465ms/step - loss: 0.0106 - accuracy: 0.9969 - val_loss: 0.9494 - val_accuracy: 0.8591 - lr: 6.4000e-04\n"
          ]
        }
      ],
      "source": [
        "initial_learning_rate = 0.001\n",
        "steps= 5\n",
        "decay=0.8\n",
        "\n",
        "lr_schedule = tf.keras.optimizers.schedules.ExponentialDecay( initial_learning_rate= initial_learning_rate,decay_steps=steps,decay_rate=decay,staircase=True)\n",
        "lr = tf.Variable(initial_value=initial_learning_rate, trainable=False, dtype=tf.float32, name=\"learning_rate\")\n",
        "@tf.function\n",
        "def train_step(inputs, labels):\n",
        "    with tf.GradientTape() as tape:\n",
        "        logits = model(inputs)\n",
        "        loss_value = loss_fn(labels, logits)\n",
        "    grads = tape.gradient(loss_value, model.trainable_variables)\n",
        "    optimizer.apply_gradients(zip(grads, model.trainable_variables))\n",
        "    lr.assign(lr_schedule(optimizer.iterations))\n",
        "lr_callback = tf.keras.callbacks.LearningRateScheduler(lr_schedule)\n",
        "\n",
        "es_callback = tf.keras.callbacks.EarlyStopping(\n",
        "    monitor=\"val_loss\",\n",
        "    min_delta=0,\n",
        "    patience=10,\n",
        "    verbose=0,mode=\"auto\",baseline=None,restore_best_weights=True,)\n",
        "\n",
        "class EpochStopper(tf.keras.callbacks.Callback):\n",
        "    def __init__(self):\n",
        "        self.epoch = 0\n",
        "\n",
        "    def on_epoch_end(self, epoch, logs={}):\n",
        "        self.epoch = epoch\n",
        "\n",
        "stopper = EpochStopper()\n",
        "\n",
        "model.compile(loss='categorical_crossentropy', optimizer=Adam(learning_rate=lr), metrics=['accuracy'])\n",
        "\n",
        "\n",
        "epochs=40\n",
        "training_history = model.fit(x_train4, y_train4,         \n",
        "                             epochs = epochs,               \n",
        "                             batch_size = 64,          \n",
        "                             validation_data=(x_val4, y_val4),callbacks=[lr_callback, es_callback,stopper])    \n",
        "         "
      ]
    },
    {
      "cell_type": "code",
      "execution_count": null,
      "metadata": {
        "id": "H2LEfsbC_KOg"
      },
      "outputs": [],
      "source": []
    },
    {
      "cell_type": "code",
      "source": [],
      "metadata": {
        "id": "WPTZxRZ9m7Sr"
      },
      "execution_count": null,
      "outputs": []
    },
    {
      "cell_type": "markdown",
      "metadata": {
        "id": "5p_Xe5tsEga2"
      },
      "source": [
        "## learning false predicted"
      ]
    },
    {
      "cell_type": "markdown",
      "source": [
        "### creating data for false predicted images dataset"
      ],
      "metadata": {
        "id": "IsnKWfmzon18"
      }
    },
    {
      "cell_type": "code",
      "execution_count": null,
      "metadata": {
        "colab": {
          "base_uri": "https://localhost:8080/"
        },
        "id": "hAXeC1t0HHy1",
        "outputId": "0294840a-3d5c-496e-d982-edcb263ece62"
      },
      "outputs": [
        {
          "name": "stdout",
          "output_type": "stream",
          "text": [
            "132/132 [==============================] - 20s 147ms/step\n",
            "239/239 [==============================] - 28s 115ms/step\n",
            "239/239 [==============================] - 27s 115ms/step\n",
            "679/679 [==============================] - 81s 119ms/step\n"
          ]
        }
      ],
      "source": [
        "pred= model.predict(x_train)\n",
        "pred1=model.predict(x_train1)\n",
        "pred2=model.predict(x_train2)\n",
        "pred4=model.predict(x_train4)"
      ]
    },
    {
      "cell_type": "code",
      "execution_count": null,
      "metadata": {
        "id": "-PL7K7kSHHwJ"
      },
      "outputs": [],
      "source": [
        "predicted_class_indices = np.argmax(pred,axis=1)\n",
        "predicted_class_indices1 = np.argmax(pred1,axis=1)\n",
        "predicted_class_indices2 = np.argmax(pred2,axis=1)\n",
        "predicted_class_indices4 = np.argmax(pred4,axis=1)\n",
        "\n"
      ]
    },
    {
      "cell_type": "code",
      "execution_count": null,
      "metadata": {
        "id": "7tDKLeolz3e7"
      },
      "outputs": [],
      "source": [
        "pred = pd.DataFrame({'predictions':predicted_class_indices})\n",
        "pred1 = pd.DataFrame({'predictions':predicted_class_indices1})\n",
        "pred2 = pd.DataFrame({'predictions':predicted_class_indices2})\n",
        "pred4 = pd.DataFrame({'predictions':predicted_class_indices4})"
      ]
    },
    {
      "cell_type": "code",
      "execution_count": null,
      "metadata": {
        "id": "PFUFcediH0fP"
      },
      "outputs": [],
      "source": [
        "x=x_train.numpy()\n",
        "x1=x_train1.numpy()\n",
        "x2=x_train2.numpy()\n",
        "x4=x_train4.numpy()"
      ]
    },
    {
      "cell_type": "code",
      "execution_count": null,
      "metadata": {
        "id": "_3e3UeYVIxFE"
      },
      "outputs": [],
      "source": [
        "Z=[]\n",
        "for i in x:\n",
        "  Z.append([i])\n",
        "  #print(i)\n",
        "Z1=[]\n",
        "for i in x1:\n",
        "  Z1.append([i])\n",
        "  #print(i)\n",
        "Z2=[]\n",
        "for i in x2:\n",
        "  Z2.append([i])\n",
        "  #print(i)\n",
        "# Zg=[]\n",
        "# for i in xg:\n",
        "  # Zg.append([i])\n",
        "  #print(i)\n",
        "Z4=[]\n",
        "for i in x4:\n",
        "  Z4.append([i])\n",
        "  #print(i)"
      ]
    },
    {
      "cell_type": "code",
      "execution_count": null,
      "metadata": {
        "id": "yxVk2rIlMQ3e"
      },
      "outputs": [],
      "source": [
        "y= np.where(y_train == 1)[1]\n",
        "\n",
        "y1=np.where(y_train1 == 1)[1]\n",
        "\n",
        "y2=np.where(y_train2 == 1)[1]\n",
        "\n",
        "#yg=np.where(y_train_g == 1)[1]\n",
        "\n",
        "y4=np.where(y_train4 == 1)[1]"
      ]
    },
    {
      "cell_type": "code",
      "execution_count": null,
      "metadata": {
        "id": "CbL1EJL1JQp7"
      },
      "outputs": [],
      "source": [
        "df=pd.DataFrame({\"Z\":Z,\"y\":y})\n",
        "df1=pd.DataFrame({\"Z\":Z1,\"y\":y1})\n",
        "df2=pd.DataFrame({\"Z\":Z2,\"y\":y2})\n",
        "df4=pd.DataFrame({\"Z\":Z4,\"y\":y4})"
      ]
    },
    {
      "cell_type": "code",
      "execution_count": null,
      "metadata": {
        "id": "sUD9v-2FHqzt"
      },
      "outputs": [],
      "source": [
        "tr=pd.concat([df,pred], axis=1)\n",
        "tr1=pd.concat([df1,pred1], axis=1)\n",
        "tr2=pd.concat([df2,pred2], axis=1)\n",
        "tr4=pd.concat([df4,pred4], axis=1)"
      ]
    },
    {
      "cell_type": "code",
      "execution_count": null,
      "metadata": {
        "colab": {
          "base_uri": "https://localhost:8080/"
        },
        "id": "BnwMwjghMqur",
        "outputId": "72aedc88-9a54-41de-c9e5-a2532dfa8d44"
      },
      "outputs": [
        {
          "data": {
            "application/vnd.google.colaboratory.intrinsic+json": {
              "type": "string"
            },
            "text/plain": [
              "'trg'"
            ]
          },
          "execution_count": 61,
          "metadata": {},
          "output_type": "execute_result"
        }
      ],
      "source": [
        "trouble=pd.concat([tr,tr1,tr2,tr4], axis=0)\n",
        "'''trg'''"
      ]
    },
    {
      "cell_type": "code",
      "execution_count": null,
      "metadata": {
        "id": "1xwnZIAeRUzC"
      },
      "outputs": [],
      "source": [
        "df_filtered = trouble[trouble['y'] != trouble['predictions']]"
      ]
    },
    {
      "cell_type": "code",
      "execution_count": null,
      "metadata": {
        "colab": {
          "base_uri": "https://localhost:8080/"
        },
        "id": "Tg3kMEFmJstw",
        "outputId": "b302e7fd-a55d-4388-ecfb-498231eec79e"
      },
      "outputs": [
        {
          "name": "stdout",
          "output_type": "stream",
          "text": [
            "<class 'numpy.ndarray'>\n"
          ]
        },
        {
          "data": {
            "text/plain": [
              "(10994, 64, 64, 1)"
            ]
          },
          "execution_count": 63,
          "metadata": {},
          "output_type": "execute_result"
        }
      ],
      "source": [
        "imsize= 64\n",
        "X=[]\n",
        "y=[]\n",
        "for i,j in zip(df_filtered[\"Z\"],df_filtered[\"y\"]):\n",
        "  X.append(i)\n",
        "  y.append(j)\n",
        "X = np.array(X).reshape(-1, imsize, imsize, 1)\n",
        "print(type(X))\n",
        "X.shape"
      ]
    },
    {
      "cell_type": "code",
      "execution_count": null,
      "metadata": {
        "colab": {
          "base_uri": "https://localhost:8080/"
        },
        "id": "uAHgEQ9xJstw",
        "outputId": "0a0ed36a-5b5a-4f71-c4b1-f755e1076dda"
      },
      "outputs": [
        {
          "name": "stdout",
          "output_type": "stream",
          "text": [
            "<class 'numpy.ndarray'>\n"
          ]
        },
        {
          "data": {
            "text/plain": [
              "(10994, 3)"
            ]
          },
          "execution_count": 64,
          "metadata": {},
          "output_type": "execute_result"
        }
      ],
      "source": [
        "\n",
        "from keras.utils import to_categorical\n",
        "y= to_categorical(y)\n",
        "print(type(y))\n",
        "y.shape"
      ]
    },
    {
      "cell_type": "code",
      "execution_count": null,
      "metadata": {
        "id": "_WDTX-hZizqZ"
      },
      "outputs": [],
      "source": [
        "X_train, X_val, y_train, y_val = train_test_split(X, y, test_size=0.1, shuffle=True)\n",
        "X_train, X_test, y_train, y_test = train_test_split(X_train, y_train, test_size=0.2, shuffle=True)"
      ]
    },
    {
      "cell_type": "code",
      "execution_count": null,
      "metadata": {
        "id": "8jBNuD8_Jstw"
      },
      "outputs": [],
      "source": [
        "x_troubtr = tf.convert_to_tensor(X_train)\n",
        "y_troubtr = tf.convert_to_tensor(y_train1)\n",
        "\n",
        "x_troubte = tf.convert_to_tensor(X_test)\n",
        "y_troubte = tf.convert_to_tensor(y_test)\n",
        "\n",
        "x_troubva = tf.convert_to_tensor(X_val)\n",
        "y_troubva = tf.convert_to_tensor(y_val)"
      ]
    },
    {
      "cell_type": "code",
      "execution_count": null,
      "metadata": {
        "colab": {
          "base_uri": "https://localhost:8080/"
        },
        "id": "yE2TEeuxQBzY",
        "outputId": "da0e9482-0041-4be4-d654-23e9608bca50"
      },
      "outputs": [
        {
          "name": "stdout",
          "output_type": "stream",
          "text": [
            "(7915, 64, 64, 1) (7915, 3)\n"
          ]
        }
      ],
      "source": [
        "print(x_troubtr.shape,y_troubtr.shape)"
      ]
    },
    {
      "cell_type": "markdown",
      "source": [
        "### training on false predicted data"
      ],
      "metadata": {
        "id": "_f_jcC0AoyBR"
      }
    },
    {
      "cell_type": "code",
      "execution_count": null,
      "metadata": {
        "colab": {
          "base_uri": "https://localhost:8080/"
        },
        "id": "eQb1h2FLOoVX",
        "outputId": "07d00669-3bd6-489c-b902-a7f2852cad6e"
      },
      "outputs": [
        {
          "name": "stdout",
          "output_type": "stream",
          "text": [
            "Epoch 1/50\n",
            "124/124 [==============================] - 48s 376ms/step - loss: 0.3083 - accuracy: 0.8814 - val_loss: 0.2913 - val_accuracy: 0.8891 - lr: 0.0010\n",
            "Epoch 2/50\n",
            "124/124 [==============================] - 44s 353ms/step - loss: 0.2857 - accuracy: 0.8892 - val_loss: 0.2878 - val_accuracy: 0.8909 - lr: 0.0010\n",
            "Epoch 3/50\n",
            "124/124 [==============================] - 44s 351ms/step - loss: 0.2809 - accuracy: 0.8925 - val_loss: 0.2772 - val_accuracy: 0.9000 - lr: 0.0010\n",
            "Epoch 4/50\n",
            "124/124 [==============================] - 58s 468ms/step - loss: 0.2620 - accuracy: 0.9009 - val_loss: 0.2982 - val_accuracy: 0.8791 - lr: 8.0000e-04\n",
            "Epoch 5/50\n",
            "124/124 [==============================] - 55s 446ms/step - loss: 0.2563 - accuracy: 0.9068 - val_loss: 0.2909 - val_accuracy: 0.8864 - lr: 8.0000e-04\n",
            "Epoch 6/50\n",
            "124/124 [==============================] - 43s 350ms/step - loss: 0.2473 - accuracy: 0.9098 - val_loss: 0.2586 - val_accuracy: 0.8991 - lr: 8.0000e-04\n",
            "Epoch 7/50\n",
            "124/124 [==============================] - 45s 366ms/step - loss: 0.2414 - accuracy: 0.9070 - val_loss: 0.2970 - val_accuracy: 0.8900 - lr: 6.4000e-04\n",
            "Epoch 8/50\n",
            "124/124 [==============================] - 45s 364ms/step - loss: 0.2299 - accuracy: 0.9150 - val_loss: 0.2490 - val_accuracy: 0.9073 - lr: 6.4000e-04\n",
            "Epoch 9/50\n",
            "124/124 [==============================] - 44s 354ms/step - loss: 0.2314 - accuracy: 0.9159 - val_loss: 0.2521 - val_accuracy: 0.8964 - lr: 6.4000e-04\n",
            "Epoch 10/50\n",
            "124/124 [==============================] - 44s 352ms/step - loss: 0.2186 - accuracy: 0.9191 - val_loss: 0.2589 - val_accuracy: 0.8982 - lr: 5.1200e-04\n",
            "Epoch 11/50\n",
            "124/124 [==============================] - 45s 359ms/step - loss: 0.2173 - accuracy: 0.9162 - val_loss: 0.2394 - val_accuracy: 0.9091 - lr: 5.1200e-04\n",
            "Epoch 12/50\n",
            "124/124 [==============================] - 45s 365ms/step - loss: 0.2101 - accuracy: 0.9229 - val_loss: 0.2622 - val_accuracy: 0.8964 - lr: 5.1200e-04\n",
            "Epoch 13/50\n",
            "124/124 [==============================] - 44s 357ms/step - loss: 0.2038 - accuracy: 0.9246 - val_loss: 0.2449 - val_accuracy: 0.9100 - lr: 4.0960e-04\n",
            "Epoch 14/50\n",
            "124/124 [==============================] - 44s 352ms/step - loss: 0.2008 - accuracy: 0.9267 - val_loss: 0.2524 - val_accuracy: 0.9127 - lr: 4.0960e-04\n",
            "Epoch 15/50\n",
            "124/124 [==============================] - 44s 353ms/step - loss: 0.1904 - accuracy: 0.9289 - val_loss: 0.2934 - val_accuracy: 0.8918 - lr: 4.0960e-04\n",
            "Epoch 16/50\n",
            "124/124 [==============================] - 46s 368ms/step - loss: 0.1879 - accuracy: 0.9310 - val_loss: 0.2586 - val_accuracy: 0.9045 - lr: 3.2768e-04\n",
            "Epoch 17/50\n",
            "124/124 [==============================] - 44s 353ms/step - loss: 0.1823 - accuracy: 0.9335 - val_loss: 0.2476 - val_accuracy: 0.9173 - lr: 3.2768e-04\n",
            "Epoch 18/50\n",
            "124/124 [==============================] - 44s 354ms/step - loss: 0.1834 - accuracy: 0.9337 - val_loss: 0.2464 - val_accuracy: 0.9082 - lr: 3.2768e-04\n",
            "Epoch 19/50\n",
            "124/124 [==============================] - 43s 349ms/step - loss: 0.1738 - accuracy: 0.9364 - val_loss: 0.2552 - val_accuracy: 0.9245 - lr: 2.6214e-04\n",
            "Epoch 20/50\n",
            "124/124 [==============================] - 46s 373ms/step - loss: 0.1646 - accuracy: 0.9404 - val_loss: 0.2606 - val_accuracy: 0.9145 - lr: 2.6214e-04\n",
            "Epoch 21/50\n",
            "124/124 [==============================] - 44s 355ms/step - loss: 0.1663 - accuracy: 0.9397 - val_loss: 0.2838 - val_accuracy: 0.9000 - lr: 2.6214e-04\n"
          ]
        }
      ],
      "source": [
        "initial_learning_rate = 0.001\n",
        "steps= 3\n",
        "decay=0.8\n",
        "\n",
        "lr_schedule = tf.keras.optimizers.schedules.ExponentialDecay( initial_learning_rate= initial_learning_rate,decay_steps=steps,decay_rate=decay,staircase=True)\n",
        "lr = tf.Variable(initial_value=initial_learning_rate, trainable=False, dtype=tf.float32, name=\"learning_rate\")\n",
        "@tf.function\n",
        "def train_step(inputs, labels):\n",
        "    with tf.GradientTape() as tape:\n",
        "        logits = model(inputs)\n",
        "        loss_value = loss_fn(labels, logits)\n",
        "    grads = tape.gradient(loss_value, model.trainable_variables)\n",
        "    optimizer.apply_gradients(zip(grads, model.trainable_variables))\n",
        "    lr.assign(lr_schedule(optimizer.iterations))\n",
        "lr_callback = tf.keras.callbacks.LearningRateScheduler(lr_schedule)\n",
        "\n",
        "es_callback = tf.keras.callbacks.EarlyStopping(\n",
        "    monitor=\"val_loss\",\n",
        "    min_delta=0,\n",
        "    patience=10,\n",
        "    verbose=0,mode=\"auto\",baseline=None,restore_best_weights=True,)\n",
        "\n",
        "class EpochStopper(tf.keras.callbacks.Callback):\n",
        "    def __init__(self):\n",
        "        self.epoch = 0\n",
        "\n",
        "    def on_epoch_end(self, epoch, logs={}):\n",
        "        self.epoch = epoch\n",
        "\n",
        "stopper = EpochStopper()\n",
        "\n",
        "model.compile(loss='categorical_crossentropy', optimizer=Adam(learning_rate=lr), metrics=['accuracy'])\n",
        "\n",
        "\n",
        "epochs=50\n",
        "training_history = model.fit(x_troubtr, y_troubtr,         \n",
        "                             epochs = epochs,               \n",
        "                             batch_size = 64,          \n",
        "                             validation_data=(x_troubva, y_troubva),callbacks=[lr_callback, es_callback,stopper])"
      ]
    },
    {
      "cell_type": "code",
      "execution_count": null,
      "metadata": {
        "colab": {
          "base_uri": "https://localhost:8080/"
        },
        "id": "rjgtUhwjTOQl",
        "outputId": "a9f99cd5-cf97-4410-a690-aa2a6d079af5"
      },
      "outputs": [
        {
          "data": {
            "image/png": "[encoded data removed]",
            "text/plain": [
              "<Figure size 864x288 with 2 Axes>"
            ]
          },
          "metadata": {},
          "output_type": "display_data"
        }
      ],
      "source": [
        "if stopper.epoch == epochs:\n",
        "  x= epochs +1\n",
        "else:\n",
        "  x=stopper.epoch+2\n",
        "\n",
        "train_acc = training_history.history['accuracy']\n",
        "val_acc = training_history.history['val_accuracy']\n",
        "train_loss=training_history.history['loss']\n",
        "val_loss=training_history.history['val_loss']\n",
        "\n",
        "fig, (ax1, ax2) = plt.subplots(1, 2, figsize=(12, 4))\n",
        "ax1.set_title('Accuracy')\n",
        "ax1.set_xlabel('epochs')\n",
        "ax1.set_ylabel('accuracy')\n",
        "ax1.plot(np.arange(1 , x, 1), train_acc, label = 'Training Accuracy', color = 'blue')\n",
        "ax1.plot(np.arange(1 , x, 1), val_acc, label = 'Validation Accuracy', color = 'red')\n",
        "ax1.legend()\n",
        "\n",
        "ax2.set_title('Loss')\n",
        "ax2.set_xlabel('epochs')\n",
        "ax2.set_ylabel('loss')\n",
        "ax2.plot(np.arange(1 , x, 1), train_loss, label = 'Training loss', color = 'green')\n",
        "ax2.plot(np.arange(1 , x, 1), val_loss, label = 'Validation loss', color = 'black')\n",
        "ax2.legend()\n",
        "\n",
        "plt.show()"
      ]
    },
    {
      "cell_type": "code",
      "execution_count": null,
      "metadata": {
        "colab": {
          "base_uri": "https://localhost:8080/"
        },
        "id": "VKuBIvX1ad3o",
        "outputId": "d1cc0081-8b8f-4ce6-c3a2-eab5d274c761"
      },
      "outputs": [
        {
          "name": "stdout",
          "output_type": "stream",
          "text": [
            "Epoch 1/50\n",
            "124/124 [==============================] - 44s 350ms/step - loss: 0.1616 - accuracy: 0.9401 - val_loss: 0.2549 - val_accuracy: 0.9064 - lr: 1.0000e-04\n",
            "Epoch 2/50\n",
            "124/124 [==============================] - 43s 348ms/step - loss: 0.1583 - accuracy: 0.9437 - val_loss: 0.2534 - val_accuracy: 0.9100 - lr: 1.0000e-04\n",
            "Epoch 3/50\n",
            "124/124 [==============================] - 43s 349ms/step - loss: 0.1583 - accuracy: 0.9437 - val_loss: 0.2437 - val_accuracy: 0.9209 - lr: 1.0000e-04\n",
            "Epoch 4/50\n",
            "124/124 [==============================] - 46s 370ms/step - loss: 0.1492 - accuracy: 0.9468 - val_loss: 0.2539 - val_accuracy: 0.9191 - lr: 8.0000e-05\n",
            "Epoch 5/50\n",
            "124/124 [==============================] - 43s 350ms/step - loss: 0.1509 - accuracy: 0.9483 - val_loss: 0.2698 - val_accuracy: 0.9100 - lr: 8.0000e-05\n",
            "Epoch 6/50\n",
            "124/124 [==============================] - 44s 353ms/step - loss: 0.1461 - accuracy: 0.9473 - val_loss: 0.2503 - val_accuracy: 0.9200 - lr: 8.0000e-05\n",
            "Epoch 7/50\n",
            "124/124 [==============================] - 43s 350ms/step - loss: 0.1430 - accuracy: 0.9492 - val_loss: 0.2632 - val_accuracy: 0.9173 - lr: 6.4000e-05\n",
            "Epoch 8/50\n",
            "124/124 [==============================] - 46s 373ms/step - loss: 0.1442 - accuracy: 0.9471 - val_loss: 0.2531 - val_accuracy: 0.9191 - lr: 6.4000e-05\n"
          ]
        }
      ],
      "source": [
        "initial_learning_rate = 0.0001\n",
        "steps= 3\n",
        "decay=0.8\n",
        "\n",
        "lr_schedule = tf.keras.optimizers.schedules.ExponentialDecay( initial_learning_rate= initial_learning_rate,decay_steps=steps,decay_rate=decay,staircase=True)\n",
        "lr = tf.Variable(initial_value=initial_learning_rate, trainable=False, dtype=tf.float32, name=\"learning_rate\")\n",
        "@tf.function\n",
        "def train_step(inputs, labels):\n",
        "    with tf.GradientTape() as tape:\n",
        "        logits = model(inputs)\n",
        "        loss_value = loss_fn(labels, logits)\n",
        "    grads = tape.gradient(loss_value, model.trainable_variables)\n",
        "    optimizer.apply_gradients(zip(grads, model.trainable_variables))\n",
        "    lr.assign(lr_schedule(optimizer.iterations))\n",
        "lr_callback = tf.keras.callbacks.LearningRateScheduler(lr_schedule)\n",
        "\n",
        "es_callback = tf.keras.callbacks.EarlyStopping(\n",
        "    monitor=\"val_loss\",\n",
        "    min_delta=0,\n",
        "    patience=5,\n",
        "    verbose=0,mode=\"auto\",baseline=None,restore_best_weights=True,)\n",
        "\n",
        "class EpochStopper(tf.keras.callbacks.Callback):\n",
        "    def __init__(self):\n",
        "        self.epoch = 0\n",
        "\n",
        "    def on_epoch_end(self, epoch, logs={}):\n",
        "        self.epoch = epoch\n",
        "\n",
        "stopper = EpochStopper()\n",
        "\n",
        "model.compile(loss='categorical_crossentropy', optimizer=Adam(learning_rate=lr), metrics=['accuracy'])\n",
        "\n",
        "\n",
        "epochs=50\n",
        "training_history = model.fit(x_troubtr, y_troubtr,         \n",
        "                             epochs = epochs,               \n",
        "                             batch_size = 64,          \n",
        "                             validation_data=(x_troubva, y_troubva),callbacks=[lr_callback, es_callback,stopper])\n"
      ]
    },
    {
      "cell_type": "code",
      "execution_count": null,
      "metadata": {
        "colab": {
          "base_uri": "https://localhost:8080/"
        },
        "id": "NPLsr6pGpd4X",
        "outputId": "d3e299fc-c238-413b-a1e5-c63f2952818e"
      },
      "outputs": [
        {
          "name": "stdout",
          "output_type": "stream",
          "text": [
            "62/62 [==============================] - 7s 114ms/step\n",
            "62/62 [==============================] - 7s 110ms/step - loss: 0.2429 - accuracy: 0.9151\n"
          ]
        },
        {
          "data": {
            "text/plain": [
              "[0.24293018877506256, 0.9151086211204529]"
            ]
          },
          "execution_count": 86,
          "metadata": {},
          "output_type": "execute_result"
        }
      ],
      "source": [
        "test_pred = model.predict(x_troubte)\n",
        "\n",
        "# Evaluation\n",
        "score = model.evaluate(x_troubte, y_troubte)\n",
        "score"
      ]
    },
    {
      "cell_type": "code",
      "execution_count": null,
      "metadata": {
        "colab": {
          "base_uri": "https://localhost:8080/"
        },
        "id": "RowF-K02pd4X",
        "outputId": "654df3da-2bef-4942-8b53-0b622688f6fb"
      },
      "outputs": [
        {
          "name": "stdout",
          "output_type": "stream",
          "text": [
            "              precision    recall  f1-score   support\n",
            "\n",
            "           0       0.70      0.65      0.67       145\n",
            "           1       0.77      0.82      0.80       335\n",
            "           2       0.97      0.96      0.97      1499\n",
            "\n",
            "    accuracy                           0.92      1979\n",
            "   macro avg       0.81      0.81      0.81      1979\n",
            "weighted avg       0.92      0.92      0.92      1979\n",
            "\n"
          ]
        }
      ],
      "source": [
        "test_pred_class = np.argmax(test_pred, axis=1)\n",
        "y_test_class = np.argmax(y_troubte, axis=1)\n",
        "\n",
        "print(metrics.classification_report(y_test_class, test_pred_class))"
      ]
    },
    {
      "cell_type": "code",
      "execution_count": null,
      "metadata": {
        "colab": {
          "base_uri": "https://localhost:8080/"
        },
        "id": "N9oAmUKgpd4X",
        "outputId": "b5558861-aa6b-4aab-934f-f9b5a3394287"
      },
      "outputs": [
        {
          "name": "stdout",
          "output_type": "stream",
          "text": [
            "[[  94   36   15]\n",
            " [  28  275   32]\n",
            " [  12   45 1442]]\n"
          ]
        },
        {
          "data": {
            "image/png": "[encoded data removed]",
            "text/plain": [
              "<Figure size 432x288 with 2 Axes>"
            ]
          },
          "metadata": {},
          "output_type": "display_data"
        }
      ],
      "source": [
        "cnf_matrix = metrics.confusion_matrix(y_test_class, test_pred_class)\n",
        "print(cnf_matrix)\n",
        "classes = range(0,3)\n",
        "plt.figure()\n",
        "plt.imshow(cnf_matrix, interpolation='nearest',cmap='Blues')\n",
        "plt.title(\"confusionmatrix\")\n",
        "plt.colorbar()\n",
        "tick_marks = np.arange(len(classes))\n",
        "plt.xticks(tick_marks, classes)\n",
        "plt.yticks(tick_marks, classes)\n",
        "\n",
        "for i, j in itertools.product(range(cnf_matrix.shape[0]), range(cnf_matrix.shape[1])):\n",
        "    plt.text(j, i, cnf_matrix[i, j],\n",
        "             horizontalalignment=\"center\",\n",
        "             color=\"white\" if cnf_matrix[i, j] > ( cnf_matrix.max() / 2) else \"black\")\n",
        "\n",
        "plt.ylabel('labels')\n",
        "plt.xlabel('predictet')\n",
        "plt.show()"
      ]
    },
    {
      "cell_type": "markdown",
      "source": [
        "###train again on equalized lung infection"
      ],
      "metadata": {
        "id": "NG23L7hYpSc-"
      }
    },
    {
      "cell_type": "code",
      "execution_count": null,
      "metadata": {
        "colab": {
          "base_uri": "https://localhost:8080/"
        },
        "id": "vrUdI6JHfOtp",
        "outputId": "7aea7f99-fe04-45b4-c1b2-2b08b55b7ead"
      },
      "outputs": [
        {
          "name": "stdout",
          "output_type": "stream",
          "text": [
            "<keras.engine.sequential.Sequential object at 0x7f37804e47f0>\n",
            "<keras.layers.reshaping.up_sampling2d.UpSampling2D object at 0x7f378962dac0>\n",
            "<keras.layers.convolutional.conv2d.Conv2D object at 0x7f377b9beca0>\n",
            "<keras.layers.normalization.batch_normalization.BatchNormalization object at 0x7f377b885b50>\n",
            "<keras.layers.pooling.max_pooling2d.MaxPooling2D object at 0x7f377b8a2fa0>\n",
            "<keras.layers.reshaping.flatten.Flatten object at 0x7f377b8d8460>\n",
            "<keras.layers.core.dense.Dense object at 0x7f377b8b2370>\n",
            "<keras.layers.regularization.dropout.Dropout object at 0x7f377b8b2a90>\n",
            "<keras.layers.core.dense.Dense object at 0x7f377b8b2af0>\n",
            "<keras.layers.regularization.dropout.Dropout object at 0x7f377b8b2b80>\n",
            "<keras.layers.core.dense.Dense object at 0x7f377b844d00>\n"
          ]
        }
      ],
      "source": [
        "for layer in model.layers:\n",
        "  print(layer)\n",
        "  layer.trainable = False"
      ]
    },
    {
      "cell_type": "code",
      "execution_count": null,
      "metadata": {
        "colab": {
          "base_uri": "https://localhost:8080/"
        },
        "id": "fU0CdMxWfqWJ",
        "outputId": "8c283835-b54a-47c1-c16a-b1eba2c67dfe"
      },
      "outputs": [
        {
          "name": "stdout",
          "output_type": "stream",
          "text": [
            "Epoch 1/100\n",
            "340/340 [==============================] - 93s 268ms/step - loss: 0.6420 - accuracy: 0.7565 - val_loss: 0.4705 - val_accuracy: 0.8270 - lr: 0.0020\n",
            "Epoch 2/100\n",
            "340/340 [==============================] - 93s 275ms/step - loss: 0.5243 - accuracy: 0.7978 - val_loss: 0.4603 - val_accuracy: 0.8309 - lr: 0.0020\n",
            "Epoch 3/100\n",
            "340/340 [==============================] - 89s 263ms/step - loss: 0.5079 - accuracy: 0.8058 - val_loss: 0.4523 - val_accuracy: 0.8368 - lr: 0.0020\n",
            "Epoch 4/100\n",
            "340/340 [==============================] - 90s 264ms/step - loss: 0.5073 - accuracy: 0.8058 - val_loss: 0.4526 - val_accuracy: 0.8353 - lr: 0.0020\n",
            "Epoch 5/100\n",
            "340/340 [==============================] - 91s 267ms/step - loss: 0.4980 - accuracy: 0.8087 - val_loss: 0.4618 - val_accuracy: 0.8342 - lr: 0.0020\n",
            "Epoch 6/100\n",
            "340/340 [==============================] - 89s 262ms/step - loss: 0.4888 - accuracy: 0.8149 - val_loss: 0.4542 - val_accuracy: 0.8351 - lr: 0.0016\n",
            "Epoch 7/100\n",
            "340/340 [==============================] - 90s 266ms/step - loss: 0.4834 - accuracy: 0.8136 - val_loss: 0.4573 - val_accuracy: 0.8346 - lr: 0.0016\n",
            "Epoch 8/100\n",
            "340/340 [==============================] - 88s 259ms/step - loss: 0.4764 - accuracy: 0.8147 - val_loss: 0.4471 - val_accuracy: 0.8366 - lr: 0.0016\n",
            "Epoch 9/100\n",
            "340/340 [==============================] - 93s 275ms/step - loss: 0.4745 - accuracy: 0.8159 - val_loss: 0.4490 - val_accuracy: 0.8390 - lr: 0.0016\n",
            "Epoch 10/100\n",
            "340/340 [==============================] - 89s 262ms/step - loss: 0.4757 - accuracy: 0.8195 - val_loss: 0.4517 - val_accuracy: 0.8395 - lr: 0.0016\n",
            "Epoch 11/100\n",
            "340/340 [==============================] - 91s 267ms/step - loss: 0.4687 - accuracy: 0.8207 - val_loss: 0.4504 - val_accuracy: 0.8388 - lr: 0.0013\n",
            "Epoch 12/100\n",
            "340/340 [==============================] - 91s 268ms/step - loss: 0.4610 - accuracy: 0.8227 - val_loss: 0.4410 - val_accuracy: 0.8445 - lr: 0.0013\n",
            "Epoch 13/100\n",
            "340/340 [==============================] - 89s 262ms/step - loss: 0.4615 - accuracy: 0.8243 - val_loss: 0.4525 - val_accuracy: 0.8412 - lr: 0.0013\n",
            "Epoch 14/100\n",
            "340/340 [==============================] - 91s 266ms/step - loss: 0.4571 - accuracy: 0.8228 - val_loss: 0.4514 - val_accuracy: 0.8360 - lr: 0.0013\n",
            "Epoch 15/100\n",
            "340/340 [==============================] - 88s 260ms/step - loss: 0.4542 - accuracy: 0.8251 - val_loss: 0.4475 - val_accuracy: 0.8377 - lr: 0.0013\n",
            "Epoch 16/100\n",
            "340/340 [==============================] - 92s 270ms/step - loss: 0.4506 - accuracy: 0.8260 - val_loss: 0.4419 - val_accuracy: 0.8392 - lr: 0.0010\n",
            "Epoch 17/100\n",
            "340/340 [==============================] - 88s 260ms/step - loss: 0.4495 - accuracy: 0.8257 - val_loss: 0.4420 - val_accuracy: 0.8440 - lr: 0.0010\n",
            "Epoch 18/100\n",
            "340/340 [==============================] - 89s 261ms/step - loss: 0.4427 - accuracy: 0.8273 - val_loss: 0.4469 - val_accuracy: 0.8390 - lr: 0.0010\n",
            "Epoch 19/100\n",
            "340/340 [==============================] - 90s 266ms/step - loss: 0.4431 - accuracy: 0.8302 - val_loss: 0.4501 - val_accuracy: 0.8368 - lr: 0.0010\n",
            "Epoch 20/100\n",
            "340/340 [==============================] - 92s 270ms/step - loss: 0.4394 - accuracy: 0.8284 - val_loss: 0.4501 - val_accuracy: 0.8401 - lr: 0.0010\n",
            "Epoch 21/100\n",
            "340/340 [==============================] - 91s 269ms/step - loss: 0.4401 - accuracy: 0.8282 - val_loss: 0.4456 - val_accuracy: 0.8429 - lr: 8.1920e-04\n",
            "Epoch 22/100\n",
            "340/340 [==============================] - 88s 259ms/step - loss: 0.4340 - accuracy: 0.8307 - val_loss: 0.4494 - val_accuracy: 0.8453 - lr: 8.1920e-04\n"
          ]
        }
      ],
      "source": [
        "initial_learning_rate = 0.002\n",
        "steps= 5\n",
        "decay=0.8\n",
        "\n",
        "lr_schedule = tf.keras.optimizers.schedules.ExponentialDecay( initial_learning_rate= initial_learning_rate,decay_steps=steps,decay_rate=decay,staircase=True)\n",
        "lr = tf.Variable(initial_value=initial_learning_rate, trainable=False, dtype=tf.float32, name=\"learning_rate\")\n",
        "@tf.function\n",
        "def train_step(inputs, labels):\n",
        "    with tf.GradientTape() as tape:\n",
        "        logits = model(inputs)\n",
        "        loss_value = loss_fn(labels, logits)\n",
        "    grads = tape.gradient(loss_value, model.trainable_variables)\n",
        "    optimizer.apply_gradients(zip(grads, model.trainable_variables))\n",
        "    lr.assign(lr_schedule(optimizer.iterations))\n",
        "lr_callback = tf.keras.callbacks.LearningRateScheduler(lr_schedule)\n",
        "\n",
        "es_callback = tf.keras.callbacks.EarlyStopping(\n",
        "    monitor=\"val_loss\",\n",
        "    min_delta=0,\n",
        "    patience=10,\n",
        "    verbose=0,mode=\"auto\",baseline=None,restore_best_weights=True,)\n",
        "\n",
        "class EpochStopper(tf.keras.callbacks.Callback):\n",
        "    def __init__(self):\n",
        "        self.epoch = 0\n",
        "\n",
        "    def on_epoch_end(self, epoch, logs={}):\n",
        "        self.epoch = epoch\n",
        "\n",
        "stopper = EpochStopper()\n",
        "\n",
        "model.compile(loss='categorical_crossentropy', optimizer=Adam(learning_rate=lr), metrics=['accuracy'])\n",
        "\n",
        "\n",
        "epochs=100\n",
        "training_history = model.fit(x_train4, y_train4,         \n",
        "                             epochs = epochs,               \n",
        "                             batch_size = 64,          \n",
        "                             validation_data=(x_val4, y_val4),callbacks=[lr_callback, es_callback,stopper])"
      ]
    },
    {
      "cell_type": "code",
      "execution_count": null,
      "metadata": {
        "colab": {
          "base_uri": "https://localhost:8080/"
        },
        "id": "FSDprr-ep64Q",
        "outputId": "a62511af-2d35-4490-94e0-413823f389dc"
      },
      "outputs": [
        {
          "data": {
            "image/png": "[encoded data removed]",
            "text/plain": [
              "<Figure size 864x288 with 2 Axes>"
            ]
          },
          "metadata": {},
          "output_type": "display_data"
        }
      ],
      "source": [
        "if stopper.epoch == epochs:\n",
        "  x= epochs +1\n",
        "else:\n",
        "  x=stopper.epoch+2\n",
        "\n",
        "train_acc = training_history.history['accuracy']\n",
        "val_acc = training_history.history['val_accuracy']\n",
        "train_loss=training_history.history['loss']\n",
        "val_loss=training_history.history['val_loss']\n",
        "\n",
        "fig, (ax1, ax2) = plt.subplots(1, 2, figsize=(12, 4))\n",
        "ax1.set_title('Accuracy')\n",
        "ax1.set_xlabel('epochs')\n",
        "ax1.set_ylabel('accuracy')\n",
        "ax1.plot(np.arange(1 , x, 1), train_acc, label = 'Training Accuracy', color = 'blue')\n",
        "ax1.plot(np.arange(1 , x, 1), val_acc, label = 'Validation Accuracy', color = 'red')\n",
        "ax1.legend()\n",
        "\n",
        "ax2.set_title('Loss')\n",
        "ax2.set_xlabel('epochs')\n",
        "ax2.set_ylabel('loss')\n",
        "ax2.plot(np.arange(1 , x, 1), train_loss, label = 'Training loss', color = 'green')\n",
        "ax2.plot(np.arange(1 , x, 1), val_loss, label = 'Validation loss', color = 'black')\n",
        "ax2.legend()\n",
        "\n",
        "plt.show()"
      ]
    },
    {
      "cell_type": "code",
      "execution_count": null,
      "metadata": {
        "colab": {
          "base_uri": "https://localhost:8080/"
        },
        "id": "JXtBwm9oqKP3",
        "outputId": "3295389d-8c85-42c4-a671-0cc54005fa6e"
      },
      "outputs": [
        {
          "name": "stdout",
          "output_type": "stream",
          "text": [
            "Epoch 1/100\n",
            "340/340 [==============================] - 136s 396ms/step - loss: 0.5135 - accuracy: 0.8114 - val_loss: 0.4675 - val_accuracy: 0.8436 - lr: 0.0010\n",
            "Epoch 2/100\n",
            "340/340 [==============================] - 128s 377ms/step - loss: 0.4902 - accuracy: 0.8250 - val_loss: 0.4574 - val_accuracy: 0.8410 - lr: 0.0010\n",
            "Epoch 3/100\n",
            "340/340 [==============================] - 127s 374ms/step - loss: 0.4791 - accuracy: 0.8303 - val_loss: 0.4704 - val_accuracy: 0.8362 - lr: 0.0010\n",
            "Epoch 4/100\n",
            "340/340 [==============================] - 127s 374ms/step - loss: 0.4685 - accuracy: 0.8356 - val_loss: 0.4911 - val_accuracy: 0.8344 - lr: 8.0000e-04\n",
            "Epoch 5/100\n",
            "340/340 [==============================] - 125s 367ms/step - loss: 0.4603 - accuracy: 0.8364 - val_loss: 0.4667 - val_accuracy: 0.8480 - lr: 8.0000e-04\n",
            "Epoch 6/100\n",
            "340/340 [==============================] - 126s 370ms/step - loss: 0.4617 - accuracy: 0.8352 - val_loss: 0.4665 - val_accuracy: 0.8440 - lr: 8.0000e-04\n",
            "Epoch 7/100\n",
            "340/340 [==============================] - 123s 363ms/step - loss: 0.4455 - accuracy: 0.8390 - val_loss: 0.4378 - val_accuracy: 0.8492 - lr: 6.4000e-04\n",
            "Epoch 8/100\n",
            "340/340 [==============================] - 124s 365ms/step - loss: 0.4396 - accuracy: 0.8435 - val_loss: 0.5263 - val_accuracy: 0.8283 - lr: 6.4000e-04\n",
            "Epoch 9/100\n",
            "340/340 [==============================] - 127s 372ms/step - loss: 0.4388 - accuracy: 0.8445 - val_loss: 0.4216 - val_accuracy: 0.8588 - lr: 6.4000e-04\n",
            "Epoch 10/100\n",
            "340/340 [==============================] - 123s 361ms/step - loss: 0.4210 - accuracy: 0.8502 - val_loss: 0.4661 - val_accuracy: 0.8340 - lr: 5.1200e-04\n",
            "Epoch 11/100\n",
            "340/340 [==============================] - 126s 371ms/step - loss: 0.4235 - accuracy: 0.8481 - val_loss: 0.4422 - val_accuracy: 0.8552 - lr: 5.1200e-04\n",
            "Epoch 12/100\n",
            "340/340 [==============================] - 124s 364ms/step - loss: 0.4195 - accuracy: 0.8496 - val_loss: 0.4977 - val_accuracy: 0.8294 - lr: 5.1200e-04\n",
            "Epoch 13/100\n",
            "340/340 [==============================] - 127s 372ms/step - loss: 0.4087 - accuracy: 0.8538 - val_loss: 0.4190 - val_accuracy: 0.8575 - lr: 4.0960e-04\n",
            "Epoch 14/100\n",
            "340/340 [==============================] - 124s 365ms/step - loss: 0.4045 - accuracy: 0.8543 - val_loss: 0.4180 - val_accuracy: 0.8597 - lr: 4.0960e-04\n",
            "Epoch 15/100\n",
            "340/340 [==============================] - 126s 370ms/step - loss: 0.4016 - accuracy: 0.8569 - val_loss: 0.4336 - val_accuracy: 0.8506 - lr: 4.0960e-04\n",
            "Epoch 16/100\n",
            "340/340 [==============================] - 122s 358ms/step - loss: 0.3888 - accuracy: 0.8624 - val_loss: 0.4550 - val_accuracy: 0.8538 - lr: 3.2768e-04\n",
            "Epoch 17/100\n",
            "340/340 [==============================] - 124s 365ms/step - loss: 0.3877 - accuracy: 0.8589 - val_loss: 0.4233 - val_accuracy: 0.8519 - lr: 3.2768e-04\n",
            "Epoch 18/100\n",
            "340/340 [==============================] - 123s 363ms/step - loss: 0.3900 - accuracy: 0.8590 - val_loss: 0.4376 - val_accuracy: 0.8456 - lr: 3.2768e-04\n",
            "Epoch 19/100\n",
            "340/340 [==============================] - 125s 368ms/step - loss: 0.3769 - accuracy: 0.8664 - val_loss: 0.4230 - val_accuracy: 0.8571 - lr: 2.6214e-04\n",
            "Epoch 20/100\n",
            "340/340 [==============================] - 129s 378ms/step - loss: 0.3729 - accuracy: 0.8649 - val_loss: 0.4498 - val_accuracy: 0.8541 - lr: 2.6214e-04\n",
            "Epoch 21/100\n",
            "340/340 [==============================] - 123s 363ms/step - loss: 0.3689 - accuracy: 0.8673 - val_loss: 0.4286 - val_accuracy: 0.8497 - lr: 2.6214e-04\n",
            "Epoch 22/100\n",
            "340/340 [==============================] - 125s 369ms/step - loss: 0.3636 - accuracy: 0.8689 - val_loss: 0.4489 - val_accuracy: 0.8501 - lr: 2.0972e-04\n",
            "Epoch 23/100\n",
            "340/340 [==============================] - 121s 357ms/step - loss: 0.3585 - accuracy: 0.8719 - val_loss: 0.4300 - val_accuracy: 0.8560 - lr: 2.0972e-04\n",
            "Epoch 24/100\n",
            "340/340 [==============================] - 124s 366ms/step - loss: 0.3595 - accuracy: 0.8702 - val_loss: 0.4895 - val_accuracy: 0.8416 - lr: 2.0972e-04\n"
          ]
        }
      ],
      "source": [
        "initial_learning_rate = 0.001\n",
        "steps= 3\n",
        "decay=0.8\n",
        "\n",
        "lr_schedule = tf.keras.optimizers.schedules.ExponentialDecay( initial_learning_rate= initial_learning_rate,decay_steps=steps,decay_rate=decay,staircase=True)\n",
        "lr = tf.Variable(initial_value=initial_learning_rate, trainable=False, dtype=tf.float32, name=\"learning_rate\")\n",
        "@tf.function\n",
        "def train_step(inputs, labels):\n",
        "    with tf.GradientTape() as tape:\n",
        "        logits = model(inputs)\n",
        "        loss_value = loss_fn(labels, logits)\n",
        "    grads = tape.gradient(loss_value, model.trainable_variables)\n",
        "    optimizer.apply_gradients(zip(grads, model.trainable_variables))\n",
        "    lr.assign(lr_schedule(optimizer.iterations))\n",
        "lr_callback = tf.keras.callbacks.LearningRateScheduler(lr_schedule)\n",
        "\n",
        "es_callback = tf.keras.callbacks.EarlyStopping(\n",
        "    monitor=\"val_loss\",\n",
        "    min_delta=0,\n",
        "    patience=10,\n",
        "    verbose=0,mode=\"auto\",baseline=None,restore_best_weights=True,)\n",
        "\n",
        "class EpochStopper(tf.keras.callbacks.Callback):\n",
        "    def __init__(self):\n",
        "        self.epoch = 0\n",
        "\n",
        "    def on_epoch_end(self, epoch, logs={}):\n",
        "        self.epoch = epoch\n",
        "\n",
        "stopper = EpochStopper()\n",
        "\n",
        "model.compile(loss='categorical_crossentropy', optimizer=Adam(learning_rate=lr), metrics=['accuracy'])\n",
        "\n",
        "\n",
        "epochs=100\n",
        "training_history = model.fit(x_train4, y_train4,         \n",
        "                             epochs = epochs,               \n",
        "                             batch_size = 64,          \n",
        "                             validation_data=(x_val4, y_val4),callbacks=[lr_callback, es_callback,stopper])"
      ]
    },
    {
      "cell_type": "code",
      "execution_count": null,
      "metadata": {
        "colab": {
          "base_uri": "https://localhost:8080/"
        },
        "id": "9DMUtN4vqXOW",
        "outputId": "a4905699-2258-406e-b350-a54ae53b898d"
      },
      "outputs": [
        {
          "data": {
            "image/png": "[encoded data removed]",
            "text/plain": [
              "<Figure size 864x288 with 2 Axes>"
            ]
          },
          "metadata": {},
          "output_type": "display_data"
        }
      ],
      "source": [
        "if stopper.epoch == epochs:\n",
        "  x= epochs +1\n",
        "else:\n",
        "  x=stopper.epoch+2\n",
        "\n",
        "train_acc = training_history.history['accuracy']\n",
        "val_acc = training_history.history['val_accuracy']\n",
        "train_loss=training_history.history['loss']\n",
        "val_loss=training_history.history['val_loss']\n",
        "\n",
        "fig, (ax1, ax2) = plt.subplots(1, 2, figsize=(12, 4))\n",
        "ax1.set_title('Accuracy')\n",
        "ax1.set_xlabel('epochs')\n",
        "ax1.set_ylabel('accuracy')\n",
        "ax1.plot(np.arange(1 , x, 1), train_acc, label = 'Training Accuracy', color = 'blue')\n",
        "ax1.plot(np.arange(1 , x, 1), val_acc, label = 'Validation Accuracy', color = 'red')\n",
        "ax1.legend()\n",
        "\n",
        "ax2.set_title('Loss')\n",
        "ax2.set_xlabel('epochs')\n",
        "ax2.set_ylabel('loss')\n",
        "ax2.plot(np.arange(1 , x, 1), train_loss, label = 'Training loss', color = 'green')\n",
        "ax2.plot(np.arange(1 , x, 1), val_loss, label = 'Validation loss', color = 'black')\n",
        "ax2.legend()\n",
        "\n",
        "plt.show()"
      ]
    },
    {
      "cell_type": "code",
      "execution_count": null,
      "metadata": {
        "colab": {
          "base_uri": "https://localhost:8080/"
        },
        "id": "s1aLXmJQqXOW",
        "outputId": "84b75f68-db73-4818-9ee3-2af4854eefaf"
      },
      "outputs": [
        {
          "name": "stdout",
          "output_type": "stream",
          "text": [
            "213/213 [==============================] - 22s 105ms/step\n",
            "213/213 [==============================] - 22s 105ms/step - loss: 0.3812 - accuracy: 0.8765\n"
          ]
        },
        {
          "data": {
            "text/plain": [
              "[0.3811889588832855, 0.8765286803245544]"
            ]
          },
          "execution_count": 104,
          "metadata": {},
          "output_type": "execute_result"
        }
      ],
      "source": [
        "test_pred = model.predict(x_test4)\n",
        "\n",
        "# Evaluation\n",
        "score = model.evaluate(x_test4, y_test4)\n",
        "score"
      ]
    },
    {
      "cell_type": "code",
      "execution_count": null,
      "metadata": {
        "colab": {
          "base_uri": "https://localhost:8080/"
        },
        "id": "wA-oQ5icqXOW",
        "outputId": "56faa271-918b-440f-acb5-f9c08362ac85"
      },
      "outputs": [
        {
          "name": "stdout",
          "output_type": "stream",
          "text": [
            "              precision    recall  f1-score   support\n",
            "\n",
            "           0       0.89      0.90      0.90      2394\n",
            "           1       0.87      0.85      0.86      2253\n",
            "           2       0.87      0.87      0.87      2140\n",
            "\n",
            "    accuracy                           0.88      6787\n",
            "   macro avg       0.88      0.88      0.88      6787\n",
            "weighted avg       0.88      0.88      0.88      6787\n",
            "\n"
          ]
        }
      ],
      "source": [
        "test_pred_class = np.argmax(test_pred, axis=1)\n",
        "y_test_class = np.argmax(y_test4, axis=1)\n",
        "\n",
        "print(metrics.classification_report(y_test_class, test_pred_class))"
      ]
    },
    {
      "cell_type": "code",
      "execution_count": null,
      "metadata": {
        "colab": {
          "base_uri": "https://localhost:8080/"
        },
        "id": "1eYJwcZeqXOW",
        "outputId": "9a3b9a9c-2bfd-4168-d14b-1e31d6cb29b6"
      },
      "outputs": [
        {
          "name": "stdout",
          "output_type": "stream",
          "text": [
            "[[2165  110  119]\n",
            " [ 163 1925  165]\n",
            " [  92  189 1859]]\n"
          ]
        },
        {
          "data": {
            "image/png": "[encoded data removed]",
            "text/plain": [
              "<Figure size 432x288 with 2 Axes>"
            ]
          },
          "metadata": {},
          "output_type": "display_data"
        }
      ],
      "source": [
        "cnf_matrix = metrics.confusion_matrix(y_test_class, test_pred_class)\n",
        "print(cnf_matrix)\n",
        "classes = range(0,3)\n",
        "plt.figure()\n",
        "plt.imshow(cnf_matrix, interpolation='nearest',cmap='Blues')\n",
        "plt.title(\"confusionmatrix\")\n",
        "plt.colorbar()\n",
        "tick_marks = np.arange(len(classes))\n",
        "plt.xticks(tick_marks, classes)\n",
        "plt.yticks(tick_marks, classes)\n",
        "\n",
        "for i, j in itertools.product(range(cnf_matrix.shape[0]), range(cnf_matrix.shape[1])):\n",
        "    plt.text(j, i, cnf_matrix[i, j],\n",
        "             horizontalalignment=\"center\",\n",
        "             color=\"white\" if cnf_matrix[i, j] > ( cnf_matrix.max() / 2) else \"black\")\n",
        "\n",
        "plt.ylabel('labels')\n",
        "plt.xlabel('predictet')\n",
        "plt.show()"
      ]
    }
  ]
}