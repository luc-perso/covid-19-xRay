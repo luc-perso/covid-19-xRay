{
  "nbformat": 4,
  "nbformat_minor": 0,
  "metadata": {
    "colab": {
      "provenance": [],
      "authorship_tag": "ABX9TyPpLv4uvXA7FjeXHA1E6CFv",
      "include_colab_link": true
    },
    "kernelspec": {
      "name": "python3",
      "display_name": "Python 3"
    },
    "language_info": {
      "name": "python"
    }
  },
  "cells": [
    {
      "cell_type": "markdown",
      "metadata": {
        "id": "view-in-github",
        "colab_type": "text"
      },
      "source": [
        "<a href=\"https://colab.research.google.com/github/luc-perso/covid-19-xRay/blob/main/codes_ByAmani/VGG16_Model.ipynb\" target=\"_parent\"><img src=\"https://colab.research.google.com/assets/colab-badge.svg\" alt=\"Open In Colab\"/></a>"
      ]
    },
    {
      "cell_type": "code",
      "execution_count": 1,
      "metadata": {
        "colab": {
          "base_uri": "https://localhost:8080/"
        },
        "id": "hyISUBtYe3LJ",
        "outputId": "97c5a924-cbbb-4f6c-cad8-86fcc80b2a30"
      },
      "outputs": [
        {
          "output_type": "stream",
          "name": "stdout",
          "text": [
            "Mounted at /content/drive\n"
          ]
        }
      ],
      "source": [
        "from google.colab import drive\n",
        "drive.mount('/content/drive', force_remount=True)"
      ]
    },
    {
      "cell_type": "code",
      "source": [
        "!unzip -q '/content/drive/MyDrive/data_equalize.zip' -d '/content/'"
      ],
      "metadata": {
        "colab": {
          "base_uri": "https://localhost:8080/"
        },
        "id": "veRkROVke6JZ",
        "outputId": "b5aedaff-d5aa-4dbc-f3b7-5a1e1e91334c"
      },
      "execution_count": 2,
      "outputs": [
        {
          "output_type": "stream",
          "name": "stdout",
          "text": [
            "All\n"
          ]
        }
      ]
    },
    {
      "cell_type": "code",
      "source": [
        "lungdir ='/content/data_equalize/Lung Segmentation Data'\n",
        "infectdir ='/content/data_equalize/Infection Segmentation Data'\n",
        "\n",
        "train= '/Train'\n",
        "test= '/Test'\n",
        "val= '/Val'\n",
        "\n",
        "covid= '/COVID-19/images'\n",
        "noncovid='/Non-COVID/images'\n",
        "normal= '/Normal/images'\n",
        "\n",
        "\n"
      ],
      "metadata": {
        "id": "DiuwaX_ChIej"
      },
      "execution_count": 11,
      "outputs": []
    },
    {
      "cell_type": "code",
      "source": [
        "from tensorflow.keras.applications.vgg16 import preprocess_input\n",
        "from tensorflow.keras.preprocessing.image import ImageDataGenerator\n",
        "from tensorflow.keras.applications.vgg16 import VGG16\n",
        "from keras.models import Sequential\n",
        "from keras.layers import GlobalAveragePooling2D, Dense,Dropout\n",
        "import matplotlib.pyplot as plt\n",
        "import numpy as np"
      ],
      "metadata": {
        "id": "JB__1qWVe6UP"
      },
      "execution_count": 21,
      "outputs": []
    },
    {
      "cell_type": "code",
      "source": [
        "n_class=3\n",
        "batch_size = 32\n",
        "\n",
        "base_model = VGG16(weights='imagenet', include_top=False) \n",
        "\n",
        "for layer in base_model.layers: \n",
        "    layer.trainable = False\n",
        "\n",
        "model = Sequential()\n",
        "model.add(base_model) \n",
        "model.add(GlobalAveragePooling2D()) \n",
        "model.add(Dense(1024,activation='relu'))\n",
        "model.add(Dropout(rate=0.2))\n",
        "model.add(Dense(512, activation='relu'))\n",
        "model.add(Dropout(rate=0.2))\n",
        "model.add(Dense(n_class + 1, activation='softmax'))\n",
        "\n",
        "#model.compile(optimizer='adam', loss='sparse_categorical_crossentropy', metrics=['acc'])\n",
        "model.summary()"
      ],
      "metadata": {
        "colab": {
          "base_uri": "https://localhost:8080/"
        },
        "id": "LtZ3P-qCe6eX",
        "outputId": "533f7e98-9d2e-4512-c512-0969af92aad8"
      },
      "execution_count": 9,
      "outputs": [
        {
          "output_type": "stream",
          "name": "stdout",
          "text": [
            "Model: \"sequential_1\"\n",
            "_________________________________________________________________\n",
            " Layer (type)                Output Shape              Param #   \n",
            "=================================================================\n",
            " vgg16 (Functional)          (None, None, None, 512)   14714688  \n",
            "                                                                 \n",
            " global_average_pooling2d (G  (None, 512)              0         \n",
            " lobalAveragePooling2D)                                          \n",
            "                                                                 \n",
            " dense (Dense)               (None, 1024)              525312    \n",
            "                                                                 \n",
            " dropout (Dropout)           (None, 1024)              0         \n",
            "                                                                 \n",
            " dense_1 (Dense)             (None, 512)               524800    \n",
            "                                                                 \n",
            " dropout_1 (Dropout)         (None, 512)               0         \n",
            "                                                                 \n",
            " dense_2 (Dense)             (None, 4)                 2052      \n",
            "                                                                 \n",
            "=================================================================\n",
            "Total params: 15,766,852\n",
            "Trainable params: 1,052,164\n",
            "Non-trainable params: 14,714,688\n",
            "_________________________________________________________________\n"
          ]
        }
      ]
    },
    {
      "cell_type": "code",
      "source": [
        "train_data_generator = ImageDataGenerator(\n",
        "        preprocessing_function = preprocess_input,\n",
        "        \n",
        "        rotation_range = 10,\n",
        "        width_shift_range = 0.1,\n",
        "        height_shift_range = 0.1,\n",
        "        zoom_range = 1.1,\n",
        "        horizontal_flip = True\n",
        "        )\n",
        "\n",
        "test_data_generator = ImageDataGenerator(\n",
        "    preprocessing_function = preprocess_input)\n",
        "batch_size = 32\n",
        "\n",
        "\n",
        "train_generator = train_data_generator.flow_from_directory(directory=lungdir+train,\n",
        "                                                           class_mode =\"sparse\",\n",
        "                                                          target_size = (224 , 224), \n",
        "                                                          batch_size = batch_size)\n",
        "\n",
        "test_generator = test_data_generator.flow_from_directory(directory=lungdir+test,\n",
        "                                                         class_mode =\"sparse\",\n",
        "                                                        target_size = (224 , 224), \n",
        "                                                        batch_size = batch_size)\n"
      ],
      "metadata": {
        "colab": {
          "base_uri": "https://localhost:8080/"
        },
        "id": "ANjP-O-Re6nX",
        "outputId": "2b247a8a-a74b-4e8e-8c93-ed0190910256"
      },
      "execution_count": 12,
      "outputs": [
        {
          "output_type": "stream",
          "name": "stdout",
          "text": [
            "Found 21715 images belonging to 3 classes.\n",
            "Found 6787 images belonging to 3 classes.\n"
          ]
        }
      ]
    },
    {
      "cell_type": "code",
      "source": [
        "model.compile(optimizer='adam', loss='sparse_categorical_crossentropy', metrics=['acc'])\n"
      ],
      "metadata": {
        "id": "e88igq9Pfd2B"
      },
      "execution_count": 13,
      "outputs": []
    },
    {
      "cell_type": "code",
      "source": [
        "history = model.fit_generator(generator=train_generator, \n",
        "                                epochs = 5,\n",
        "                                steps_per_epoch = 1310//batch_size,\n",
        "                                validation_data = test_generator,\n",
        "                                validation_steps = 334//batch_size\n",
        "                                )\n"
      ],
      "metadata": {
        "colab": {
          "base_uri": "https://localhost:8080/"
        },
        "id": "4hCjuF9BfZVR",
        "outputId": "78c37609-430b-4a94-813c-1124839c7e89"
      },
      "execution_count": 16,
      "outputs": [
        {
          "output_type": "stream",
          "name": "stderr",
          "text": [
            "<ipython-input-16-d8d1cf1e1c63>:1: UserWarning: `Model.fit_generator` is deprecated and will be removed in a future version. Please use `Model.fit`, which supports generators.\n",
            "  history = model.fit_generator(generator=train_generator,\n"
          ]
        },
        {
          "output_type": "stream",
          "name": "stdout",
          "text": [
            "Epoch 1/5\n",
            "40/40 [==============================] - 846s 21s/step - loss: 0.8813 - acc: 0.5883 - val_loss: 0.9840 - val_acc: 0.5781\n",
            "Epoch 2/5\n",
            "40/40 [==============================] - 845s 21s/step - loss: 0.8380 - acc: 0.6211 - val_loss: 0.7901 - val_acc: 0.6812\n",
            "Epoch 3/5\n",
            "40/40 [==============================] - 931s 23s/step - loss: 0.8884 - acc: 0.5789 - val_loss: 0.6941 - val_acc: 0.7375\n",
            "Epoch 4/5\n",
            "40/40 [==============================] - 866s 22s/step - loss: 0.8545 - acc: 0.6148 - val_loss: 0.6186 - val_acc: 0.7563\n",
            "Epoch 5/5\n",
            "40/40 [==============================] - 863s 22s/step - loss: 0.8467 - acc: 0.6078 - val_loss: 0.5606 - val_acc: 0.7781\n"
          ]
        }
      ]
    },
    {
      "cell_type": "code",
      "source": [
        "#\n",
        "train_acc = history.history['acc']\n",
        "val_acc = history.history['val_acc']\n",
        "\n",
        "plt.xlabel('Epochs')\n",
        "plt.ylabel('Accuracy')\n",
        "\n",
        "plt.plot(np.arange(1 , 6, 1),\n",
        "         history.history['acc'],\n",
        "         label = 'Training Accuracy',\n",
        "         color = 'blue')\n",
        "\n",
        "plt.plot(np.arange(1 , 6, 1),\n",
        "         history.history['val_acc'], \n",
        "         label = 'Validation Accuracy',\n",
        "         color = 'red')\n",
        "\n",
        "plt.title('Convolutional Neural Network with Keras with the LeNet architecture')\n",
        "plt.legend()\n",
        "fig = plt.gcf()\n",
        "fig.savefig('fig_VGG16_1024_512.pdf')\n",
        "plt.show()\n",
        "\n"
      ],
      "metadata": {
        "colab": {
          "base_uri": "https://localhost:8080/",
          "height": 295
        },
        "id": "T8h4t4gMhU3u",
        "outputId": "79cdcf2c-48f5-4c66-c0a6-d65855789f74"
      },
      "execution_count": 23,
      "outputs": [
        {
          "output_type": "display_data",
          "data": {
            "text/plain": [
              "<Figure size 432x288 with 1 Axes>"
            ],
            "image/png": "[encoded data removed]"
          },
          "metadata": {
            "needs_background": "light"
          }
        }
      ]
    },
    {
      "cell_type": "code",
      "source": [
        "plt.figure(figsize=(12,4))\n",
        "plt.subplot(121)\n",
        "plt.plot(history.history['loss'])\n",
        "plt.plot(history.history['val_loss'])\n",
        "plt.title('Model loss by epoch')\n",
        "plt.ylabel('loss')\n",
        "plt.xlabel('epoch')\n",
        "plt.legend(['train', 'test'], loc='right')\n",
        "\n",
        "plt.subplot(122)\n",
        "plt.plot(history.history['acc'])\n",
        "plt.plot(history.history['val_acc'])\n",
        "plt.title('Model acc by epoch')\n",
        "plt.ylabel('acc')\n",
        "plt.xlabel('epoch')\n",
        "plt.legend(['train', 'test'], loc='right')\n",
        "plt.show()"
      ],
      "metadata": {
        "colab": {
          "base_uri": "https://localhost:8080/",
          "height": 295
        },
        "id": "_EFZ30LnlkXC",
        "outputId": "1d2da0c2-a99b-4335-8e2e-4d4fd8fe564f"
      },
      "execution_count": 24,
      "outputs": [
        {
          "output_type": "display_data",
          "data": {
            "text/plain": [
              "<Figure size 864x288 with 2 Axes>"
            ],
            "image/png": "[encoded data removed]"
          },
          "metadata": {
            "needs_background": "light"
          }
        }
      ]
    }
  ]
}