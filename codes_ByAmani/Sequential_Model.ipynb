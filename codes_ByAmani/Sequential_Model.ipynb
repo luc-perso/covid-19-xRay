{
  "cells": [
    {
      "cell_type": "markdown",
      "metadata": {
        "id": "view-in-github",
        "colab_type": "text"
      },
      "source": [
        "<a href=\"https://colab.research.google.com/github/luc-perso/covid-19-xRay/blob/main/codes_ByAmani/Sequential_Model.ipynb\" target=\"_parent\"><img src=\"https://colab.research.google.com/assets/colab-badge.svg\" alt=\"Open In Colab\"/></a>"
      ]
    },
    {
      "cell_type": "code",
      "execution_count": null,
      "metadata": {
        "colab": {
          "base_uri": "https://localhost:8080/"
        },
        "id": "TDFKRcmeIvVr",
        "outputId": "6d51ae5d-c942-461f-96a3-a04f5481ef90"
      },
      "outputs": [
        {
          "name": "stdout",
          "output_type": "stream",
          "text": [
            "Mounted at /content/drive\n"
          ]
        }
      ],
      "source": [
        "from google.colab import drive\n",
        "drive.mount('/content/drive', force_remount=True)"
      ]
    },
    {
      "cell_type": "code",
      "execution_count": null,
      "metadata": {
        "colab": {
          "base_uri": "https://localhost:8080/"
        },
        "id": "Wf4B8OnDIvJ1",
        "outputId": "5e9c3b9c-8820-44cd-8f10-88e088c3fca2"
      },
      "outputs": [
        {
          "name": "stdout",
          "output_type": "stream",
          "text": [
            "replace /content/data_equalize/.DS_Store? [y]es, [n]o, [A]ll, [N]one, [r]ename: All\n"
          ]
        }
      ],
      "source": [
        "!unzip -q '/content/drive/MyDrive/data_equalize.zip' -d '/content/'"
      ]
    },
    {
      "cell_type": "code",
      "execution_count": null,
      "metadata": {
        "id": "epBs14BPH26n"
      },
      "outputs": [],
      "source": [
        "\n",
        "import numpy as np\n",
        "from sklearn import metrics \n",
        "from keras.layers.core import Dense, Flatten, Dropout\n",
        "from keras.models import Sequential, Model\n",
        "from keras.layers.convolutional import Convolution2D, MaxPooling2D, ZeroPadding2D\n",
        "from keras.optimizers import SGD\n",
        "from tensorflow.keras.utils import to_categorical,plot_model\n",
        "import matplotlib.pyplot as plt\n",
        "from keras.preprocessing import image\n",
        "from tensorflow.keras.preprocessing.image import ImageDataGenerator"
      ]
    },
    {
      "cell_type": "code",
      "execution_count": null,
      "metadata": {
        "colab": {
          "base_uri": "https://localhost:8080/"
        },
        "id": "sbdDdt3rJsi9",
        "outputId": "367e65df-c03b-46aa-e16e-6f3cd500d6e9"
      },
      "outputs": [
        {
          "name": "stdout",
          "output_type": "stream",
          "text": [
            "Model: \"sequential\"\n",
            "_________________________________________________________________\n",
            " Layer (type)                Output Shape              Param #   \n",
            "=================================================================\n",
            " zero_padding2d (ZeroPadding  (None, 130, 130, 1)      0         \n",
            " 2D)                                                             \n",
            "                                                                 \n",
            " conv2d (Conv2D)             (None, 130, 130, 64)      128       \n",
            "                                                                 \n",
            " zero_padding2d_1 (ZeroPaddi  (None, 132, 132, 64)     0         \n",
            " ng2D)                                                           \n",
            "                                                                 \n",
            " conv2d_1 (Conv2D)           (None, 132, 132, 64)      4160      \n",
            "                                                                 \n",
            " max_pooling2d (MaxPooling2D  (None, 66, 66, 64)       0         \n",
            " )                                                               \n",
            "                                                                 \n",
            " zero_padding2d_2 (ZeroPaddi  (None, 68, 68, 64)       0         \n",
            " ng2D)                                                           \n",
            "                                                                 \n",
            " conv2d_2 (Conv2D)           (None, 68, 68, 1024)      66560     \n",
            "                                                                 \n",
            " zero_padding2d_3 (ZeroPaddi  (None, 70, 70, 1024)     0         \n",
            " ng2D)                                                           \n",
            "                                                                 \n",
            " conv2d_3 (Conv2D)           (None, 70, 70, 1024)      1049600   \n",
            "                                                                 \n",
            " max_pooling2d_1 (MaxPooling  (None, 35, 35, 1024)     0         \n",
            " 2D)                                                             \n",
            "                                                                 \n",
            " zero_padding2d_4 (ZeroPaddi  (None, 37, 37, 1024)     0         \n",
            " ng2D)                                                           \n",
            "                                                                 \n",
            " conv2d_4 (Conv2D)           (None, 37, 37, 512)       524800    \n",
            "                                                                 \n",
            " zero_padding2d_5 (ZeroPaddi  (None, 39, 39, 512)      0         \n",
            " ng2D)                                                           \n",
            "                                                                 \n",
            " conv2d_5 (Conv2D)           (None, 39, 39, 512)       262656    \n",
            "                                                                 \n",
            " zero_padding2d_6 (ZeroPaddi  (None, 41, 41, 512)      0         \n",
            " ng2D)                                                           \n",
            "                                                                 \n",
            " conv2d_6 (Conv2D)           (None, 41, 41, 512)       262656    \n",
            "                                                                 \n",
            " max_pooling2d_2 (MaxPooling  (None, 20, 20, 512)      0         \n",
            " 2D)                                                             \n",
            "                                                                 \n",
            " flatten (Flatten)           (None, 204800)            0         \n",
            "                                                                 \n",
            " dense (Dense)               (None, 256)               52429056  \n",
            "                                                                 \n",
            " dropout (Dropout)           (None, 256)               0         \n",
            "                                                                 \n",
            " dense_1 (Dense)             (None, 128)               32896     \n",
            "                                                                 \n",
            " dropout_1 (Dropout)         (None, 128)               0         \n",
            "                                                                 \n",
            " dense_2 (Dense)             (None, 3)                 387       \n",
            "                                                                 \n",
            "=================================================================\n",
            "Total params: 54,632,899\n",
            "Trainable params: 54,632,899\n",
            "Non-trainable params: 0\n",
            "_________________________________________________________________\n",
            "None\n"
          ]
        },
        {
          "name": "stderr",
          "output_type": "stream",
          "text": [
            "/usr/local/lib/python3.8/dist-packages/keras/optimizers/optimizer_v2/gradient_descent.py:108: UserWarning: The `lr` argument is deprecated, use `learning_rate` instead.\n",
            "  super(SGD, self).__init__(name, **kwargs)\n"
          ]
        }
      ],
      "source": [
        "model= Sequential()\n",
        "model.add(ZeroPadding2D((1,1), input_shape=(128,128,1)))\n",
        "model.add(Convolution2D (64,1,1,activation= \"relu\"))\n",
        "model.add(ZeroPadding2D((1,1)))\n",
        "model.add(Convolution2D (64,1,1,activation= \"relu\"))\n",
        "model.add(MaxPooling2D((2,2), strides=(2,2)))\n",
        "\n",
        "model.add(ZeroPadding2D((1,1)))\n",
        "model.add(Convolution2D (1024,1,1,activation= \"relu\"))\n",
        "model.add(ZeroPadding2D((1,1)))\n",
        "model.add(Convolution2D (1024,1,1,activation= \"relu\"))\n",
        "model.add(MaxPooling2D((2,2), strides=(2,2)))\n",
        "\n",
        "model.add(ZeroPadding2D((1,1)))\n",
        "model.add(Convolution2D (512,1,1,activation= \"relu\"))\n",
        "model.add(ZeroPadding2D((1,1)))\n",
        "model.add(Convolution2D (512,1,1,activation= \"relu\"))\n",
        "model.add(ZeroPadding2D((1,1)))\n",
        "model.add(Convolution2D (512,1,1,activation= \"relu\"))\n",
        "model.add(MaxPooling2D((2,2), strides=(2,2)))\n",
        "\n",
        "model.add(Flatten())\n",
        "model.add(Dense(256, activation=\"relu\"))\n",
        "model.add(Dropout(0.5))\n",
        "model.add(Dense(128, activation=\"relu\"))\n",
        "model.add(Dropout(0.5))\n",
        "model.add(Dense(3, activation=\"softmax\"))\n",
        "\n",
        "sgd=SGD(lr=0.1, decay=1e-6, momentum= 0.9, nesterov=True)\n",
        "model.compile(optimizer=sgd, loss=\"categorical_crossentropy\", metrics= [\"accuracy\"])\n",
        "print(model.summary())\n"
      ]
    },
    {
      "cell_type": "code",
      "execution_count": null,
      "metadata": {
        "id": "Fd1FX2Lf9KHq"
      },
      "outputs": [],
      "source": [
        "plot_model(model)\n",
        "fig = plt.gcf()\n",
        "fig.savefig('model_Sequential_.pdf')"
      ]
    },
    {
      "cell_type": "code",
      "execution_count": null,
      "metadata": {
        "id": "3YGsQV5nfuZ2"
      },
      "outputs": [],
      "source": [
        "lungdir ='/content/data_equalize/Lung Segmentation Data'\n",
        "infectdir ='/content/data_equalize/Infection Segmentation Data'\n",
        "\n",
        "train= '/Train'\n",
        "test= '/Test'\n",
        "val= '/Val'\n",
        "\n",
        "covid= '/COVID-19/images'\n",
        "noncovid='/Non-COVID/images'\n",
        "normal= '/Normal/images'\n"
      ]
    },
    {
      "cell_type": "code",
      "execution_count": null,
      "metadata": {
        "colab": {
          "base_uri": "https://localhost:8080/"
        },
        "id": "ROKM8zSkhgH5",
        "outputId": "08492fb0-1677-4088-a8b2-43229ad2f740"
      },
      "outputs": [
        {
          "name": "stdout",
          "output_type": "stream",
          "text": [
            "Found 21715 images belonging to 3 classes.\n",
            "Found 6787 images belonging to 3 classes.\n",
            "Epoch 1/5\n"
          ]
        },
        {
          "name": "stderr",
          "output_type": "stream",
          "text": [
            "<ipython-input-14-7c01e0288eb1>:31: UserWarning: `Model.fit_generator` is deprecated and will be removed in a future version. Please use `Model.fit`, which supports generators.\n",
            "  hist= model.fit_generator(\n"
          ]
        },
        {
          "name": "stdout",
          "output_type": "stream",
          "text": [
            "40/40 [==============================] - 1170s 29s/step - loss: 1.1122 - accuracy: 0.3344 - val_loss: 1.0941 - val_accuracy: 0.4062\n",
            "Epoch 2/5\n",
            "40/40 [==============================] - 1167s 29s/step - loss: 1.1037 - accuracy: 0.3425 - val_loss: 1.0989 - val_accuracy: 0.3344\n",
            "Epoch 3/5\n",
            "40/40 [==============================] - 1208s 30s/step - loss: 1.1011 - accuracy: 0.3594 - val_loss: 1.1036 - val_accuracy: 0.3250\n",
            "Epoch 4/5\n",
            "40/40 [==============================] - 1162s 29s/step - loss: 1.1034 - accuracy: 0.3344 - val_loss: 1.1035 - val_accuracy: 0.3219\n",
            "Epoch 5/5\n",
            "40/40 [==============================] - 1166s 29s/step - loss: 1.1020 - accuracy: 0.3492 - val_loss: 1.1096 - val_accuracy: 0.3063\n"
          ]
        }
      ],
      "source": [
        "# train from scratch\n",
        "train_datagen= image.ImageDataGenerator(\n",
        "    rescale= 1./255,\n",
        "    shear_range= 0.2,\n",
        "    zoom_range= 0.2,\n",
        "    horizontal_flip=True\n",
        "    \n",
        ")\n",
        "\n",
        "test_dataset= image.ImageDataGenerator(\n",
        "    rescale= 1./255)\n",
        "\n",
        "train_generator= train_datagen.flow_from_directory(\n",
        "    \n",
        "    lungdir + train,\n",
        "   \n",
        "    target_size= (128,128),\n",
        "    batch_size=32,\n",
        "    class_mode=\"categorical\",\n",
        "    color_mode='grayscale'\n",
        ")\n",
        "\n",
        "test_generator= test_dataset.flow_from_directory(\n",
        "    lungdir+ test,\n",
        "    target_size= (128,128),\n",
        "    batch_size=32,\n",
        "    class_mode=\"categorical\",\n",
        "    color_mode='grayscale'\n",
        ")\n",
        "\n",
        "hist= model.fit_generator(\n",
        "    train_generator,\n",
        "    steps_per_epoch= 1310//32,\n",
        "    epochs=5,\n",
        "    validation_data=test_generator,\n",
        "    validation_steps=334//32\n",
        ")\n",
        "\n",
        "#print(\"train evaluation\",model.evaluate(train_generator))\n",
        "#print(\"test evaluation\",model.evaluate_generator(test_generator))\n",
        "#print(train_generator.class_indices)"
      ]
    },
    {
      "cell_type": "code",
      "execution_count": null,
      "metadata": {
        "id": "i0h0JqmJ6Lri"
      },
      "outputs": [],
      "source": []
    },
    {
      "cell_type": "code",
      "execution_count": null,
      "metadata": {
        "colab": {
          "base_uri": "https://localhost:8080/",
          "height": 295
        },
        "id": "wzuLRcrPfvkX",
        "outputId": "a73fcf40-1255-42f0-dbf7-9c2224168fb6"
      },
      "outputs": [
        {
          "data": {
            "image/png": "[encoded data removed]",
            "text/plain": [
              "<Figure size 432x288 with 1 Axes>"
            ]
          },
          "metadata": {},
          "output_type": "display_data"
        }
      ],
      "source": [
        "#@title Default title text\n",
        "train_acc = hist.history['accuracy']\n",
        "val_acc = hist.history['val_accuracy']\n",
        "\n",
        "plt.xlabel('Epochs')\n",
        "plt.ylabel('Accuracy')\n",
        "\n",
        "\n",
        "ax= plt.plot(np.arange(1 , 6, 1),\n",
        "         hist.history['accuracy'],\n",
        "         label = 'Training Accuracy',\n",
        "         color = 'blue')\n",
        "\n",
        "ax+ plt.plot(np.arange(1 , 6, 1),\n",
        "         hist.history['val_accuracy'], \n",
        "         label = 'Validation Accuracy',\n",
        "         color = 'red')\n",
        "\n",
        "\n",
        "plt.title('CNN with Sequential')\n",
        "plt.legend()\n",
        "fig = plt.gcf()\n",
        "fig.savefig('fig_Sequential.pdf')\n",
        "plt.show()\n",
        "\n"
      ]
    }
  ],
  "metadata": {
    "colab": {
      "provenance": [],
      "authorship_tag": "ABX9TyPvxgOSX9kHJsz8dZo9ua8h",
      "include_colab_link": true
    },
    "kernelspec": {
      "display_name": "Python 3",
      "name": "python3"
    },
    "language_info": {
      "name": "python"
    }
  },
  "nbformat": 4,
  "nbformat_minor": 0
}