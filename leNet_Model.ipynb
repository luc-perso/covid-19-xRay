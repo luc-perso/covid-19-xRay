{
  "nbformat": 4,
  "nbformat_minor": 0,
  "metadata": {
    "colab": {
      "provenance": [],
      "authorship_tag": "ABX9TyPaDb48pNrsJAJYHML/lowu",
      "include_colab_link": true
    },
    "kernelspec": {
      "name": "python3",
      "display_name": "Python 3"
    },
    "language_info": {
      "name": "python"
    }
  },
  "cells": [
    {
      "cell_type": "markdown",
      "metadata": {
        "id": "view-in-github",
        "colab_type": "text"
      },
      "source": [
        "<a href=\"https://colab.research.google.com/github/luc-perso/covid-19-xRay/blob/main/leNet_Model.ipynb\" target=\"_parent\"><img src=\"https://colab.research.google.com/assets/colab-badge.svg\" alt=\"Open In Colab\"/></a>"
      ]
    },
    {
      "cell_type": "code",
      "execution_count": 1,
      "metadata": {
        "colab": {
          "base_uri": "https://localhost:8080/"
        },
        "id": "ZND5DCve8CJw",
        "outputId": "8bde1653-88f9-4a63-d6aa-d044012ac8c0"
      },
      "outputs": [
        {
          "output_type": "stream",
          "name": "stdout",
          "text": [
            "Mounted at /content/drive\n"
          ]
        }
      ],
      "source": [
        "from google.colab import drive\n",
        "drive.mount('/content/drive', force_remount=True)"
      ]
    },
    {
      "cell_type": "code",
      "source": [
        "!unzip -q '/content/drive/MyDrive/data_equalize.zip' -d '/content/'"
      ],
      "metadata": {
        "colab": {
          "base_uri": "https://localhost:8080/"
        },
        "id": "RxvY0epF8Fyy",
        "outputId": "be395a56-bb26-4d76-a568-4d7a358aa0c4"
      },
      "execution_count": 2,
      "outputs": [
        {
          "output_type": "stream",
          "name": "stdout",
          "text": [
            "replace /content/data_equalize/.DS_Store? [y]es, [n]o, [A]ll, [N]one, [r]ename: All\n",
            "All\n",
            "All\n",
            "All\n",
            "All\n"
          ]
        }
      ]
    },
    {
      "cell_type": "code",
      "source": [
        "import numpy as np \n",
        "import itertools\n",
        "import matplotlib.pyplot as plt\n",
        "from sklearn import metrics \n",
        "import cv2\n",
        "import tensorflow\n",
        "import keras\n",
        "from tensorflow.keras.utils import to_categorical, plot_model\n",
        "from keras import Model, callbacks\n",
        "from keras.layers import Input, Dense, add, Conv2D, MaxPool2D ,GlobalAveragePooling2D, Dropout, BatchNormalization\n",
        "from tensorflow.keras.layers import MaxPooling2D, Flatten\n",
        "import os"
      ],
      "metadata": {
        "id": "duzqaOd_8GZv"
      },
      "execution_count": 3,
      "outputs": []
    },
    {
      "cell_type": "code",
      "source": [
        "lungdir ='/content/data_equalize/Lung Segmentation Data'\n",
        "infectdir ='/content/data_equalize/Infection Segmentation Data'\n",
        "\n",
        "train= '/Train'\n",
        "test= '/Test'\n",
        "val= '/Val'\n",
        "\n",
        "covid= '/COVID-19/images'\n",
        "noncovid='/Non-COVID/images'\n",
        "normal= '/Normal/images'\n"
      ],
      "metadata": {
        "id": "bqGZmmay8Ghk"
      },
      "execution_count": 4,
      "outputs": []
    },
    {
      "cell_type": "code",
      "source": [
        "## creat data sets\n",
        "IMG_SIZE= 128\n",
        "def create_data() :\n",
        "  data=[]\n",
        "  for category in CATEGORIES :\n",
        "    path = os.path.join(DIRECTORY, category)\n",
        "    \n",
        "    class_num = CATEGORIES.index(category)\n",
        "    \n",
        "    for img in os.listdir(path):\n",
        "      \n",
        "      img_array = cv2.imread(os.path.join(path, img), cv2.IMREAD_GRAYSCALE)\n",
        "      new_array = cv2.resize(img_array, (IMG_SIZE, IMG_SIZE))\n",
        "      data.append([new_array, class_num])\n",
        "      \n",
        "  return data      \n",
        "\n",
        "  \n",
        "##. Train data\n",
        "DIRECTORY = lungdir+ train\n",
        "CATEGORIES = [\"COVID-19/images\",\"Non-COVID/images\",\"Normal/images\"]\n",
        "train_data = create_data()\n",
        "\n",
        "X = []\n",
        "y = []\n",
        "\n",
        "for features, label in train_data :\n",
        "    X.append(features)\n",
        "    y.append(label)\n",
        "\n",
        "X = np.array(X)\n",
        "X = X.reshape(-1, IMG_SIZE, IMG_SIZE, 1) \n",
        "X_train= X / 255\n",
        "\n",
        "y_train = to_categorical(y)\n",
        "\n",
        "##  Test data \n",
        "DIRECTORY = lungdir+ test\n",
        "CATEGORIES = [\"COVID-19/images\",\"Non-COVID/images\",\"Normal/images\"]\n",
        "test_data = create_data()\n",
        "\n",
        "X = []\n",
        "y = []\n",
        "\n",
        "for features, label in test_data :\n",
        "    X.append(features)\n",
        "    y.append(label)\n",
        "    \n",
        "X = np.array(X)\n",
        "X = X.reshape(-1, IMG_SIZE, IMG_SIZE, 1) \n",
        "X_test= X / 255\n",
        "\n",
        "y_test = to_categorical(y)\n"
      ],
      "metadata": {
        "id": "yL6q0b2wDd3n"
      },
      "execution_count": 5,
      "outputs": []
    },
    {
      "cell_type": "code",
      "source": [
        "##.  Convolutional Neural Network with Keras\n",
        "##. ##.  Resolving with the LeNet architecture\n",
        "\n",
        "inputs = Input(shape = (128, 128,1), name = \"Input\")\n",
        "\n",
        "conv_1 = Conv2D(filters = 30,                     \n",
        "                kernel_size = (5, 5),            \n",
        "                padding = 'valid',               \n",
        "                input_shape = (128, 128, 1),       \n",
        "                activation = 'relu')             \n",
        "\n",
        "max_pool_1 = MaxPooling2D(pool_size = (2, 2))\n",
        "\n",
        "conv_2 = Conv2D(filters = 16,                     \n",
        "                kernel_size = (5, 5),            \n",
        "                padding = 'valid',               \n",
        "                input_shape = (128, 128, 1),       \n",
        "                activation = 'relu')             \n",
        "\n",
        "max_pool_2 = MaxPooling2D(pool_size = (2, 2))\n",
        "\n",
        "\n",
        "\n",
        "flatten = Flatten()\n",
        "dropout = Dropout(rate = 0.2)\n",
        "\n",
        "dense_1 = Dense(units = 1024,\n",
        "                activation = 'relu')\n",
        "\n",
        "dense_2 = Dense(units = 512,\n",
        "                activation = 'relu')\n",
        "\n",
        "dense_3 = Dense(units = 3,\n",
        "                activation = 'softmax')\n",
        "x=conv_1(inputs)\n",
        "x=max_pool_1(x)\n",
        "x=conv_2(x)\n",
        "x=max_pool_2(x)\n",
        "\n",
        "\n",
        "\n",
        "x=dropout(x)\n",
        "x=flatten(x)\n",
        "x=dense_1(x)\n",
        "x=dense_2(x)\n",
        "outputs=dense_3(x)\n",
        "\n",
        "lenet = Model(inputs = inputs, outputs = outputs)\n",
        "print(lenet.summary())\n",
        "\n",
        "\n",
        "plot_model(lenet)\n",
        "\n",
        "plt.show()"
      ],
      "metadata": {
        "colab": {
          "base_uri": "https://localhost:8080/"
        },
        "id": "1nxne35KN33R",
        "outputId": "4bc4d958-e0e1-4f97-f1aa-ca9d32fb580c"
      },
      "execution_count": 11,
      "outputs": [
        {
          "output_type": "stream",
          "name": "stdout",
          "text": [
            "Model: \"model_2\"\n",
            "_________________________________________________________________\n",
            " Layer (type)                Output Shape              Param #   \n",
            "=================================================================\n",
            " Input (InputLayer)          [(None, 128, 128, 1)]     0         \n",
            "                                                                 \n",
            " conv2d_4 (Conv2D)           (None, 124, 124, 30)      780       \n",
            "                                                                 \n",
            " max_pooling2d_4 (MaxPooling  (None, 62, 62, 30)       0         \n",
            " 2D)                                                             \n",
            "                                                                 \n",
            " conv2d_5 (Conv2D)           (None, 58, 58, 16)        12016     \n",
            "                                                                 \n",
            " max_pooling2d_5 (MaxPooling  (None, 29, 29, 16)       0         \n",
            " 2D)                                                             \n",
            "                                                                 \n",
            " dropout_2 (Dropout)         (None, 29, 29, 16)        0         \n",
            "                                                                 \n",
            " flatten_2 (Flatten)         (None, 13456)             0         \n",
            "                                                                 \n",
            " dense_6 (Dense)             (None, 1024)              13779968  \n",
            "                                                                 \n",
            " dense_7 (Dense)             (None, 512)               524800    \n",
            "                                                                 \n",
            " dense_8 (Dense)             (None, 3)                 1539      \n",
            "                                                                 \n",
            "=================================================================\n",
            "Total params: 14,319,103\n",
            "Trainable params: 14,319,103\n",
            "Non-trainable params: 0\n",
            "_________________________________________________________________\n",
            "None\n"
          ]
        }
      ]
    },
    {
      "cell_type": "code",
      "source": [
        "plot_model(lenet)\n",
        "fig = plt.gcf()\n",
        "fig.savefig('model_lenet_128_1024_256.pdf')\n"
      ],
      "metadata": {
        "colab": {
          "base_uri": "https://localhost:8080/",
          "height": 34
        },
        "id": "92I9LFvmooPO",
        "outputId": "961af0fd-4035-4930-df05-e98635897491"
      },
      "execution_count": 7,
      "outputs": [
        {
          "output_type": "display_data",
          "data": {
            "text/plain": [
              "<Figure size 432x288 with 0 Axes>"
            ]
          },
          "metadata": {}
        }
      ]
    },
    {
      "cell_type": "code",
      "source": [
        "# Compilation\n",
        "lenet.compile(loss='categorical_crossentropy',  \n",
        "              optimizer='adam',                 \n",
        "              metrics=['accuracy']) "
      ],
      "metadata": {
        "id": "7RFH2BS1uyND"
      },
      "execution_count": 14,
      "outputs": []
    },
    {
      "cell_type": "code",
      "source": [
        "training_history_lenet = lenet.fit(X_train, y_train,\n",
        "                                   validation_split = 0.2,    \n",
        "                                   epochs = 10,               \n",
        "                                   batch_size = 200)          "
      ],
      "metadata": {
        "colab": {
          "base_uri": "https://localhost:8080/"
        },
        "id": "ByT41FzVB8aR",
        "outputId": "736d1a8a-9bac-4de1-f9de-4fe59af5a0b8"
      },
      "execution_count": null,
      "outputs": [
        {
          "output_type": "stream",
          "name": "stdout",
          "text": [
            "Epoch 1/10\n",
            "42/87 [=============>................] - ETA: 4:41 - loss: 1.0251 - accuracy: 0.4993"
          ]
        }
      ]
    },
    {
      "cell_type": "code",
      "source": [
        "#\n",
        "train_acc = training_history_lenet.history['accuracy']\n",
        "val_acc = training_history_lenet.history['val_accuracy']\n",
        "\n",
        "plt.xlabel('Epochs')\n",
        "plt.ylabel('Accuracy')\n",
        "\n",
        "plt.savefig('/content/trySaving.png', bbox_inches='tight')\n",
        "ax= plt.plot(np.arange(1 , 11, 1),\n",
        "         training_history_lenet.history['accuracy'],\n",
        "         label = 'Training Accuracy',\n",
        "         color = 'blue')\n",
        "\n",
        "ax+ plt.plot(np.arange(1 , 11, 1),\n",
        "         training_history_lenet.history['val_accuracy'], \n",
        "         label = 'Validation Accuracy',\n",
        "         color = 'red')\n",
        "\n",
        "plt.title('Convolutional Neural Network with Keras with the LeNet architecture')\n",
        "plt.legend()\n",
        "fig = plt.gcf()\n",
        "fig.savefig('fig_lenet_128_1024_256.pdf')\n",
        "plt.show()\n",
        "\n"
      ],
      "metadata": {
        "colab": {
          "base_uri": "https://localhost:8080/",
          "height": 295
        },
        "id": "HQnnL0RcJOCK",
        "outputId": "094a1b8e-1876-4c84-a10c-fc8158969c9f"
      },
      "execution_count": 14,
      "outputs": [
        {
          "output_type": "display_data",
          "data": {
            "text/plain": [
              "<Figure size 432x288 with 1 Axes>"
            ],
            "image/png": "[encoded data removed]"
          },
          "metadata": {
            "needs_background": "light"
          }
        }
      ]
    },
    {
      "cell_type": "code",
      "source": [
        "\n",
        "test_pred = lenet.predict(X_test)\n",
        "\n",
        "# Evaluation du modèle\n",
        "score = lenet.evaluate(X_test, y_test)\n",
        "print(score)\n",
        "\n",
        "test_pred_class = test_pred.argmax(axis = 1)\n",
        "y_test_class = y_test.argmax(axis = 1)\n",
        "\n",
        "print(metrics.classification_report(y_test_class, test_pred_class))"
      ],
      "metadata": {
        "colab": {
          "base_uri": "https://localhost:8080/",
          "height": 409
        },
        "id": "F14szSbnsd7F",
        "outputId": "23f8353c-7f10-4bd9-ba74-1497afb906eb"
      },
      "execution_count": 12,
      "outputs": [
        {
          "output_type": "stream",
          "name": "stdout",
          "text": [
            "213/213 [==============================] - 49s 229ms/step\n"
          ]
        },
        {
          "output_type": "error",
          "ename": "RuntimeError",
          "evalue": "ignored",
          "traceback": [
            "\u001b[0;31m---------------------------------------------------------------------------\u001b[0m",
            "\u001b[0;31mRuntimeError\u001b[0m                              Traceback (most recent call last)",
            "\u001b[0;32m<ipython-input-12-9bdcf697030e>\u001b[0m in \u001b[0;36m<module>\u001b[0;34m\u001b[0m\n\u001b[1;32m      2\u001b[0m \u001b[0;34m\u001b[0m\u001b[0m\n\u001b[1;32m      3\u001b[0m \u001b[0;31m# Evaluation du modèle\u001b[0m\u001b[0;34m\u001b[0m\u001b[0;34m\u001b[0m\u001b[0;34m\u001b[0m\u001b[0m\n\u001b[0;32m----> 4\u001b[0;31m \u001b[0mscore\u001b[0m \u001b[0;34m=\u001b[0m \u001b[0mlenet\u001b[0m\u001b[0;34m.\u001b[0m\u001b[0mevaluate\u001b[0m\u001b[0;34m(\u001b[0m\u001b[0mX_test\u001b[0m\u001b[0;34m,\u001b[0m \u001b[0my_test\u001b[0m\u001b[0;34m)\u001b[0m\u001b[0;34m\u001b[0m\u001b[0;34m\u001b[0m\u001b[0m\n\u001b[0m\u001b[1;32m      5\u001b[0m \u001b[0mprint\u001b[0m\u001b[0;34m(\u001b[0m\u001b[0mscore\u001b[0m\u001b[0;34m)\u001b[0m\u001b[0;34m\u001b[0m\u001b[0;34m\u001b[0m\u001b[0m\n\u001b[1;32m      6\u001b[0m \u001b[0;34m\u001b[0m\u001b[0m\n",
            "\u001b[0;32m/usr/local/lib/python3.8/dist-packages/keras/utils/traceback_utils.py\u001b[0m in \u001b[0;36merror_handler\u001b[0;34m(*args, **kwargs)\u001b[0m\n\u001b[1;32m     65\u001b[0m     \u001b[0;32mexcept\u001b[0m \u001b[0mException\u001b[0m \u001b[0;32mas\u001b[0m \u001b[0me\u001b[0m\u001b[0;34m:\u001b[0m  \u001b[0;31m# pylint: disable=broad-except\u001b[0m\u001b[0;34m\u001b[0m\u001b[0;34m\u001b[0m\u001b[0m\n\u001b[1;32m     66\u001b[0m       \u001b[0mfiltered_tb\u001b[0m \u001b[0;34m=\u001b[0m \u001b[0m_process_traceback_frames\u001b[0m\u001b[0;34m(\u001b[0m\u001b[0me\u001b[0m\u001b[0;34m.\u001b[0m\u001b[0m__traceback__\u001b[0m\u001b[0;34m)\u001b[0m\u001b[0;34m\u001b[0m\u001b[0;34m\u001b[0m\u001b[0m\n\u001b[0;32m---> 67\u001b[0;31m       \u001b[0;32mraise\u001b[0m \u001b[0me\u001b[0m\u001b[0;34m.\u001b[0m\u001b[0mwith_traceback\u001b[0m\u001b[0;34m(\u001b[0m\u001b[0mfiltered_tb\u001b[0m\u001b[0;34m)\u001b[0m \u001b[0;32mfrom\u001b[0m \u001b[0;32mNone\u001b[0m\u001b[0;34m\u001b[0m\u001b[0;34m\u001b[0m\u001b[0m\n\u001b[0m\u001b[1;32m     68\u001b[0m     \u001b[0;32mfinally\u001b[0m\u001b[0;34m:\u001b[0m\u001b[0;34m\u001b[0m\u001b[0;34m\u001b[0m\u001b[0m\n\u001b[1;32m     69\u001b[0m       \u001b[0;32mdel\u001b[0m \u001b[0mfiltered_tb\u001b[0m\u001b[0;34m\u001b[0m\u001b[0;34m\u001b[0m\u001b[0m\n",
            "\u001b[0;32m/usr/local/lib/python3.8/dist-packages/keras/engine/training.py\u001b[0m in \u001b[0;36m_assert_compile_was_called\u001b[0;34m(self)\u001b[0m\n\u001b[1;32m   3158\u001b[0m     \u001b[0;31m# (i.e. whether the model is built and its inputs/outputs are set).\u001b[0m\u001b[0;34m\u001b[0m\u001b[0;34m\u001b[0m\u001b[0;34m\u001b[0m\u001b[0m\n\u001b[1;32m   3159\u001b[0m     \u001b[0;32mif\u001b[0m \u001b[0;32mnot\u001b[0m \u001b[0mself\u001b[0m\u001b[0;34m.\u001b[0m\u001b[0m_is_compiled\u001b[0m\u001b[0;34m:\u001b[0m\u001b[0;34m\u001b[0m\u001b[0;34m\u001b[0m\u001b[0m\n\u001b[0;32m-> 3160\u001b[0;31m       raise RuntimeError('You must compile your model before '\n\u001b[0m\u001b[1;32m   3161\u001b[0m                          \u001b[0;34m'training/testing. '\u001b[0m\u001b[0;34m\u001b[0m\u001b[0;34m\u001b[0m\u001b[0m\n\u001b[1;32m   3162\u001b[0m                          'Use `model.compile(optimizer, loss)`.')\n",
            "\u001b[0;31mRuntimeError\u001b[0m: You must compile your model before training/testing. Use `model.compile(optimizer, loss)`."
          ]
        }
      ]
    },
    {
      "cell_type": "code",
      "source": [
        "cnf_matrix = metrics.confusion_matrix(y_test_class, test_pred_class)\n",
        "print(cnf_matrix)\n",
        "\n",
        "classes = range(0,3)\n",
        "\n",
        "plt.figure()\n",
        "\n",
        "plt.imshow(cnf_matrix, interpolation='nearest',cmap='Blues')\n",
        "plt.title(\"Matrice de confusion\")\n",
        "plt.colorbar()\n",
        "tick_marks = np.arange(len(classes))\n",
        "plt.xticks(tick_marks, classes)\n",
        "plt.yticks(tick_marks, classes)\n",
        "\n",
        "for i, j in itertools.product(range(cnf_matrix.shape[0]), range(cnf_matrix.shape[1])):\n",
        "    plt.text(j, i, cnf_matrix[i, j],\n",
        "             horizontalalignment=\"center\",\n",
        "             color=\"white\" if cnf_matrix[i, j] > ( cnf_matrix.max() / 2) else \"black\")\n",
        "\n",
        "plt.ylabel('Vrais labels')\n",
        "plt.xlabel('Labels prédits')\n",
        "plt.show()"
      ],
      "metadata": {
        "colab": {
          "base_uri": "https://localhost:8080/",
          "height": 347
        },
        "id": "62tfxS8xuvuB",
        "outputId": "0422e79f-6a9c-43b7-d136-d4438dd358f3"
      },
      "execution_count": 14,
      "outputs": [
        {
          "output_type": "stream",
          "name": "stdout",
          "text": [
            "[[ 338  471 1585]\n",
            " [ 744  125 1384]\n",
            " [ 728  297 1115]]\n"
          ]
        },
        {
          "output_type": "display_data",
          "data": {
            "text/plain": [
              "<Figure size 432x288 with 2 Axes>"
            ],
            "image/png": "[encoded data removed]"
          },
          "metadata": {
            "needs_background": "light"
          }
        }
      ]
    }
  ]
}