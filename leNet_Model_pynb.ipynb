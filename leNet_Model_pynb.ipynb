{
  "nbformat": 4,
  "nbformat_minor": 0,
  "metadata": {
    "colab": {
      "provenance": [],
      "authorship_tag": "ABX9TyMrw3OPtDzxCb+vA8KGmYTQ",
      "include_colab_link": true
    },
    "kernelspec": {
      "name": "python3",
      "display_name": "Python 3"
    },
    "language_info": {
      "name": "python"
    }
  },
  "cells": [
    {
      "cell_type": "markdown",
      "metadata": {
        "id": "view-in-github",
        "colab_type": "text"
      },
      "source": [
        "<a href=\"https://colab.research.google.com/github/luc-perso/covid-19-xRay/blob/main/leNet_Model_pynb.ipynb\" target=\"_parent\"><img src=\"https://colab.research.google.com/assets/colab-badge.svg\" alt=\"Open In Colab\"/></a>"
      ]
    },
    {
      "cell_type": "code",
      "execution_count": 1,
      "metadata": {
        "colab": {
          "base_uri": "https://localhost:8080/"
        },
        "id": "ZND5DCve8CJw",
        "outputId": "676873cc-1557-4fd9-c1c4-44db5b675594"
      },
      "outputs": [
        {
          "output_type": "stream",
          "name": "stdout",
          "text": [
            "Mounted at /content/drive\n"
          ]
        }
      ],
      "source": [
        "from google.colab import drive\n",
        "drive.mount('/content/drive', force_remount=True)"
      ]
    },
    {
      "cell_type": "code",
      "source": [
        "!unzip -q '/content/drive/MyDrive/data_equalize.zip' -d '/content/'"
      ],
      "metadata": {
        "id": "RxvY0epF8Fyy"
      },
      "execution_count": 2,
      "outputs": []
    },
    {
      "cell_type": "code",
      "source": [
        "import numpy as np \n",
        "import itertools\n",
        "import matplotlib.pyplot as plt\n",
        "from sklearn import metrics \n",
        "import cv2\n",
        "import tensorflow\n",
        "import keras\n",
        "from tensorflow.keras.utils import to_categorical, plot_model\n",
        "from keras import Model, callbacks\n",
        "from keras.layers import Input, Dense, add, Conv2D, MaxPool2D ,GlobalAveragePooling2D, Dropout, BatchNormalization\n",
        "from tensorflow.keras.layers import MaxPooling2D, Flatten\n",
        "import os"
      ],
      "metadata": {
        "id": "duzqaOd_8GZv"
      },
      "execution_count": 3,
      "outputs": []
    },
    {
      "cell_type": "code",
      "source": [
        "lungdir ='/content/data_equalize/Lung Segmentation Data'\n",
        "infectdir ='/content/data_equalize/Infection Segmentation Data'\n",
        "\n",
        "train= '/Train'\n",
        "test= '/Test'\n",
        "val= '/Val'\n",
        "\n",
        "covid= '/COVID-19/images'\n",
        "noncovid='/Non-COVID/images'\n",
        "normal= '/Normal/images'\n"
      ],
      "metadata": {
        "id": "bqGZmmay8Ghk"
      },
      "execution_count": 4,
      "outputs": []
    },
    {
      "cell_type": "code",
      "source": [
        "## creat data sets\n",
        "IMG_SIZE= 128\n",
        "def create_data() :\n",
        "  data=[]\n",
        "  for category in CATEGORIES :\n",
        "    path = os.path.join(DIRECTORY, category)\n",
        "    \n",
        "    class_num = CATEGORIES.index(category)\n",
        "    \n",
        "    for img in os.listdir(path):\n",
        "      \n",
        "      img_array = cv2.imread(os.path.join(path, img), cv2.IMREAD_GRAYSCALE)\n",
        "      new_array = cv2.resize(img_array, (IMG_SIZE, IMG_SIZE))\n",
        "      data.append([new_array, class_num])\n",
        "      \n",
        "  return data      \n",
        "\n",
        "  \n",
        "##. Train data\n",
        "DIRECTORY = lungdir+ train\n",
        "CATEGORIES = [\"COVID-19/images\",\"Non-COVID/images\",\"Normal/images\"]\n",
        "train_data = create_data()\n",
        "\n",
        "X = []\n",
        "y = []\n",
        "\n",
        "for features, label in train_data :\n",
        "    X.append(features)\n",
        "    y.append(label)\n",
        "\n",
        "X = np.array(X)\n",
        "X = X.reshape(-1, IMG_SIZE, IMG_SIZE, 1) \n",
        "X_train= X / 255\n",
        "\n",
        "y_train = to_categorical(y)\n",
        "\n",
        "##  Test data \n",
        "DIRECTORY = lungdir+ test\n",
        "CATEGORIES = [\"COVID-19/images\",\"Non-COVID/images\",\"Normal/images\"]\n",
        "test_data = create_data()\n",
        "\n",
        "X = []\n",
        "y = []\n",
        "\n",
        "for features, label in test_data :\n",
        "    X.append(features)\n",
        "    y.append(label)\n",
        "    \n",
        "X = np.array(X)\n",
        "X = X.reshape(-1, IMG_SIZE, IMG_SIZE, 1) \n",
        "X_test= X / 255\n",
        "\n",
        "y_test = to_categorical(y)\n"
      ],
      "metadata": {
        "id": "yL6q0b2wDd3n"
      },
      "execution_count": 5,
      "outputs": []
    },
    {
      "cell_type": "code",
      "source": [
        "##.  Convolutional Neural Network with Keras\n",
        "##. ##.  Resolving with the LeNet architecture\n",
        "\n",
        "inputs = Input(shape = (128, 128,1), name = \"Input\")\n",
        "\n",
        "conv_1 = Conv2D(filters = 30,                     \n",
        "                kernel_size = (5, 5),            \n",
        "                padding = 'valid',               \n",
        "                input_shape = (128, 128, 1),       \n",
        "                activation = 'relu')             \n",
        "\n",
        "max_pool_1 = MaxPooling2D(pool_size = (2, 2))\n",
        "\n",
        "conv_2 = Conv2D(filters = 16,                     \n",
        "                kernel_size = (5, 5),            \n",
        "                padding = 'valid',               \n",
        "                input_shape = (128, 128, 1),       \n",
        "                activation = 'relu')             \n",
        "\n",
        "max_pool_2 = MaxPooling2D(pool_size = (2, 2))            \n",
        "\n",
        "\n",
        "\n",
        "flatten = Flatten()\n",
        "dropout = Dropout(rate = 0.2)\n",
        "\n",
        "dense_1 = Dense(units = 1024,\n",
        "                activation = 'relu')\n",
        "\n",
        "dense_2 = Dense(units = 256,\n",
        "                activation = 'relu')\n",
        "\n",
        "#dense_3 = Dense(units = 256,\n",
        " #               activation = 'relu')\n",
        "\n",
        "dense_3 = Dense(units = 3,\n",
        "                activation = 'softmax')\n",
        "x=conv_1(inputs)\n",
        "x=max_pool_1(x)\n",
        "x=conv_2(x)\n",
        "x=max_pool_2(x)\n",
        "\n",
        "\n",
        "\n",
        "x=dropout(x)\n",
        "x=flatten(x)\n",
        "x=dense_1(x)\n",
        "x=dense_2(x)\n",
        "#x=dense_3(x)\n",
        "outputs=dense_3(x)\n",
        "\n",
        "lenet = Model(inputs = inputs, outputs = outputs)\n",
        "print(lenet.summary())\n",
        "\n",
        "\n",
        "plot_model(lenet)\n",
        "\n",
        "plt.show()"
      ],
      "metadata": {
        "colab": {
          "base_uri": "https://localhost:8080/"
        },
        "id": "1nxne35KN33R",
        "outputId": "2691d4fa-b17c-493c-b9fe-317093fac4ca"
      },
      "execution_count": 6,
      "outputs": [
        {
          "output_type": "stream",
          "name": "stdout",
          "text": [
            "Model: \"model\"\n",
            "_________________________________________________________________\n",
            " Layer (type)                Output Shape              Param #   \n",
            "=================================================================\n",
            " Input (InputLayer)          [(None, 128, 128, 1)]     0         \n",
            "                                                                 \n",
            " conv2d (Conv2D)             (None, 124, 124, 30)      780       \n",
            "                                                                 \n",
            " max_pooling2d (MaxPooling2D  (None, 62, 62, 30)       0         \n",
            " )                                                               \n",
            "                                                                 \n",
            " conv2d_1 (Conv2D)           (None, 58, 58, 16)        12016     \n",
            "                                                                 \n",
            " max_pooling2d_1 (MaxPooling  (None, 29, 29, 16)       0         \n",
            " 2D)                                                             \n",
            "                                                                 \n",
            " dropout (Dropout)           (None, 29, 29, 16)        0         \n",
            "                                                                 \n",
            " flatten (Flatten)           (None, 13456)             0         \n",
            "                                                                 \n",
            " dense (Dense)               (None, 1024)              13779968  \n",
            "                                                                 \n",
            " dense_1 (Dense)             (None, 256)               262400    \n",
            "                                                                 \n",
            " dense_2 (Dense)             (None, 3)                 771       \n",
            "                                                                 \n",
            "=================================================================\n",
            "Total params: 14,055,935\n",
            "Trainable params: 14,055,935\n",
            "Non-trainable params: 0\n",
            "_________________________________________________________________\n",
            "None\n"
          ]
        }
      ]
    },
    {
      "cell_type": "code",
      "source": [
        "plot_model(lenet)\n",
        "fig = plt.gcf()\n",
        "fig.savefig('model_lenet_1024_256.pdf')\n"
      ],
      "metadata": {
        "colab": {
          "base_uri": "https://localhost:8080/",
          "height": 34
        },
        "id": "92I9LFvmooPO",
        "outputId": "48a36bb9-9758-45d4-b92e-f7feb3469e40"
      },
      "execution_count": 7,
      "outputs": [
        {
          "output_type": "display_data",
          "data": {
            "text/plain": [
              "<Figure size 432x288 with 0 Axes>"
            ]
          },
          "metadata": {}
        }
      ]
    },
    {
      "cell_type": "code",
      "source": [
        "# Compilation\n",
        "lenet.compile(loss='categorical_crossentropy',  \n",
        "              optimizer='adam',                 \n",
        "              metrics=['accuracy']) "
      ],
      "metadata": {
        "id": "7RFH2BS1uyND"
      },
      "execution_count": 8,
      "outputs": []
    },
    {
      "cell_type": "code",
      "source": [
        "training_history_lenet = lenet.fit(X_train, y_train,\n",
        "                                   validation_split = 0.2,    \n",
        "                                   epochs = 10,               \n",
        "                                   batch_size = 200)          "
      ],
      "metadata": {
        "colab": {
          "base_uri": "https://localhost:8080/"
        },
        "id": "ByT41FzVB8aR",
        "outputId": "83f60f37-44bf-4c6a-f286-cf1ca7154580"
      },
      "execution_count": 9,
      "outputs": [
        {
          "output_type": "stream",
          "name": "stdout",
          "text": [
            "Epoch 1/10\n",
            "87/87 [==============================] - 611s 7s/step - loss: 0.9518 - accuracy: 0.5534 - val_loss: 1.0655 - val_accuracy: 0.5436\n",
            "Epoch 2/10\n",
            "87/87 [==============================] - 604s 7s/step - loss: 0.5914 - accuracy: 0.7576 - val_loss: 1.0729 - val_accuracy: 0.5457\n",
            "Epoch 3/10\n",
            "87/87 [==============================] - 576s 7s/step - loss: 0.4834 - accuracy: 0.8089 - val_loss: 0.9862 - val_accuracy: 0.5883\n",
            "Epoch 4/10\n",
            "87/87 [==============================] - 505s 6s/step - loss: 0.4312 - accuracy: 0.8247 - val_loss: 0.9266 - val_accuracy: 0.6486\n",
            "Epoch 5/10\n",
            "87/87 [==============================] - 511s 6s/step - loss: 0.3884 - accuracy: 0.8454 - val_loss: 0.7332 - val_accuracy: 0.7389\n",
            "Epoch 6/10\n",
            "87/87 [==============================] - 506s 6s/step - loss: 0.3420 - accuracy: 0.8647 - val_loss: 0.9147 - val_accuracy: 0.6383\n",
            "Epoch 7/10\n",
            "87/87 [==============================] - 510s 6s/step - loss: 0.3107 - accuracy: 0.8772 - val_loss: 0.8255 - val_accuracy: 0.6641\n",
            "Epoch 8/10\n",
            "87/87 [==============================] - 506s 6s/step - loss: 0.2598 - accuracy: 0.8945 - val_loss: 0.8658 - val_accuracy: 0.6491\n",
            "Epoch 9/10\n",
            "87/87 [==============================] - 509s 6s/step - loss: 0.2274 - accuracy: 0.9114 - val_loss: 0.8129 - val_accuracy: 0.7253\n",
            "Epoch 10/10\n",
            "87/87 [==============================] - 607s 7s/step - loss: 0.1915 - accuracy: 0.9230 - val_loss: 1.0608 - val_accuracy: 0.6429\n"
          ]
        }
      ]
    },
    {
      "cell_type": "code",
      "source": [
        "#\n",
        "train_acc = training_history_lenet.history['accuracy']\n",
        "val_acc = training_history_lenet.history['val_accuracy']\n",
        "\n",
        "plt.xlabel('Epochs')\n",
        "plt.ylabel('Accuracy')\n",
        "\n",
        "plt.plot(np.arange(1 , 11, 1),\n",
        "         training_history_lenet.history['accuracy'],\n",
        "         label = 'Training Accuracy',\n",
        "         color = 'blue')\n",
        "\n",
        "plt.plot(np.arange(1 , 11, 1),\n",
        "         training_history_lenet.history['val_accuracy'], \n",
        "         label = 'Validation Accuracy',\n",
        "         color = 'red')\n",
        "\n",
        "plt.title('Convolutional Neural Network with Keras with the LeNet architecture')\n",
        "plt.legend()\n",
        "fig = plt.gcf()\n",
        "fig.savefig('fig_lenet_1024_256.pdf')\n",
        "plt.show()\n",
        "\n"
      ],
      "metadata": {
        "colab": {
          "base_uri": "https://localhost:8080/",
          "height": 295
        },
        "id": "HQnnL0RcJOCK",
        "outputId": "d8a031c7-95e4-417a-e431-7832f8c1ae20"
      },
      "execution_count": 10,
      "outputs": [
        {
          "output_type": "display_data",
          "data": {
            "text/plain": [
              "<Figure size 432x288 with 1 Axes>"
            ],
            "image/png": "[encoded data removed]"
          },
          "metadata": {
            "needs_background": "light"
          }
        }
      ]
    },
    {
      "cell_type": "code",
      "source": [
        "\n",
        "test_pred = lenet.predict(X_test)\n",
        "\n",
        "# Evaluation du modèle\n",
        "score = lenet.evaluate(X_test, y_test)\n",
        "print(score)\n",
        "\n",
        "test_pred_class = test_pred.argmax(axis = 1)\n",
        "y_test_class = y_test.argmax(axis = 1)\n",
        "\n",
        "print(metrics.classification_report(y_test_class, test_pred_class))"
      ],
      "metadata": {
        "colab": {
          "base_uri": "https://localhost:8080/"
        },
        "id": "F14szSbnsd7F",
        "outputId": "8e04104d-e21a-4f22-d283-67389ad2991d"
      },
      "execution_count": 11,
      "outputs": [
        {
          "output_type": "stream",
          "name": "stdout",
          "text": [
            "213/213 [==============================] - 45s 210ms/step\n",
            "213/213 [==============================] - 46s 215ms/step - loss: 0.4760 - accuracy: 0.8359\n",
            "[0.4759901165962219, 0.8358626961708069]\n",
            "              precision    recall  f1-score   support\n",
            "\n",
            "           0       0.88      0.94      0.91      2394\n",
            "           1       0.75      0.87      0.81      2253\n",
            "           2       0.90      0.69      0.78      2140\n",
            "\n",
            "    accuracy                           0.84      6787\n",
            "   macro avg       0.84      0.83      0.83      6787\n",
            "weighted avg       0.84      0.84      0.83      6787\n",
            "\n"
          ]
        }
      ]
    },
    {
      "cell_type": "code",
      "source": [
        "cnf_matrix = metrics.confusion_matrix(y_test_class, test_pred_class)\n",
        "print(cnf_matrix)\n",
        "\n",
        "classes = range(0,3)\n",
        "\n",
        "plt.figure()\n",
        "\n",
        "plt.imshow(cnf_matrix, interpolation='nearest',cmap='Blues')\n",
        "plt.title(\"Matrice de confusion\")\n",
        "plt.colorbar()\n",
        "tick_marks = np.arange(len(classes))\n",
        "plt.xticks(tick_marks, classes)\n",
        "plt.yticks(tick_marks, classes)\n",
        "\n",
        "for i, j in itertools.product(range(cnf_matrix.shape[0]), range(cnf_matrix.shape[1])):\n",
        "    plt.text(j, i, cnf_matrix[i, j],\n",
        "             horizontalalignment=\"center\",\n",
        "             color=\"white\" if cnf_matrix[i, j] > ( cnf_matrix.max() / 2) else \"black\")\n",
        "\n",
        "plt.ylabel('Vrais labels')\n",
        "plt.xlabel('Labels prédits')\n",
        "plt.show()"
      ],
      "metadata": {
        "colab": {
          "base_uri": "https://localhost:8080/",
          "height": 347
        },
        "id": "62tfxS8xuvuB",
        "outputId": "01db0ff3-4b68-41bb-e671-25ee896a9762"
      },
      "execution_count": 12,
      "outputs": [
        {
          "output_type": "stream",
          "name": "stdout",
          "text": [
            "[[2239  108   47]\n",
            " [ 170 1958  125]\n",
            " [ 131  533 1476]]\n"
          ]
        },
        {
          "output_type": "display_data",
          "data": {
            "text/plain": [
              "<Figure size 432x288 with 2 Axes>"
            ],
            "image/png": "[encoded data removed]"
          },
          "metadata": {
            "needs_background": "light"
          }
        }
      ]
    }
  ]
}